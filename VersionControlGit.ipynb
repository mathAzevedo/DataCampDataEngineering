{
  "nbformat": 4,
  "nbformat_minor": 0,
  "metadata": {
    "colab": {
      "name": "VersionControlGit.ipynb",
      "provenance": [],
      "authorship_tag": "ABX9TyP9N+KEe5vTxLNOhwuAKvLQ",
      "include_colab_link": true
    },
    "kernelspec": {
      "name": "python3",
      "display_name": "Python 3"
    }
  },
  "cells": [
    {
      "cell_type": "markdown",
      "metadata": {
        "id": "view-in-github",
        "colab_type": "text"
      },
      "source": [
        "<a href=\"https://colab.research.google.com/github/mossytreesandferns/DataCampDataEngineering/blob/master/VersionControlGit.ipynb\" target=\"_parent\"><img src=\"https://colab.research.google.com/assets/colab-badge.svg\" alt=\"Open In Colab\"/></a>"
      ]
    },
    {
      "cell_type": "code",
      "metadata": {
        "id": "avJ_G5ZPjrq5",
        "colab_type": "code",
        "colab": {
          "base_uri": "https://localhost:8080/",
          "height": 122
        },
        "outputId": "a01c2395-dae3-49e4-8088-9f1c19204870"
      },
      "source": [
        "#Mount my drive- run the code, go to the link, accept.\n",
        "from google.colab import drive\n",
        "drive.mount('/content/gdrive')"
      ],
      "execution_count": 1,
      "outputs": [
        {
          "output_type": "stream",
          "text": [
            "Go to this URL in a browser: https://accounts.google.com/o/oauth2/auth?client_id=947318989803-6bn6qk8qdgf4n4g3pfee6491hc0brc4i.apps.googleusercontent.com&redirect_uri=urn%3aietf%3awg%3aoauth%3a2.0%3aoob&response_type=code&scope=email%20https%3a%2f%2fwww.googleapis.com%2fauth%2fdocs.test%20https%3a%2f%2fwww.googleapis.com%2fauth%2fdrive%20https%3a%2f%2fwww.googleapis.com%2fauth%2fdrive.photos.readonly%20https%3a%2f%2fwww.googleapis.com%2fauth%2fpeopleapi.readonly\n",
            "\n",
            "Enter your authorization code:\n",
            "··········\n",
            "Mounted at /content/gdrive\n"
          ],
          "name": "stdout"
        }
      ]
    },
    {
      "cell_type": "code",
      "metadata": {
        "id": "g_0Eylrsjvv9",
        "colab_type": "code",
        "colab": {
          "base_uri": "https://localhost:8080/",
          "height": 34
        },
        "outputId": "3a16d6d6-18ac-4ee3-99e4-f595050b01fe"
      },
      "source": [
        "#Change working directory to make it easier to access the files\n",
        "import os\n",
        "os.chdir(\"/content/gdrive/My Drive/DCCleaningData/\")\n",
        "os.getcwd()"
      ],
      "execution_count": 2,
      "outputs": [
        {
          "output_type": "execute_result",
          "data": {
            "text/plain": [
              "'/content/gdrive/My Drive/DCCleaningData'"
            ]
          },
          "metadata": {
            "tags": []
          },
          "execution_count": 2
        }
      ]
    },
    {
      "cell_type": "markdown",
      "metadata": {
        "id": "tZGSpSMnjwW7",
        "colab_type": "text"
      },
      "source": [
        "# Basic Workflow"
      ]
    },
    {
      "cell_type": "markdown",
      "metadata": {
        "id": "6vBodPzEk6eo",
        "colab_type": "text"
      },
      "source": [
        "git can: store all versions changes, notice conflicts between other programs, synchronize different people's work. <br>\n",
        ".git file in root directory is git's information file about work.  Don't ever edit or delete a git file. <br>\n",
        "git status - cmd for checking files that have been modified but not pushed, also shows which are in staging area <br>\n",
        "staging area is for putting files before pushing them (commiting)<br>\n",
        "git diff - all changes in a repository <br>\n",
        "git diff filename - changes to file since last saves<br>\n",
        "git diff dirname - changes to files in a directory<br>\n",
        "\n",
        "A diff is a formatted display of the differences between two sets of files. Git displays diffs like this: A diff is a formatted display of the differences between two sets of files. Git displays diffs like this:A diff is a formatted display of the differences between two sets of files. Git displays diffs like this:<br>\n",
        "<br>\n",
        "diff --git a/report.txt b/report.txt<br>\n",
        "index e713b17..4c0742a 100644<br>\n",
        "--- a/report.txt<br>\n",
        "+++ b/report.txt<br>\n",
        "@@ -1,4 +1,5 @@<br>\n",
        "-# Seasonal Dental Surgeries 2017-18<br>\n",
        "+# Seasonal Dental Surgeries (2017) 2017-18<br>\n",
        "+# TODO: write new summary<br>\n",
        "<br>\n",
        "This shows:<br>\n",
        "<br>\n",
        "The command used to produce the output (in this case, diff --git). In it, a and b are placeholders meaning \"the first version\" and \"the second version\".\n",
        "An index line showing keys into Git's internal database of changes. We will explore these in the next chapter.<br>\n",
        "--- a/report.txt and +++ b/report.txt, wherein lines being removed are prefixed with - and lines being added are prefixed with +.<br>\n",
        "A line starting with @@ that tells where the changes are being made. The pairs of numbers are start line and number of lines (in that section of the file where changes occurred). This diff output indicates changes starting at line 1, with 5 lines where there were once 4.<br>\n",
        "A line-by-line listing of the changes with - showing deletions and + showing additions (we have also configured Git to show deletions in red and additions in green). Lines that haven't changed are sometimes shown before and after the ones that have in order to give context; when they appear, they don't have either + or - in front of them.<br>\n",
        "<br>\n",
        "\n",
        "git add filename - adds file to staging area <br>\n",
        "git diff -r - compare to a revision <br>\n",
        "git diff -r HEAD - compare to the most recent commit <br>\n",
        "git diff -r HEAD pathtofile -c - compare to a single file or directory <br>\n",
        "<br>\n",
        "Open nano to edit files in place:<br>\n",
        "nano filename <br>\n",
        "<br>\n",
        "Ctrl-K: delete a line.<br>\n",
        "Ctrl-U: un-delete a line.<br>\n",
        "Ctrl-O: save the file ('O' stands for 'output').<br>\n",
        "Ctrl-X: exit the editor.<br>\n",
        "<br>\n",
        "git commit -- saving changes in the staging area <br>\n",
        "git commit -m 'descriptive message of changes'-- default way of commiting <br>\n",
        "git commit --amend -m 'change to message' - way to change faulty message <br>\n",
        "<br>\n",
        "git log - shows log of repositories history, space to go to next page 'q' to quit<br>\n",
        "git log path/path - get the log of a specific file or dir <br>\n",
        "git commit -- running this without -m will prompt an editor for you to type in a detailed message for bigger changes.  Concise, descriptive changes are appreciated by team members. <br>\n",
        "\n"
      ]
    },
    {
      "cell_type": "markdown",
      "metadata": {
        "id": "KqHw90EE0MIK",
        "colab_type": "text"
      },
      "source": [
        "\n",
        "### Repositories"
      ]
    },
    {
      "cell_type": "markdown",
      "metadata": {
        "id": "8dgmbAEQ98gZ",
        "colab_type": "text"
      },
      "source": [
        "![image.png](data:image/png;base64,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)"
      ]
    },
    {
      "cell_type": "markdown",
      "metadata": {
        "id": "kRxp1z3--DRf",
        "colab_type": "text"
      },
      "source": [
        "Commits have a hash id that is 40 characters long and 6-8 of the characters are enough to id commits most of the time. Git uses commit hash's for individual files and dirs lets you know when things haven't changed. <br>\n",
        "<br>\n",
        "git show (6-8hash characters) - get details of particular commits, shows log and diff details <br>\n",
        "<br>\n",
        "Hashes are like absolute paths.  Git's equivalent of a relative path is HEAD. eg git show HEAD~1 - the one before th most recent commit.  git show HEAD~2 the one before that. <br>\n",
        "<br>\n",
        "git show HEAD - show most recent commit <br>\n",
        "git show HEAD~1 - show next to last commit <br>\n",
        "<br>\n",
        "git log displays the overall history of a project or file, but Git can give even more information. The command git annotate file shows who made the last change to each line of a file and when. For example, the first three lines of output from git annotate report.txt look something like this:<br>\n",
        "<br>\n",
        "git annotate filename - shows author and time details of changes of files <br>\n",
        "\n",
        "<br>\n",
        "04307054        (  Rep Loop     2017-09-20 13:42:26 +0000       1)# Seasonal Dental Surgeries (2017) 2017-18 <br>\n",
        "5e6f92b6        (  Rep Loop     2017-09-20 13:42:26 +0000       2)<br>\n",
        "5e6f92b6        (  Rep Loop     2017-09-20 13:42:26 +0000       3)TODO: write executive summary.<br>\n",
        "<br>\n",
        "Each line contains five elements, with elements two to four enclosed in parentheses. When inspecting the first line, we see:<br>\n",
        "<br>\n",
        "The first eight digits of the hash, 04307054.<br>\n",
        "The author, Rep Loop.<br>\n",
        "The time of the commit, 2017-09-20 13:42:26 +0000.<br>\n",
        "The line number, 1.<br>\n",
        "The contents of the line, # Seasonal Dental Surgeries (2017) 2017-18.<br>\n",
        "<br>\n",
        "<br>\n",
        "git diff hashid1 hashid2 - shows difference between two id's. eg git diff HEAD HEAD~1 <br>\n",
        "<br>\n",
        "git status - check untracked files <br>\n",
        "<br>\n",
        "TELLING git to ignore certain files:<br>\n",
        "Create a file in the root directory called .gitignore.  Add key words and patterns for git to ignore. eg:<br>\n",
        "star - git will ignore any files with the work 'star' in it. <br>\n",
        "*.fmt - git will ignore any fmt files. <br>\n",
        "pdf refers to file name <br>\n",
        "*.pdf refers to file type <br>\n",
        "git clean -n will show you a list of files that are in the repository, but whose history Git is not currently tracking <br>\n",
        "git clean -f will then delete those files <br>\n",
        "<br>\n",
        "git config --list --system  change settings for all users on a computer <br>\n",
        "git config --list --global  '''''''             for every project <br>\n",
        "git config --list --local    '   '   '   ''   for one specific project <br>\n",
        "local > global > system <br>\n",
        "<br>\n",
        "IT'S A GOOD IDEA TO SET EMAIL AND NAME SETTINGS <br> \n",
        "git config --global user.name name <br> \n",
        "git config --global user.email email@domain.com <br> \n"
      ]
    },
    {
      "cell_type": "markdown",
      "metadata": {
        "id": "kWbX-wIDh47H",
        "colab_type": "text"
      },
      "source": [
        "### Undoing Changes"
      ]
    },
    {
      "cell_type": "markdown",
      "metadata": {
        "id": "3M5UMqn1h7TQ",
        "colab_type": "text"
      },
      "source": [
        "git reset HEAD - unstage recently added files <br>\n",
        "It's best practice to use git add a lot to stage changes the way you would use cmd s to safe files often. Repeating git add saves in the staging area is analagous to cmd s saving in a hard drive.<br> \n",
        "git checkout -- filename  - undoes recent changes to a file.  permanent. <br>\n",
        "<br>\n",
        "git reset HEAD path/to/file<br>\n",
        "git checkout -- path/to/file--> using these two commands together takes a file out of the staging area and undoes the changes to the file at the same time. <br>\n",
        "<br>\n",
        "git checkout can also be used to restore old commits.<br>\n",
        "git checkout commithash# filename  - restores to this commit which is saved as a new commit. <br>\n",
        "git log -4 filename - shows last 4 commits to that file. <br>\n",
        "cat filename = shows contents fo file <br>\n",
        "git reset HEAD dirname  - unstages to all files in a directory <br>\n",
        "git reset - unstages all files <br>\n",
        "git checkout -- dirname  - restores all files in a directory.<br>\n",
        "git checkout -- .  - restores all files. <br>\n",
        "\n",
        "\n"
      ]
    },
    {
      "cell_type": "markdown",
      "metadata": {
        "id": "LZWvsrrGoXjV",
        "colab_type": "text"
      },
      "source": [
        "### Working with Branches"
      ]
    },
    {
      "cell_type": "markdown",
      "metadata": {
        "id": "IY73Tm8woZ6h",
        "colab_type": "text"
      },
      "source": [
        "git branch - lists all branches in repository.  Branch you are in will be green with an asterisk in front of it. <br>\n",
        "git diff branch-1..branch-2 shows the difference between two branches.<br>\n",
        "git checkout branch  - switches to branch <br>\n",
        "git rm filename - removes a file from a branch <br>\n",
        "git checkout -b branch-name - creates new branch and switches to it in one step . The contents of the new branch are initially identical to the contents of the original. Once you start making changes, they only affect the new branch.<br>\n",
        "git merge source destination == git merge branch1 branch2, often master is the destination and source is where changes are made. Also often HEAD is the destination because with many people working you will merge into the current branch routinely. <br>\n",
        "<br>\n",
        "If you merge two branches and then check differences git diff br1 br2, then the conflicting lines in files can be seen. <br>\n",
        "<br>\n",
        "run git status to see which files have conflicts. It will say which files have conflicts. Run git status next. Next nano filename and remove all lines with errors includint the error indicators ===== and >>>>>><br>\n",
        "\n",
        "\n"
      ]
    },
    {
      "cell_type": "markdown",
      "metadata": {
        "id": "VKWDDVyX8Nl4",
        "colab_type": "text"
      },
      "source": [
        "### Collaborating"
      ]
    },
    {
      "cell_type": "markdown",
      "metadata": {
        "id": "kxRLXPt-8NrM",
        "colab_type": "text"
      },
      "source": [
        "git init repository/projectname - created a new repository <br>\n",
        "Don't creat a repository inside another (nested repositories) <br>\n",
        "git init path/to/project - turning a project into a repository <br>\n",
        "git clone url - clone an existing repository complete with history/versions eg https://github.com/datacamp/project.git<br>\n",
        "Git uses the name of the original repository as the name of the root directory of the clone <br>\n",
        "To change the name of the clone root directory: <br>\n",
        "git clone url newrootdirectoryname <br>\n",
        "<br>\n",
        "When you a clone a repository, Git remembers where the original repository was. It does this by storing a remote in the new repository's configuration. A remote is like a browser bookmark with a name and a URL.<br>\n",
        "If you use an online git repository hosting service like GitHub or Bitbucket, a common task would be that you clone a repository from that site to work locally on your computer. Then the copy on the website is the remote.<br>\n",
        "<br>\n",
        "If you are in a repository, you can list the names of its remotes using git remote.<br>\n",
        "<br>\n",
        "If you want more information, you can use git remote -v (for \"verbose\"), which shows the remote's URLs. Note that \"URLs\" is plural: it's possible for a remote to have several URLs associated with it for different purposes, though in practice each remote is almost always paired with just one URL.<br>\n",
        "<br>\n",
        "git remote add remote-name URL - add a remote repository <br>\n",
        "git remote rm remote-name - remove a remote repository <br>\n",
        "<br>\n",
        "Recall that the remote repository is often a repository in an online hosting service like GitHub. A typical workflow is that you pull in your collaborators' work from the remote repository so you have the latest version of everything, do some work yourself, then push your work back to the remote so that your collaborators have access to it.\n",
        "<br>\n",
        "git pull remoterepositoryname remotebranchname - pulls latest changes from remote branch remotebranchname and merges into your current branch<br>\n",
        "<br>\n",
        "Git won't let you pull changes if you have unsaved changes in your local repository. The fix is simple: either commit (git commit) your local changes or revert them(git checkout), and then try to pull again.<br>\n",
        "<br>\n",
        "git push reponame branchname - pushing changes to repository <br>\n",
        "workflow: git add--> git commit -m 'message' --> git push reponame branchname <br>\n",
        "<br>\n",
        "Git won't allow you to overwrite someone else's work.<br>\n",
        "You have to merge (git pull reponame branchname) the contents of the remote repo into your own work before you can push it.<br>\n",
        "\n"
      ]
    },
    {
      "cell_type": "code",
      "metadata": {
        "id": "Z_IOug4Djwxv",
        "colab_type": "code",
        "colab": {}
      },
      "source": [
        ""
      ],
      "execution_count": 0,
      "outputs": []
    }
  ]
}