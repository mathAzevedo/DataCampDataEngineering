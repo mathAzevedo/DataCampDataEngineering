{
  "nbformat": 4,
  "nbformat_minor": 0,
  "metadata": {
    "colab": {
      "name": "SoftwareEngineeringforDataScientists.ipynb",
      "provenance": [],
      "authorship_tag": "ABX9TyM2Ta1WX3jH+gDfsOOb3XYU",
      "include_colab_link": true
    },
    "kernelspec": {
      "name": "python3",
      "display_name": "Python 3"
    }
  },
  "cells": [
    {
      "cell_type": "markdown",
      "metadata": {
        "id": "view-in-github",
        "colab_type": "text"
      },
      "source": [
        "<a href=\"https://colab.research.google.com/github/mossytreesandferns/DataCampDataEngineering/blob/master/SoftwareEngineeringforDataScientists.ipynb\" target=\"_parent\"><img src=\"https://colab.research.google.com/assets/colab-badge.svg\" alt=\"Open In Colab\"/></a>"
      ]
    },
    {
      "cell_type": "code",
      "metadata": {
        "id": "6QSiL9sAsUaH",
        "colab_type": "code",
        "outputId": "500529bb-fd1a-4f42-9528-b3bdfd613f89",
        "colab": {
          "base_uri": "https://localhost:8080/",
          "height": 122
        }
      },
      "source": [
        "#Mount my drive- run the code, go to the link, accept.\n",
        "from google.colab import drive\n",
        "drive.mount('/content/gdrive')"
      ],
      "execution_count": 1,
      "outputs": [
        {
          "output_type": "stream",
          "text": [
            "Go to this URL in a browser: https://accounts.google.com/o/oauth2/auth?client_id=947318989803-6bn6qk8qdgf4n4g3pfee6491hc0brc4i.apps.googleusercontent.com&redirect_uri=urn%3aietf%3awg%3aoauth%3a2.0%3aoob&response_type=code&scope=email%20https%3a%2f%2fwww.googleapis.com%2fauth%2fdocs.test%20https%3a%2f%2fwww.googleapis.com%2fauth%2fdrive%20https%3a%2f%2fwww.googleapis.com%2fauth%2fdrive.photos.readonly%20https%3a%2f%2fwww.googleapis.com%2fauth%2fpeopleapi.readonly\n",
            "\n",
            "Enter your authorization code:\n",
            "··········\n",
            "Mounted at /content/gdrive\n"
          ],
          "name": "stdout"
        }
      ]
    },
    {
      "cell_type": "code",
      "metadata": {
        "id": "krEd9Huns1FU",
        "colab_type": "code",
        "outputId": "31d51216-7932-453f-8a66-1f542ade76a0",
        "colab": {
          "base_uri": "https://localhost:8080/",
          "height": 34
        }
      },
      "source": [
        "#Change working directory to make it easier to access the files\n",
        "import os\n",
        "os.chdir(\"/content/gdrive/My Drive/DCCleaningData/\")\n",
        "os.getcwd()"
      ],
      "execution_count": 2,
      "outputs": [
        {
          "output_type": "execute_result",
          "data": {
            "text/plain": [
              "'/content/gdrive/My Drive/DCCleaningData'"
            ]
          },
          "metadata": {
            "tags": []
          },
          "execution_count": 2
        }
      ]
    },
    {
      "cell_type": "markdown",
      "metadata": {
        "id": "KVgQm4z-s1Q7",
        "colab_type": "text"
      },
      "source": [
        "# Software Engineering and Data Science"
      ]
    },
    {
      "cell_type": "markdown",
      "metadata": {
        "id": "TE7IHhprs2IH",
        "colab_type": "text"
      },
      "source": [
        "### Python, Data Science, and Software Engineering"
      ]
    },
    {
      "cell_type": "code",
      "metadata": {
        "id": "WvyOT2pEs2Z2",
        "colab_type": "code",
        "colab": {}
      },
      "source": [
        "# Modularity, Documentation, Testing, VERSION CONTROL"
      ],
      "execution_count": 0,
      "outputs": []
    },
    {
      "cell_type": "code",
      "metadata": {
        "id": "dLw7ljRdxsOz",
        "colab_type": "code",
        "outputId": "f4ffb938-8783-4511-c69c-4d944bde3a10",
        "colab": {
          "base_uri": "https://localhost:8080/",
          "height": 1000
        }
      },
      "source": [
        "# PyPi platfotm for python packages\n",
        "\n",
        "# Use help() to read documentation of builtin functions\n",
        "# numpy function busdat_count()\n",
        "\n",
        "# pip install package\n",
        "\n",
        "import numpy as np\n",
        "\n",
        "help(np.busday_count)\n"
      ],
      "execution_count": 0,
      "outputs": [
        {
          "output_type": "stream",
          "text": [
            "Help on function busday_count in module numpy:\n",
            "\n",
            "busday_count(...)\n",
            "    busday_count(begindates, enddates, weekmask='1111100', holidays=[], busdaycal=None, out=None)\n",
            "    \n",
            "    Counts the number of valid days between `begindates` and\n",
            "    `enddates`, not including the day of `enddates`.\n",
            "    \n",
            "    If ``enddates`` specifies a date value that is earlier than the\n",
            "    corresponding ``begindates`` date value, the count will be negative.\n",
            "    \n",
            "    .. versionadded:: 1.7.0\n",
            "    \n",
            "    Parameters\n",
            "    ----------\n",
            "    begindates : array_like of datetime64[D]\n",
            "        The array of the first dates for counting.\n",
            "    enddates : array_like of datetime64[D]\n",
            "        The array of the end dates for counting, which are excluded\n",
            "        from the count themselves.\n",
            "    weekmask : str or array_like of bool, optional\n",
            "        A seven-element array indicating which of Monday through Sunday are\n",
            "        valid days. May be specified as a length-seven list or array, like\n",
            "        [1,1,1,1,1,0,0]; a length-seven string, like '1111100'; or a string\n",
            "        like \"Mon Tue Wed Thu Fri\", made up of 3-character abbreviations for\n",
            "        weekdays, optionally separated by white space. Valid abbreviations\n",
            "        are: Mon Tue Wed Thu Fri Sat Sun\n",
            "    holidays : array_like of datetime64[D], optional\n",
            "        An array of dates to consider as invalid dates.  They may be\n",
            "        specified in any order, and NaT (not-a-time) dates are ignored.\n",
            "        This list is saved in a normalized form that is suited for\n",
            "        fast calculations of valid days.\n",
            "    busdaycal : busdaycalendar, optional\n",
            "        A `busdaycalendar` object which specifies the valid days. If this\n",
            "        parameter is provided, neither weekmask nor holidays may be\n",
            "        provided.\n",
            "    out : array of int, optional\n",
            "        If provided, this array is filled with the result.\n",
            "    \n",
            "    Returns\n",
            "    -------\n",
            "    out : array of int\n",
            "        An array with a shape from broadcasting ``begindates`` and ``enddates``\n",
            "        together, containing the number of valid days between\n",
            "        the begin and end dates.\n",
            "    \n",
            "    See Also\n",
            "    --------\n",
            "    busdaycalendar: An object that specifies a custom set of valid days.\n",
            "    is_busday : Returns a boolean array indicating valid days.\n",
            "    busday_offset : Applies an offset counted in valid days.\n",
            "    \n",
            "    Examples\n",
            "    --------\n",
            "    >>> # Number of weekdays in January 2011\n",
            "    ... np.busday_count('2011-01', '2011-02')\n",
            "    21\n",
            "    >>> # Number of weekdays in 2011\n",
            "    >>> np.busday_count('2011', '2012')\n",
            "    260\n",
            "    >>> # Number of Saturdays in 2011\n",
            "    ... np.busday_count('2011', '2012', weekmask='Sat')\n",
            "    53\n",
            "\n"
          ],
          "name": "stdout"
        }
      ]
    },
    {
      "cell_type": "markdown",
      "metadata": {
        "id": "k7TRHs8w3KF0",
        "colab_type": "text"
      },
      "source": [
        "#### Write/include documentation for the classes, methods, and packages written."
      ]
    },
    {
      "cell_type": "code",
      "metadata": {
        "id": "ukVY3qIJ1cBg",
        "colab_type": "code",
        "colab": {}
      },
      "source": [
        "# load the Counter function into our environment\n",
        "from collections import Counter\n",
        "\n",
        "# View the documentation for Counter.most_common\n",
        "help(Counter.most_common)\n",
        "\n",
        "# use Counter to find the top 5 most common words\n",
        "top_5_words = Counter(words).most_common(5) # words was a preloaded list\n",
        "\n",
        "# display the top 5 most common words\n",
        "print(top_5_words)"
      ],
      "execution_count": 0,
      "outputs": []
    },
    {
      "cell_type": "markdown",
      "metadata": {
        "id": "HqiCujxQ4kVD",
        "colab_type": "text"
      },
      "source": [
        "### Conventions and PEP8"
      ]
    },
    {
      "cell_type": "code",
      "metadata": {
        "id": "IAbRqJOg4m1V",
        "colab_type": "code",
        "outputId": "0073a917-ca32-4373-d66e-fef4741a268b",
        "colab": {
          "base_uri": "https://localhost:8080/",
          "height": 122
        }
      },
      "source": [
        "# PEP8 is the defacto style guide for Python code\n",
        "\n",
        "#Import packages at top of file\n",
        "# Have consistent indentation\n",
        "# Have line breaks\n",
        "\n",
        "!pip install pycodestyle # to check code violations in files"
      ],
      "execution_count": 0,
      "outputs": [
        {
          "output_type": "stream",
          "text": [
            "Collecting pycodestyle\n",
            "\u001b[?25l  Downloading https://files.pythonhosted.org/packages/0e/0c/04a353e104d2f324f8ee5f4b32012618c1c86dd79e52a433b64fceed511b/pycodestyle-2.5.0-py2.py3-none-any.whl (51kB)\n",
            "\r\u001b[K     |██████▍                         | 10kB 18.0MB/s eta 0:00:01\r\u001b[K     |████████████▉                   | 20kB 3.1MB/s eta 0:00:01\r\u001b[K     |███████████████████▏            | 30kB 3.5MB/s eta 0:00:01\r\u001b[K     |█████████████████████████▋      | 40kB 2.9MB/s eta 0:00:01\r\u001b[K     |████████████████████████████████| 51kB 2.5MB/s \n",
            "\u001b[?25hInstalling collected packages: pycodestyle\n",
            "Successfully installed pycodestyle-2.5.0\n"
          ],
          "name": "stdout"
        }
      ]
    },
    {
      "cell_type": "code",
      "metadata": {
        "id": "W0StPmLB50lI",
        "colab_type": "code",
        "colab": {}
      },
      "source": [
        "import pycodestyle"
      ],
      "execution_count": 0,
      "outputs": []
    },
    {
      "cell_type": "code",
      "metadata": {
        "id": "fNCdcDxq6wTq",
        "colab_type": "code",
        "colab": {}
      },
      "source": [
        "# Example\n",
        "\n",
        "# Import needed package\n",
        "import pycodestyle\n",
        "\n",
        "# Create a StyleGuide instance\n",
        "style_checker = pycodestyle.StyleGuide()\n",
        "\n",
        "# Run PEP 8 check on multiple files\n",
        "result = style_checker.check_files(['nay_pep8.py','yay_pep8.py'])\n",
        "\n",
        "# Print result of PEP 8 style check\n",
        "print(result.messages)"
      ],
      "execution_count": 0,
      "outputs": []
    },
    {
      "cell_type": "markdown",
      "metadata": {
        "id": "VQpKtP0M7Vfl",
        "colab_type": "text"
      },
      "source": [
        "my_script.py:2:15: E261 at least two spaces before inline comment <br>\n",
        "my_script.py:5:16: E262 inline comment should start with '# '<br>\n",
        "my_script.py:11:1: E265 block comment should start with '# '<br>\n",
        "my_script.py:13:2: E114 indentation is not a multiple of four (comment)<br>\n",
        "my_script.py:13:2: E116 unexpected indentation (comment)<br>\n",
        "my_script.py:2:2:  E225 missing whitespace around operator<br>\n",
        "my_script.py:2:7:  E231 missing whitespace after ','<br>\n",
        "my_script.py:2:9:  E231 missing whitespace after ','<br>\n",
        "my_script.py:5:7:  E201 whitespace after '('<br>\n",
        "my_script.py:5:11: E202 whitespace before ')'<br>"
      ]
    },
    {
      "cell_type": "markdown",
      "metadata": {
        "id": "HHYdxYZmDlbs",
        "colab_type": "text"
      },
      "source": [
        "# Writing a Python Module"
      ]
    },
    {
      "cell_type": "markdown",
      "metadata": {
        "id": "TkwBW3a68GrU",
        "colab_type": "text"
      },
      "source": [
        "### Writing your first package"
      ]
    },
    {
      "cell_type": "markdown",
      "metadata": {
        "id": "7XQyThEM9MJW",
        "colab_type": "text"
      },
      "source": [
        "Package: a directory and a python file.  Short, lowercase name, underscores only if it improves readability.  First file is always __init__.py.  Scripty you work with is located in the *same directory* as the package, *adjacent* to it."
      ]
    },
    {
      "cell_type": "markdown",
      "metadata": {
        "id": "P2VXGwqn_xtq",
        "colab_type": "text"
      },
      "source": [
        "### Adding Functionality to Packages"
      ]
    },
    {
      "cell_type": "markdown",
      "metadata": {
        "id": "T5blY7hMEODS",
        "colab_type": "text"
      },
      "source": [
        "Next file is utils.py, submodule."
      ]
    },
    {
      "cell_type": "code",
      "metadata": {
        "id": "mVh_yZgI7h-8",
        "colab_type": "code",
        "colab": {}
      },
      "source": [
        "import package_name.utils  # package_name.submodule_name\n",
        "\n",
        "package_name.utils.function_name(*args, **kwargs)  # package_name.submodule_name.function_name(*args, **kwargs)"
      ],
      "execution_count": 0,
      "outputs": []
    },
    {
      "cell_type": "code",
      "metadata": {
        "id": "xSDt3nr6FYnf",
        "colab_type": "code",
        "colab": {}
      },
      "source": [
        "# Using init file for easier importing-work in __init__.py file - Relative Import Syntax\n",
        "\n",
        "from .utils import function_name\n",
        "import package_name\n",
        "\n",
        "my_package.function_name(*args, **kwargs) # Best practice to import key functionality in init file\n",
        "\n"
      ],
      "execution_count": 0,
      "outputs": []
    },
    {
      "cell_type": "markdown",
      "metadata": {
        "id": "9NGtTZLcGWdG",
        "colab_type": "text"
      },
      "source": [
        "Subpackages, be aware of"
      ]
    },
    {
      "cell_type": "markdown",
      "metadata": {
        "id": "G0HyRCLAI6tM",
        "colab_type": "text"
      },
      "source": [
        "### Making your package portable"
      ]
    },
    {
      "cell_type": "markdown",
      "metadata": {
        "id": "y0eZ_hX1Ptyk",
        "colab_type": "text"
      },
      "source": [
        "Create setup.py and requirements.txt, add product descriptions and dependencies.  They are located with files that run using the package, outside the package and adjacent to it.\n"
      ]
    },
    {
      "cell_type": "code",
      "metadata": {
        "id": "4ajcBbnZGXgq",
        "colab_type": "code",
        "colab": {}
      },
      "source": [
        "# In requirements.txt:\n",
        "matplotlib\n",
        "numpy==1.15.4\n",
        "pycodestyle>= 2.4.0\n",
        "\n",
        "!pip instal -r requirements.txt  # Installs the requirements on requirements.txt."
      ],
      "execution_count": 0,
      "outputs": []
    },
    {
      "cell_type": "code",
      "metadata": {
        "id": "Uv3OfcV6Q0gs",
        "colab_type": "code",
        "colab": {}
      },
      "source": [
        "# Setup.py tells pip how to install package\n",
        "from setuptools import setup  # Common package for setup.py files\n",
        "\n",
        "# Example\n",
        "setup(\n",
        "    name = \"an_example_pypi_project\",\n",
        "    version = \"0.0.4\",\n",
        "    author = \"Andrew Carter\",\n",
        "    author_email = \"andrewjcarter@gmail.com\",\n",
        "    description = (\"An demonstration of how to create, document, and publish \"\n",
        "                                   \"to the cheese shop a5 pypi.org.\"),\n",
        "    license = \"BSD\",\n",
        "    keywords = \"example documentation tutorial\",\n",
        "    url = \"http://packages.python.org/an_example_pypi_project\",\n",
        "    packages=['an_example_pypi_project', 'tests'], # files in package included with __init__ file\n",
        "    long_description=read('README'),\n",
        "    classifiers=[\n",
        "        \"Development Status :: 3 - Alpha\",\n",
        "        \"Topic :: Utilities\",\n",
        "        \"License :: OSI Approved :: BSD License\",\n",
        "    ],\n",
        "    install_requires==['matplotlib','numpy==1.15.4','pycodestyle>= 2.4.0']\n",
        ") # If there are requirements for where to install requrements from, that is stated in requirements.txt"
      ],
      "execution_count": 0,
      "outputs": []
    },
    {
      "cell_type": "code",
      "metadata": {
        "id": "mnoILz5HSn-Z",
        "colab_type": "code",
        "colab": {}
      },
      "source": [
        "# Now what setup.py and requirements.txt are created we can:\n",
        "!pip install .  # when working in any file in the same directory as the package"
      ],
      "execution_count": 0,
      "outputs": []
    },
    {
      "cell_type": "markdown",
      "metadata": {
        "id": "ZrtbnVYGWNh3",
        "colab_type": "text"
      },
      "source": [
        "# Utilizing Classes"
      ]
    },
    {
      "cell_type": "markdown",
      "metadata": {
        "id": "YXABSCP7WSp3",
        "colab_type": "text"
      },
      "source": [
        "### Adding Classes to Package"
      ]
    },
    {
      "cell_type": "code",
      "metadata": {
        "id": "AIddWII1WJLs",
        "colab_type": "code",
        "colab": {}
      },
      "source": [
        "# Classes written in camel case, never with underscores, like function, packages, py files"
      ],
      "execution_count": 0,
      "outputs": []
    },
    {
      "cell_type": "code",
      "metadata": {
        "id": "d5TKswW-eWMI",
        "colab_type": "code",
        "colab": {}
      },
      "source": [
        "class MyClass:\n",
        "  def __init__(self, value):\n",
        "    self.attribute = value\n",
        "\n",
        "my_instance = my_package.MyClass(value=\"Class Attribute Value\")\n",
        "\n",
        "\n"
      ],
      "execution_count": 0,
      "outputs": []
    },
    {
      "cell_type": "code",
      "metadata": {
        "id": "Mq_TqT3QdiQH",
        "colab_type": "code",
        "colab": {}
      },
      "source": [
        "# import via __init__\n",
        "\n",
        "from .my_class import MyClass\n",
        "\n",
        "# Creating instance\n",
        "my_instance = my_package.MyClasee(value=\"Class Attribute Value\")\n",
        "\n",
        "# Print Attribute\n",
        "print(my_instance.attribute)"
      ],
      "execution_count": 0,
      "outputs": []
    },
    {
      "cell_type": "markdown",
      "metadata": {
        "id": "ZfBXqaR5f7Tu",
        "colab_type": "text"
      },
      "source": [
        "### Adding Functionality to Classes"
      ]
    },
    {
      "cell_type": "code",
      "metadata": {
        "id": "3LIwL8p7eVe8",
        "colab_type": "code",
        "colab": {}
      },
      "source": [
        "# anything placed in the init method will act every time the class is called"
      ],
      "execution_count": 0,
      "outputs": []
    },
    {
      "cell_type": "code",
      "metadata": {
        "id": "7bnWKCr4gXAq",
        "colab_type": "code",
        "colab": {}
      },
      "source": [
        "class Document:\n",
        "  def __init__(self, value):\n",
        "    self.text = text\n",
        "    self.tokens = self._tokenize() # function imported from package from .token_utils import tokenize\n",
        "\n",
        "document = document.Document('test_doc')\n",
        "print(document.tokens)"
      ],
      "execution_count": 0,
      "outputs": []
    },
    {
      "cell_type": "code",
      "metadata": {
        "id": "Nwost63Nhqfs",
        "colab_type": "code",
        "colab": {}
      },
      "source": [
        "class Document:\n",
        "  def __init__(self, value, token_regex = r'[a-zA-z]+'):\n",
        "    self.text = text\n",
        "    self.tokens = self._tokenize() # not public to user\n",
        "\n",
        "  def _tokenize(self): # not public to user, any functions with leading underscore \"For internal use only\"\n",
        "    return tokenize(self.text)  \n",
        "\n",
        "document = document.Document('test_doc')\n",
        "print(document.tokens)"
      ],
      "execution_count": 0,
      "outputs": []
    },
    {
      "cell_type": "code",
      "metadata": {
        "id": "O0vJBg2Bjmhj",
        "colab_type": "code",
        "colab": {}
      },
      "source": [
        "# Given Example\n",
        "\n",
        "class Document:\n",
        "  def __init__(self, text):\n",
        "    self.text = text\n",
        "    # Tokenize the document with non-public tokenize method\n",
        "    self.tokens = self._tokenize()\n",
        "    # Perform word count with non-public count_words method\n",
        "    self.word_counts = self._count_words()  # Non public method\n",
        "\n",
        "  def _tokenize(self):\n",
        "    return tokenize(self.text)\n",
        "\t\n",
        "  # non-public method to tally document's word counts with Counter\n",
        "  def _count_words(self):\n",
        "    return Counter(self.tokens)\n",
        "\n",
        " # create a new document instance from datacamp_tweets\n",
        "datacamp_doc = Document(datacamp_tweets)\n",
        "\n",
        "# print the first 5 tokens from datacamp_doc\n",
        "print(datacamp_doc.tokens[:5])\n",
        "\n",
        "# print the top 5 most used words in datacamp_doc\n",
        "print(datacamp_doc.word_counts.most_common(5))   "
      ],
      "execution_count": 0,
      "outputs": []
    },
    {
      "cell_type": "markdown",
      "metadata": {
        "id": "bbCKRnlpoflX",
        "colab_type": "text"
      },
      "source": [
        "### Classes and the DRY Principle"
      ]
    },
    {
      "cell_type": "code",
      "metadata": {
        "id": "likkbnHBojt5",
        "colab_type": "code",
        "colab": {}
      },
      "source": [
        "# Creating new classes with a lot of the code of other classes\n",
        "# Inheritance: Document: Parent, SocialMedia: Child\n",
        "\n",
        "from .parent_class import ParentClass\n",
        "\n",
        "# Creating class with inheritance\n",
        "class ChildClass(ParentClass):\n",
        "  def __init__(self):\n",
        "    # Call parent's init method\n",
        "    ParentClass.__init__(self)\n",
        "    self.child_attribute = 'string child attribute'\n",
        "\n",
        "child_class = ChildClass()\n",
        "print(child_class.child_attribute)\n",
        "print(child_class.parent_attribute)  \n",
        "\n"
      ],
      "execution_count": 0,
      "outputs": []
    },
    {
      "cell_type": "code",
      "metadata": {
        "id": "g8E2jyNzrRej",
        "colab_type": "code",
        "colab": {}
      },
      "source": [
        "\n",
        "# Define a SocialMedia class that is a child of the `Document class`\n",
        "class SocialMedia(Document):\n",
        "    def __init__(self, text):\n",
        "        Document.__init__(self, text)\n",
        "        self.hashtag_counts = self._count_hashtags()\n",
        "        self.mention_counts = self._count_mentions()\n",
        "        \n",
        "      def _count_hashtags(self):\n",
        "        # Filter attribute so only words starting with '#' remain\n",
        "        return filter_word_counts(self.word_counts, first_char='#') # Calling from parent class Document\n",
        "\n",
        "      def _count_mentions(self):\n",
        "        # Filter attribute so only words starting with '@' remain\n",
        "        return filter_word_counts(self.word_counts, first_char='@')  "
      ],
      "execution_count": 0,
      "outputs": []
    },
    {
      "cell_type": "code",
      "metadata": {
        "id": "bmd5E3t8vQWP",
        "colab_type": "code",
        "colab": {}
      },
      "source": [
        "# Create a SocialMedia instance with datacamp_tweets\n",
        "dc_tweets = text_analyzer.SocialMedia(text=datacamp_tweets)\n",
        "\n",
        "# Print the top five most most mentioned users\n",
        "print(dc_tweets.mention_counts.most_common(5))\n",
        "\n",
        "# Plot the most used hashtags\n",
        "text_analyzer.plot_counter(dc_tweets.hashtag_counts)"
      ],
      "execution_count": 0,
      "outputs": []
    },
    {
      "cell_type": "markdown",
      "metadata": {
        "id": "yjE9a2e3vjxJ",
        "colab_type": "text"
      },
      "source": [
        "### Multilevel Inheritance"
      ]
    },
    {
      "cell_type": "markdown",
      "metadata": {
        "id": "yMJmOuRSwHcq",
        "colab_type": "text"
      },
      "source": [
        "Multiple inheritance is when a child class inherits from more than one parent class.  Multilevel inheritance is when a grandchild class is created from a two generations of class."
      ]
    },
    {
      "cell_type": "code",
      "metadata": {
        "id": "Kiilpef8vlpU",
        "colab_type": "code",
        "colab": {
          "base_uri": "https://localhost:8080/",
          "height": 85
        },
        "outputId": "639f7b3d-ba4f-4f70-8683-c200c47c5fe9"
      },
      "source": [
        "class Parent:\n",
        "  def __init__(self):\n",
        "    print('parent')\n",
        "\n",
        "class Child(Parent):\n",
        "  def __init__(self):\n",
        "    Parent.__init__()\n",
        "    print('child')   \n",
        "\n",
        "class SuperChild(Parent):\n",
        "  def __init__(self):\n",
        "    super().__init__()\n",
        "    print('super')\n",
        "\n",
        "class GrandChild(SuperChild):\n",
        "  def __init__(self):\n",
        "    super().__init__()\n",
        "    print('grand')\n",
        "\n",
        "grandchild = GrandChild()\n",
        "grandchild    \n"
      ],
      "execution_count": 6,
      "outputs": [
        {
          "output_type": "stream",
          "text": [
            "parent\n",
            "super\n",
            "grand\n"
          ],
          "name": "stdout"
        },
        {
          "output_type": "execute_result",
          "data": {
            "text/plain": [
              "<__main__.GrandChild at 0x7ff837ce1240>"
            ]
          },
          "metadata": {
            "tags": []
          },
          "execution_count": 6
        }
      ]
    },
    {
      "cell_type": "code",
      "metadata": {
        "id": "Wy9ZykTax8Oy",
        "colab_type": "code",
        "colab": {}
      },
      "source": [
        "sm = SocialMedia('#hashtag #trump #flower')\n",
        "dir(sm)  # Use dir() to check methods of classes you are writing"
      ],
      "execution_count": 0,
      "outputs": []
    },
    {
      "cell_type": "code",
      "metadata": {
        "id": "WHkf6-2uyWSM",
        "colab_type": "code",
        "colab": {}
      },
      "source": [
        "# Given example\n",
        "\n",
        "\n",
        "# Define a Tweet class that inherits from SocialMedia\n",
        "class Tweets(SocialMedia):\n",
        "    def __init__(self, text):\n",
        "        # Call parent's __init__ with super()\n",
        "        super().__init__(self)\n",
        "        # Define retweets attribute with non-public method\n",
        "        self.retweets = self._process_retweets()\n",
        "\n",
        "    def _process_retweets(self):\n",
        "        # Filter tweet text to only include retweets\n",
        "        retweet_text = filter_lines(self.text, first_chars='RT')\n",
        "        # Return retweet_text as a SocialMedia object\n",
        "        return SocialMedia(retweet_text)\n",
        "\n",
        "help(object)   # function, class, etc...    returns docstring "
      ],
      "execution_count": 0,
      "outputs": []
    },
    {
      "cell_type": "markdown",
      "metadata": {
        "id": "IJ2SpJJx5tXq",
        "colab_type": "text"
      },
      "source": [
        "# Maintainability"
      ]
    },
    {
      "cell_type": "markdown",
      "metadata": {
        "id": "eNpo0rjT5wKw",
        "colab_type": "text"
      },
      "source": [
        "### Documentation"
      ]
    },
    {
      "cell_type": "code",
      "metadata": {
        "id": "Zt9fXojJ5vIV",
        "colab_type": "code",
        "colab": {}
      },
      "source": [
        "# Comments arent' seen by users unless they see the source code, good comments say why things are used\n",
        "\"\"\"\"\"\"\n"
      ],
      "execution_count": 0,
      "outputs": []
    },
    {
      "cell_type": "markdown",
      "metadata": {
        "id": "CQ7MOZYnbYZN",
        "colab_type": "text"
      },
      "source": [
        "The help() function returns docstrings on functions"
      ]
    },
    {
      "cell_type": "markdown",
      "metadata": {
        "id": "oSm8qSdeeqsD",
        "colab_type": "text"
      },
      "source": [
        "### Readablilty counts"
      ]
    },
    {
      "cell_type": "markdown",
      "metadata": {
        "id": "50B-gimret5C",
        "colab_type": "text"
      },
      "source": [
        "Self documenting code: descriptive function, parameter, class names.  Don't skimp on comments."
      ]
    },
    {
      "cell_type": "markdown",
      "metadata": {
        "id": "zQeof4BpfZuc",
        "colab_type": "text"
      },
      "source": [
        "Refactor code when it is doing more than one thing, when comments are needed to describe different processes."
      ]
    },
    {
      "cell_type": "code",
      "metadata": {
        "id": "XFoTPW_EbbeE",
        "colab_type": "code",
        "colab": {}
      },
      "source": [
        ""
      ],
      "execution_count": 0,
      "outputs": []
    },
    {
      "cell_type": "markdown",
      "metadata": {
        "id": "bKHBzpybvPFV",
        "colab_type": "text"
      },
      "source": [
        "### Unit Testing"
      ]
    },
    {
      "cell_type": "markdown",
      "metadata": {
        "id": "zo1E42hGvgYu",
        "colab_type": "text"
      },
      "source": [
        "Python doctest and pytest are good unit testing options."
      ]
    },
    {
      "cell_type": "code",
      "metadata": {
        "id": "dWX_VbwZvRZQ",
        "colab_type": "code",
        "colab": {}
      },
      "source": [
        "import doctest # best for smaller chunks of code\n",
        "doctest.testmod() #output blank if code okay"
      ],
      "execution_count": 0,
      "outputs": []
    },
    {
      "cell_type": "markdown",
      "metadata": {
        "id": "kA6UoYF4wKqw",
        "colab_type": "text"
      },
      "source": [
        "Create test_unit.py at the same level as package directory"
      ]
    },
    {
      "cell_type": "code",
      "metadata": {
        "id": "NyMfh_bJv8mr",
        "colab_type": "code",
        "colab": {}
      },
      "source": [
        "def test_descriptive_name(): #prefix of rest_, isnt' referring to a live function\n",
        "  doc = Document('a e i o u')\n",
        "  assert doc.tokens == ['a','e','i','o','u']\n",
        "\n",
        "# Testing Edge Cases (like blank document)\n",
        "\n",
        "def test_doc_empty():\n",
        "  doc = Document('')\n",
        "\n",
        "  assert doc.tokens == []\n",
        "  assert doc.word_counts == Counter()"
      ],
      "execution_count": 0,
      "outputs": []
    },
    {
      "cell_type": "code",
      "metadata": {
        "id": "6-KXjanbyBUr",
        "colab_type": "code",
        "colab": {}
      },
      "source": [
        "# command for running test file\n",
        "\n",
        "pytest"
      ],
      "execution_count": 0,
      "outputs": []
    },
    {
      "cell_type": "code",
      "metadata": {
        "id": "pNTIQ_q613aK",
        "colab_type": "code",
        "colab": {}
      },
      "source": [
        "# Given Example\n",
        "\n",
        "from collections import Counter\n",
        "from text_analyzer import SocialMedia\n",
        "\n",
        "# Create an instance of SocialMedia for testing\n",
        "test_post = 'learning #python & #rstats is awesome! thanks @datacamp!'\n",
        "sm_post = SocialMedia(test_post)\n",
        "\n",
        "# Test hashtag counts are created properly\n",
        "def test_social_media_hashtags():\n",
        "    expected_hashtag_counts = Counter({'#python': 1, '#rstats': 1})\n",
        "    assert sm_post.hashtag_counts == expected_hashtag_counts"
      ],
      "execution_count": 0,
      "outputs": []
    },
    {
      "cell_type": "markdown",
      "metadata": {
        "id": "zH9HRWyz2bnv",
        "colab_type": "text"
      },
      "source": [
        "Sphinx-transforms docstrings into documentation <br>\n"
      ]
    },
    {
      "cell_type": "code",
      "metadata": {
        "id": "YT7ya9Ef4WhM",
        "colab_type": "code",
        "colab": {}
      },
      "source": [
        ""
      ],
      "execution_count": 0,
      "outputs": []
    }
  ]
}