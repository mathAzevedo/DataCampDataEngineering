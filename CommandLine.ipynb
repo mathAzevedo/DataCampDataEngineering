{
  "nbformat": 4,
  "nbformat_minor": 0,
  "metadata": {
    "colab": {
      "name": "CommandLine.ipynb",
      "provenance": [],
      "authorship_tag": "ABX9TyN4YdSVdCwi7lNoTLEsFcpL",
      "include_colab_link": true
    },
    "kernelspec": {
      "name": "python3",
      "display_name": "Python 3"
    }
  },
  "cells": [
    {
      "cell_type": "markdown",
      "metadata": {
        "id": "view-in-github",
        "colab_type": "text"
      },
      "source": [
        "<a href=\"https://colab.research.google.com/github/mossytreesandferns/DataCampDataEngineering/blob/master/CommandLine.ipynb\" target=\"_parent\"><img src=\"https://colab.research.google.com/assets/colab-badge.svg\" alt=\"Open In Colab\"/></a>"
      ]
    },
    {
      "cell_type": "code",
      "metadata": {
        "id": "XDTUA6mxK9t6",
        "colab_type": "code",
        "outputId": "60e9ad43-5435-4c3c-8cef-d600d3ea879b",
        "colab": {
          "base_uri": "https://localhost:8080/",
          "height": 122
        }
      },
      "source": [
        "#Mount my drive- run the code, go to the link, accept.\n",
        "from google.colab import drive\n",
        "drive.mount('/content/gdrive')"
      ],
      "execution_count": 0,
      "outputs": [
        {
          "output_type": "stream",
          "text": [
            "Go to this URL in a browser: https://accounts.google.com/o/oauth2/auth?client_id=947318989803-6bn6qk8qdgf4n4g3pfee6491hc0brc4i.apps.googleusercontent.com&redirect_uri=urn%3aietf%3awg%3aoauth%3a2.0%3aoob&response_type=code&scope=email%20https%3a%2f%2fwww.googleapis.com%2fauth%2fdocs.test%20https%3a%2f%2fwww.googleapis.com%2fauth%2fdrive%20https%3a%2f%2fwww.googleapis.com%2fauth%2fdrive.photos.readonly%20https%3a%2f%2fwww.googleapis.com%2fauth%2fpeopleapi.readonly\n",
            "\n",
            "Enter your authorization code:\n",
            "··········\n",
            "Mounted at /content/gdrive\n"
          ],
          "name": "stdout"
        }
      ]
    },
    {
      "cell_type": "code",
      "metadata": {
        "id": "Qnq7OTkvLHEB",
        "colab_type": "code",
        "outputId": "26781851-3e5c-4c6b-81a0-ea8239601a49",
        "colab": {
          "base_uri": "https://localhost:8080/",
          "height": 34
        }
      },
      "source": [
        "#Change working directory to make it easier to access the files\n",
        "import os\n",
        "os.chdir(\"/content/gdrive/My Drive/DCCleaningData/\")\n",
        "os.getcwd()"
      ],
      "execution_count": 0,
      "outputs": [
        {
          "output_type": "execute_result",
          "data": {
            "text/plain": [
              "'/content/gdrive/My Drive/DCCleaningData'"
            ]
          },
          "metadata": {
            "tags": []
          },
          "execution_count": 2
        }
      ]
    },
    {
      "cell_type": "markdown",
      "metadata": {
        "id": "aif7sWAILHRG",
        "colab_type": "text"
      },
      "source": [
        "# Manipulating Files and Directories"
      ]
    },
    {
      "cell_type": "markdown",
      "metadata": {
        "id": "juyrVj2mMGq0",
        "colab_type": "text"
      },
      "source": [
        "pwd path from root directory <br>\n",
        "ls what's in the directory <br>\n",
        "ls /path/path/path <br>\n",
        "The realtive path is the path the ends one level above the file or directory you are working in.<br>\n",
        "The absolute path is the full path to the file or directory you are working in.<br>\n",
        "If the path begins with / it is absolute, if it doesn't, it is relative. <br>\n",
        "eg ls /course.txt absolute  ls course.txt relative <br>\n",
        "ls seasonal/summer.csv <br>\n",
        "ls ~ list contents of home directory<br>\n",
        "cd 'change directory' only with absolute path<br>\n",
        "cd down and up<br>\n",
        "cd .. move up one directory<br>\n",
        "cd ~ move to home directory<br>\n",
        "cp filename.format newfilename.format copy file to new file <br>\n",
        "cp directory/filename.format directory/filename.format backup # copying two files from the same directory to a new directory from the directory above <br>\n",
        "mv filename.fmt filename.fmt .. move two files up one directory <br>\n",
        "mv dir/file.fmt dir/file.fmt newdir move two files to another directory <br>\n",
        "mv filename.fmt newfilename.fmt changes name of file, will overwrite if newfilename.fmt exists <br>\n",
        "mv file.fmt file.fmt.bck moving file to bck format <br>\n",
        "rm file.fmt dir/file.fmt deleting files alone and with relative path <br>\n",
        "You have to delete files in a directory before deleting the directory<br>\n",
        "rmdir directoryname <br>\n",
        "mkdir dirname dirname make a directory in another directory <br>\n",
        "mv ~dirname/file.fmt dirname moving file from homepath to new dir <br>\n",
        "\n"
      ]
    },
    {
      "cell_type": "markdown",
      "metadata": {
        "id": "nHYRLlNMcUEk",
        "colab_type": "text"
      },
      "source": [
        "# Manipulating Data"
      ]
    },
    {
      "cell_type": "markdown",
      "metadata": {
        "id": "mtQc3EI-cWa4",
        "colab_type": "text"
      },
      "source": [
        "cat prints contents of files to screen <br>\n",
        "cat file.fmt <br>\n",
        "less file.fmt prints a file one page at a time <br>\n",
        "space next page <br>\n",
        "q quit <br>\n",
        "less dir/file.fmt dir/dir/file <br>\n",
        "less :n  next file <br>\n",
        "less :p  previous file <br>\n",
        "head filename.csv or dir/file.csv  first ten observations of a csv file <br>\n",
        "filename.format [tab] press tab to trigger autocomplete <br>\n",
        "head -n (integer) file.csv  prints specified number of lines <br>\n",
        "ls -R  shows everyting in the current directory and every subdirectory <br>\n",
        "ls -F prints every directory with a / at the end and every runnable program with a * at the end. <br>\n",
        "ls -R -F or -F -R does both at the same time <br>\n",
        "man command  prints information about the command e.g. man head press space and :q to go to the next page and quit. <br>\n",
        "tail -n +int  prints all the csv starting at int, indexed at 1 not 0. <br>\n",
        "cut -f 2-8, 10-20 -d , file.csv  cut 'fields' 2-8 and 10-20 'delimeter' comma csv file.  or cut -d , -f 2-8, 10-20 file.csv. <br>\n",
        "cut thinks ,'s in strings are separators wo it will throw columns off <br>\n",
        "'up arrow'  to scroll up through previous commands and output <br>\n",
        "history  prints recent history  <br>\n",
        "!int  prints int's command <br>\n",
        "!command prints last time that command was run <br>\n",
        "grep keyword  dir/file.csv  prints rows with the keyword <br>\n",
        "grep -c: print a count of matching lines rather than the lines themselves <br>\n",
        "grep -h: do not print the names of files when searching multiple files <br>\n",
        "grep -i: ignore case (e.g., treat \"Regression\" and \"regression\" as matches) <br>\n",
        "grep -l: print the names of files that contain matches, not the matches <br>\n",
        "grep -n: print line numbers for matching lines <br>\n",
        "grep -v: invert the match, i.e., only show lines that don't match <br>\n",
        "paste -d , dir/file.csv dir/file.csv  pastes columns rowwise and shifts data itno empty columns towards the left. <br>\n"
      ]
    },
    {
      "cell_type": "markdown",
      "metadata": {
        "id": "oa8b2VmY_y1O",
        "colab_type": "text"
      },
      "source": [
        "# Combining Tools - Piping"
      ]
    },
    {
      "cell_type": "markdown",
      "metadata": {
        "id": "B39GHFhs_42w",
        "colab_type": "text"
      },
      "source": [
        "'>'  Store a commands output file <br>\n",
        "head -n 5 file.csv > newfile.csv <br>\n",
        "| (pipe)says to use the output of the first command for the second command\n",
        "head -n 5 dir/file.csv | tail -n 3  Print the last three elements of the first five elements of file.csv. <br>\n",
        "cut -f 2 -d , seasonal/summer.csv | grep -v Tooth <br>\n",
        "cut -d , -f 1 seasonal/spring.csv | grep -v Date | head -n 10 <br>\n",
        "wc  prints word count <br>\n",
        "wc -l word  count number of lines in file <br>\n",
        "wc -c word no idea <br>\n",
        "wc -w word no idea <br>\n",
        "grep 2017-07 seasonal/spring.csv | wc -l <br>\n",
        "'asterisk' Wildcard character <br>\n",
        "cut -d , -f 1 seasonal/'asterisk' <br>\n",
        "cut -d , -f 1 seasonal/'asterisk'.csv <br>\n",
        "head -n 3 seasonal/'asterisk'.csv <br>\n",
        "? matches a single character<br>\n",
        "? matches a single character, so 201?.txt will match 2017.txt or 2018.txt, but not 2017-01.txt.<br><br>\n",
        "[...] matches any one of the characters inside the square brackets, so 201[78].txt matches 2017.txt or 2018.txt, but not 2016.txt.<br>\n",
        "{...} matches any of the comma-separated patterns inside the curly brackets, so {*.txt, *.csv} matches any file whose name ends with .txt or .csv, but not files whose names end with .pdf.<br>\n",
        "sort  puts things in alphabetical order, used with grep for filtering <br>\n",
        "sort -r  reverse <br>\n",
        "sort -n  sort numerically <br>\n",
        "sort -b  ignore leading blanks <br>\n",
        "sort -f  be case sensitive <br>\n",
        "cut -d , -f 2 seasonal/winter.csv | grep -v Tooth | sort -r <br>\n",
        "uniq removes adjacent identical lines <br>\n",
        "uniq -c  returns count of uniq values <br>\n",
        "cut -d , -f 2 seasonal/winter.csv | grep -v Tooth | sort | uniq -c <br>\n",
        "cut -d , -f 2 seasonal/winter.csv | grep -v Tooth | sort | uniq -c > file.fmt\n",
        "deposits into file <br>\n",
        "> file.fmt cut -d , -f 2 seasonal/winter.csv | grep -v Tooth | sort | uniq -c\n",
        "works also. <br>\n",
        "Control + c  stops the shell from waiting for input and returns to fresh prompt\n",
        "wc seasonal/*.csv <br>\n",
        "wc seasonal/*.csv | grep -v total <br>\n",
        "wc -l seasonal/*.csv | grep -v total | sort -n | head -n 1 <br>\n"
      ]
    },
    {
      "cell_type": "markdown",
      "metadata": {
        "id": "e63r4ny7KL0N",
        "colab_type": "text"
      },
      "source": [
        "# Batch Processing - Loops"
      ]
    },
    {
      "cell_type": "markdown",
      "metadata": {
        "id": "a2Am_e8CKN16",
        "colab_type": "text"
      },
      "source": [
        "ENVIRONMENT VARIABLES <br>\n",
        "<br>\n",
        "Variable\t    Purpose\t            Value <br>\n",
        "HOME\tUser's home directory\t   /home/repl\n",
        "PWD\tPresent working directory\tSame as pwd command <br>\n",
        "SHELL\tWhich shell program is being used\t/bin/bash <br>\n",
        "USER\tUser's ID\trepl <br>\n",
        "To get a complete list (which is quite long), you can type set in the shell. <br>\n",
        "set | grep HISTFILESIZE <br>\n",
        "echo text  prints text <br>\n",
        "echo USER prints USER <br>\n",
        "To get the value of a variable put $ in front of it <br>\n",
        "echo '**dollarsign**'USER prints user name <br>\n",
        "echo '**dollarsign**'OSTYPE  prints operating system type <br>\n",
        "<br>\n",
        "SHELL VARIABLES <br>\n",
        "<br>\n",
        "created by user <br>\n",
        "var=item  no surrounding spaces <br>\n",
        "echo **dollarsign**var prints item <br>\n",
        "head -n 1 '**dollarsign**'testing  retrieving records from csv via a variable <br>\n",
        "\n",
        "Use loops to repeat commands <br>\n",
        "for filetype in gif jpg png; do echo $filetype; done # notice semicolons <br>\n",
        "for filename in seasonal/**asterisk**csv; do echo **dollarsign**filename; done  repeating for filenames <br>\n",
        "for filename in people/**asterisk**; do echo **dollarsign**filename; done  prints all files in a directory <br>\n",
        "files=seasonal/*.csv  Can create a variable to loop over <br>\n",
        "for f in **dollarsign**files; do echo **dollarsign**f; done <br>\n",
        "<br>\n",
        "Use PIPES to run multiple commands in a loop <br>\n",
        "for file in seasonal/*.csv; do head -n 2 $file | tail -n 1; done <br>\n",
        "for file in seasonal/*.csv; do grep 2017-07 $file | tail -n 1; done <br>\n",
        "<br>\n",
        "If filenames have spaces in them, you have to put quotes around them to ge tthe shell to process them '' \"\" <br>\n",
        "\n",
        "Multiple commands in loops are separated by semicolons <br>\n",
        "for f in seasonal/**asterisk**.csv; do echo **dollarsign**f; head -n 2 **dollarsign**f | tail -n 1; done <br>\n",
        "\n",
        "\n"
      ]
    },
    {
      "cell_type": "markdown",
      "metadata": {
        "id": "rlRd-I34dBpm",
        "colab_type": "text"
      },
      "source": [
        "# Creating New Tools"
      ]
    },
    {
      "cell_type": "markdown",
      "metadata": {
        "id": "jWv315ECdB5L",
        "colab_type": "text"
      },
      "source": [
        "nano filename  opens nano, a text editor, also creates file if not already there <br>\n",
        "Ctrl + K: delete a line. <br>\n",
        "Ctrl + U: un-delete a line. <br>\n",
        "Ctrl + O: save the file ('O' stands for 'output'). You will also need to press Enter to confirm the filename! <br>\n",
        "Ctrl + X: exit the editor. <br>\n",
        "cp seasonal/spring.csv seasonal/summer.csv ~  copies to home directory <br>\n",
        "grep -h -v Tooth spring.csv summer.csv > temp.csv <br>\n",
        "history | tail -n 3 > steps.txt <br>\n",
        "<br>\n",
        "bash  filename.fmt  run a file <br>\n",
        "<br>\n",
        ".sh files is a Unix shell filetype <br>\n",
        "<br>\n",
        "nano dates.sh  createds file <br>\n",
        "control o  saves <br>\n",
        "control x  exits nano <br>\n",
        "bash dates.sh  runs dates.sh <br>\n",
        "<br>\n",
        "shell script   file full of shell commands <br>\n",
        "<br>\n",
        ".out file type of compiled executable commands <br>\n",
        "bash teeth.sh > teeth.out <br>\n",
        "cat teeth.out shows prints contents of files to screen <br>\n",
        "<br>\n",
        "SCRIPT COMMANDS <br>\n",
        "$@  if this command is in a script file in place of the filename, you can apply\n",
        "the script to any file (passing filenames to scripts) <br>\n",
        "if unique-lines.sh contains sort $@ | uniq <br>\n",
        "bash unique-lines.sh seasonal/summer.csv <br>\n",
        "bash unique-lines.sh seasonal/summer.csv seasonal/autumn.csv <br>\n",
        "bash count-records.sh seasonal/*.csv > num-records.out <br>\n",
        "<br>\n",
        "$1 $2  can refer to command line parameters <br>\n",
        "cut -d , -f $2 $1  shell script <br>\n",
        "bash column.sh seasonal/autumn.csv 1  application of script <br>\n",
        "<br>\n",
        "bash get-field.sh seasonal/summer.csv 4 2  comes from\n",
        "head -n $2 $1 | tail -n 1 | cut -d , -f $3  Placeholders refer to order in bash command <br>\n",
        "bash range.sh seasonal/*.csv > range.out  redirecting output of shell script to compiled file <br>\n",
        "\n",
        "writing loops in shell script over mulitple lines <br>\n",
        "##### #use descriptive comments about what loops do in script files also <br>\n",
        "<br>\n",
        "for filename in **dollarsign**@<br>\n",
        "do<br>\n",
        "    head -n 2 **dollarsign**filename | tail -n 1  <br>\n",
        "    tail -n 1 **dollarsign**filename<br>\n",
        "done<br>\n",
        "<br>\n",
        "bash date-range.sh seasonal/*.csv | sort<br>\n",
        "\n",
        "\n",
        "\n",
        "\n"
      ]
    },
    {
      "cell_type": "code",
      "metadata": {
        "id": "cnDG_UY8LHea",
        "colab_type": "code",
        "colab": {}
      },
      "source": [
        ""
      ],
      "execution_count": 0,
      "outputs": []
    }
  ]
}