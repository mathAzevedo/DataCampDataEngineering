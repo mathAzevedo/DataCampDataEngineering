{
  "nbformat": 4,
  "nbformat_minor": 0,
  "metadata": {
    "colab": {
      "name": "WritingEfficientCode.ipynb",
      "provenance": [],
      "authorship_tag": "ABX9TyNxZzCZ9t6C2IAC/etjSVrJ",
      "include_colab_link": true
    },
    "kernelspec": {
      "name": "python3",
      "display_name": "Python 3"
    }
  },
  "cells": [
    {
      "cell_type": "markdown",
      "metadata": {
        "id": "view-in-github",
        "colab_type": "text"
      },
      "source": [
        "<a href=\"https://colab.research.google.com/github/mossytreesandferns/DataCampDataEngineering/blob/master/WritingEfficientCode.ipynb\" target=\"_parent\"><img src=\"https://colab.research.google.com/assets/colab-badge.svg\" alt=\"Open In Colab\"/></a>"
      ]
    },
    {
      "cell_type": "code",
      "metadata": {
        "id": "eKNzphZ86oPa",
        "colab_type": "code",
        "outputId": "da35ee5c-a7ac-4eae-ea17-31edde5a340b",
        "colab": {
          "base_uri": "https://localhost:8080/",
          "height": 122
        }
      },
      "source": [
        "#Mount my drive- run the code, go to the link, accept.\n",
        "from google.colab import drive\n",
        "drive.mount('/content/gdrive')"
      ],
      "execution_count": 1,
      "outputs": [
        {
          "output_type": "stream",
          "text": [
            "Go to this URL in a browser: https://accounts.google.com/o/oauth2/auth?client_id=947318989803-6bn6qk8qdgf4n4g3pfee6491hc0brc4i.apps.googleusercontent.com&redirect_uri=urn%3aietf%3awg%3aoauth%3a2.0%3aoob&response_type=code&scope=email%20https%3a%2f%2fwww.googleapis.com%2fauth%2fdocs.test%20https%3a%2f%2fwww.googleapis.com%2fauth%2fdrive%20https%3a%2f%2fwww.googleapis.com%2fauth%2fdrive.photos.readonly%20https%3a%2f%2fwww.googleapis.com%2fauth%2fpeopleapi.readonly\n",
            "\n",
            "Enter your authorization code:\n",
            "··········\n",
            "Mounted at /content/gdrive\n"
          ],
          "name": "stdout"
        }
      ]
    },
    {
      "cell_type": "code",
      "metadata": {
        "id": "vKC8T_bt6pY1",
        "colab_type": "code",
        "outputId": "9d5fb670-4de2-4400-9d2d-bd51e14702a7",
        "colab": {
          "base_uri": "https://localhost:8080/",
          "height": 34
        }
      },
      "source": [
        "#Change working directory to make it easier to access the files\n",
        "import os\n",
        "os.chdir(\"/content/gdrive/My Drive/DCCleaningData/\")\n",
        "os.getcwd()"
      ],
      "execution_count": 76,
      "outputs": [
        {
          "output_type": "execute_result",
          "data": {
            "text/plain": [
              "'/content/gdrive/My Drive/DCCleaningData'"
            ]
          },
          "metadata": {
            "tags": []
          },
          "execution_count": 76
        }
      ]
    },
    {
      "cell_type": "markdown",
      "metadata": {
        "id": "ahVQigbQ7ARe",
        "colab_type": "text"
      },
      "source": [
        "# Foundations for Efficiencies"
      ]
    },
    {
      "cell_type": "markdown",
      "metadata": {
        "id": "Da5i-9DzLC0Z",
        "colab_type": "text"
      },
      "source": [
        "### range(), list(), map(), enumerate()"
      ]
    },
    {
      "cell_type": "code",
      "metadata": {
        "id": "Sohy7kjS6_Dp",
        "colab_type": "code",
        "colab": {}
      },
      "source": [
        "# Use list comprehension when iterating over lists"
      ],
      "execution_count": 0,
      "outputs": []
    },
    {
      "cell_type": "code",
      "metadata": {
        "id": "XGzLNSJz9E8K",
        "colab_type": "code",
        "outputId": "6f8ddc33-8c98-4c4f-e5a7-c899ef2b735a",
        "colab": {
          "base_uri": "https://localhost:8080/",
          "height": 34
        }
      },
      "source": [
        "nums = range(0,10)\n",
        "numslist = list(nums)\n",
        "numslist\n"
      ],
      "execution_count": 4,
      "outputs": [
        {
          "output_type": "execute_result",
          "data": {
            "text/plain": [
              "[0, 1, 2, 3, 4, 5, 6, 7, 8, 9]"
            ]
          },
          "metadata": {
            "tags": []
          },
          "execution_count": 4
        }
      ]
    },
    {
      "cell_type": "code",
      "metadata": {
        "id": "XYeenwts9zny",
        "colab_type": "code",
        "outputId": "d6be1962-690a-44f8-b6a0-94518ec1a306",
        "colab": {
          "base_uri": "https://localhost:8080/",
          "height": 34
        }
      },
      "source": [
        "evennums = range(0,20,2)\n",
        "numslist = list(evennums)\n",
        "numslist"
      ],
      "execution_count": 5,
      "outputs": [
        {
          "output_type": "execute_result",
          "data": {
            "text/plain": [
              "[0, 2, 4, 6, 8, 10, 12, 14, 16, 18]"
            ]
          },
          "metadata": {
            "tags": []
          },
          "execution_count": 5
        }
      ]
    },
    {
      "cell_type": "code",
      "metadata": {
        "id": "pTjpGP5O9-0w",
        "colab_type": "code",
        "outputId": "24b8cfcb-4c03-4b73-c304-8585788236f0",
        "colab": {
          "base_uri": "https://localhost:8080/",
          "height": 34
        }
      },
      "source": [
        "# enumerate assigns numerical indexes to list items\n",
        "l= ['a','x','d','f','p']\n",
        "e = enumerate(l)\n",
        "le = list(e)\n",
        "le"
      ],
      "execution_count": 6,
      "outputs": [
        {
          "output_type": "execute_result",
          "data": {
            "text/plain": [
              "[(0, 'a'), (1, 'x'), (2, 'd'), (3, 'f'), (4, 'p')]"
            ]
          },
          "metadata": {
            "tags": []
          },
          "execution_count": 6
        }
      ]
    },
    {
      "cell_type": "code",
      "metadata": {
        "id": "BC-2oQqzoxXC",
        "colab_type": "code",
        "outputId": "7912d333-2f2f-40a1-cc0a-aec7fc88eb1d",
        "colab": {
          "base_uri": "https://localhost:8080/",
          "height": 34
        }
      },
      "source": [
        "# enumerate assigns numerical indexes to list items\n",
        "l= ['a','x','d','f','p']\n",
        "e = enumerate(l)\n",
        "le = [*e]\n",
        "le"
      ],
      "execution_count": 7,
      "outputs": [
        {
          "output_type": "execute_result",
          "data": {
            "text/plain": [
              "[(0, 'a'), (1, 'x'), (2, 'd'), (3, 'f'), (4, 'p')]"
            ]
          },
          "metadata": {
            "tags": []
          },
          "execution_count": 7
        }
      ]
    },
    {
      "cell_type": "code",
      "metadata": {
        "id": "NlaFgnt9-Pbw",
        "colab_type": "code",
        "outputId": "b4423541-bc87-4bf2-ddd6-7a50ead394df",
        "colab": {
          "base_uri": "https://localhost:8080/",
          "height": 34
        }
      },
      "source": [
        "l= ['a','x','d','f','p']\n",
        "e = enumerate(l, start=5)\n",
        "le = list(e)\n",
        "le"
      ],
      "execution_count": 8,
      "outputs": [
        {
          "output_type": "execute_result",
          "data": {
            "text/plain": [
              "[(5, 'a'), (6, 'x'), (7, 'd'), (8, 'f'), (9, 'p')]"
            ]
          },
          "metadata": {
            "tags": []
          },
          "execution_count": 8
        }
      ]
    },
    {
      "cell_type": "code",
      "metadata": {
        "id": "nJYdcUkg-iPg",
        "colab_type": "code",
        "outputId": "44238b5b-47fc-4e38-92b0-8307cc0fe88d",
        "colab": {
          "base_uri": "https://localhost:8080/",
          "height": 34
        }
      },
      "source": [
        "floats = [1.1,2.2,3.3,4.4,5.5]\n",
        "rounds = map(round,floats)\n",
        "print(list(rounds))"
      ],
      "execution_count": 9,
      "outputs": [
        {
          "output_type": "stream",
          "text": [
            "[1, 2, 3, 4, 6]\n"
          ],
          "name": "stdout"
        }
      ]
    },
    {
      "cell_type": "code",
      "metadata": {
        "id": "zj6eF4o2-0pp",
        "colab_type": "code",
        "outputId": "b266b5ce-7b65-4d16-edf8-92bbcb98a934",
        "colab": {
          "base_uri": "https://localhost:8080/",
          "height": 102
        }
      },
      "source": [
        "floats = [1.1,2.2,3.3,4.4,5.5]\n",
        "lam = map(lambda x: x**2, floats)\n",
        "list(lam)"
      ],
      "execution_count": 10,
      "outputs": [
        {
          "output_type": "execute_result",
          "data": {
            "text/plain": [
              "[1.2100000000000002,\n",
              " 4.840000000000001,\n",
              " 10.889999999999999,\n",
              " 19.360000000000003,\n",
              " 30.25]"
            ]
          },
          "metadata": {
            "tags": []
          },
          "execution_count": 10
        }
      ]
    },
    {
      "cell_type": "code",
      "metadata": {
        "id": "bGMK0C5d_R-q",
        "colab_type": "code",
        "outputId": "caffd995-4221-4431-80da-428f59e4efdb",
        "colab": {
          "base_uri": "https://localhost:8080/",
          "height": 68
        }
      },
      "source": [
        "names = ['Jerry', 'Kramer', 'Elaine', 'George', 'Newman']\n",
        "\n",
        "# Rewrite the for loop to use enumerate\n",
        "indexed_names = []\n",
        "for i,name in enumerate(names):\n",
        "    index_name = (i,name)\n",
        "    indexed_names.append(index_name) \n",
        "print(indexed_names)\n",
        "\n",
        "# Rewrite the above for loop using list comprehension\n",
        "indexed_names_comp = [(i,name) for i,name in enumerate(names)]\n",
        "print(indexed_names_comp)\n",
        "\n",
        "# Unpack an enumerate object with a starting index of one\n",
        "indexed_names_unpack = [*enumerate(names, start=1)]  # * makes it so that a list is printed without append, or list comprehension, [] == list()\n",
        "print(indexed_names_unpack)\n"
      ],
      "execution_count": 11,
      "outputs": [
        {
          "output_type": "stream",
          "text": [
            "[(0, 'Jerry'), (1, 'Kramer'), (2, 'Elaine'), (3, 'George'), (4, 'Newman')]\n",
            "[(0, 'Jerry'), (1, 'Kramer'), (2, 'Elaine'), (3, 'George'), (4, 'Newman')]\n",
            "[(1, 'Jerry'), (2, 'Kramer'), (3, 'Elaine'), (4, 'George'), (5, 'Newman')]\n"
          ],
          "name": "stdout"
        }
      ]
    },
    {
      "cell_type": "code",
      "metadata": {
        "id": "Q1e6zodvDAhS",
        "colab_type": "code",
        "outputId": "cad6771d-b31d-4bf2-d2f0-bcfa8a6ae50f",
        "colab": {
          "base_uri": "https://localhost:8080/",
          "height": 51
        }
      },
      "source": [
        "names = ['Jerry', 'Kramer', 'Elaine', 'George', 'Newman']\n",
        "# Use map to apply str.upper to each element in names\n",
        "names_map  = map(lambda name:name.upper(), names)\n",
        "\n",
        "# Print the type of the names_map\n",
        "print(type(names_map))\n",
        "\n",
        "# Unpack names_map into a list\n",
        "names_uppercase =[*names_map]\n",
        "\n",
        "# Print the list created above\n",
        "print(names_uppercase)"
      ],
      "execution_count": 12,
      "outputs": [
        {
          "output_type": "stream",
          "text": [
            "<class 'map'>\n",
            "['JERRY', 'KRAMER', 'ELAINE', 'GEORGE', 'NEWMAN']\n"
          ],
          "name": "stdout"
        }
      ]
    },
    {
      "cell_type": "markdown",
      "metadata": {
        "id": "tvEDjCuIWQ9C",
        "colab_type": "text"
      },
      "source": [
        "### Numpy Arrays"
      ]
    },
    {
      "cell_type": "code",
      "metadata": {
        "id": "GAq-cVEAHWdq",
        "colab_type": "code",
        "outputId": "b29b3644-7978-4bc5-f2f2-c34195fa11aa",
        "colab": {
          "base_uri": "https://localhost:8080/",
          "height": 34
        }
      },
      "source": [
        "import numpy as np\n",
        "nums = np.array(range(5)) # all arrays have to have the same type\n",
        "nums"
      ],
      "execution_count": 13,
      "outputs": [
        {
          "output_type": "execute_result",
          "data": {
            "text/plain": [
              "array([0, 1, 2, 3, 4])"
            ]
          },
          "metadata": {
            "tags": []
          },
          "execution_count": 13
        }
      ]
    },
    {
      "cell_type": "code",
      "metadata": {
        "id": "h9mi4mnNWinS",
        "colab_type": "code",
        "outputId": "5ed0a335-2cd0-4cb5-9880-b540fe344f06",
        "colab": {
          "base_uri": "https://localhost:8080/",
          "height": 34
        }
      },
      "source": [
        "nums.dtype"
      ],
      "execution_count": 14,
      "outputs": [
        {
          "output_type": "execute_result",
          "data": {
            "text/plain": [
              "dtype('int64')"
            ]
          },
          "metadata": {
            "tags": []
          },
          "execution_count": 14
        }
      ]
    },
    {
      "cell_type": "code",
      "metadata": {
        "id": "VBti4dDwWvEX",
        "colab_type": "code",
        "outputId": "30c27a4b-ca98-44e2-a915-e6214425fced",
        "colab": {
          "base_uri": "https://localhost:8080/",
          "height": 34
        }
      },
      "source": [
        "nums = np.array([1,2.2, 5])\n",
        "nums"
      ],
      "execution_count": 15,
      "outputs": [
        {
          "output_type": "execute_result",
          "data": {
            "text/plain": [
              "array([1. , 2.2, 5. ])"
            ]
          },
          "metadata": {
            "tags": []
          },
          "execution_count": 15
        }
      ]
    },
    {
      "cell_type": "code",
      "metadata": {
        "id": "i5umOPj0W9D6",
        "colab_type": "code",
        "outputId": "96f8b6f5-e994-4810-c50c-72035088d6d0",
        "colab": {
          "base_uri": "https://localhost:8080/",
          "height": 34
        }
      },
      "source": [
        "# for loops or list comprehensions in addition to numpy arrays\n",
        "nums = np.array([1,2.2, 5])\n",
        "nums **2"
      ],
      "execution_count": 16,
      "outputs": [
        {
          "output_type": "execute_result",
          "data": {
            "text/plain": [
              "array([ 1.  ,  4.84, 25.  ])"
            ]
          },
          "metadata": {
            "tags": []
          },
          "execution_count": 16
        }
      ]
    },
    {
      "cell_type": "code",
      "metadata": {
        "id": "Bhe6c1-dXadR",
        "colab_type": "code",
        "outputId": "200bf39a-992c-46b5-8d5e-162a5e7b994b",
        "colab": {
          "base_uri": "https://localhost:8080/",
          "height": 34
        }
      },
      "source": [
        "#words = np.array(['and','or','to'])\n",
        "\n",
        "l = ([1,2,3],[4,5,6])\n",
        "a = np.array(l)\n",
        "l[0][2], a[0,2]\n",
        "\n"
      ],
      "execution_count": 17,
      "outputs": [
        {
          "output_type": "execute_result",
          "data": {
            "text/plain": [
              "(3, 3)"
            ]
          },
          "metadata": {
            "tags": []
          },
          "execution_count": 17
        }
      ]
    },
    {
      "cell_type": "code",
      "metadata": {
        "id": "yx8JJ0YGXiJA",
        "colab_type": "code",
        "outputId": "095daed5-b50b-46b8-ecad-a7925d8f185a",
        "colab": {
          "base_uri": "https://localhost:8080/",
          "height": 34
        }
      },
      "source": [
        "[row[0] for row in l], a[:,0]"
      ],
      "execution_count": 18,
      "outputs": [
        {
          "output_type": "execute_result",
          "data": {
            "text/plain": [
              "([1, 4], array([1, 4]))"
            ]
          },
          "metadata": {
            "tags": []
          },
          "execution_count": 18
        }
      ]
    },
    {
      "cell_type": "code",
      "metadata": {
        "id": "j2xMAhF1YcHw",
        "colab_type": "code",
        "outputId": "28b506e9-3e17-4c7c-a4fd-7faa983b2fff",
        "colab": {
          "base_uri": "https://localhost:8080/",
          "height": 34
        }
      },
      "source": [
        "# extracting data\n",
        "l = [1,2,3,4,5,6]\n",
        "a = np.array(l)\n",
        "a[a>=3]\n",
        " # have to use for loop for l or list comprehension"
      ],
      "execution_count": 19,
      "outputs": [
        {
          "output_type": "execute_result",
          "data": {
            "text/plain": [
              "array([3, 4, 5, 6])"
            ]
          },
          "metadata": {
            "tags": []
          },
          "execution_count": 19
        }
      ]
    },
    {
      "cell_type": "code",
      "metadata": {
        "id": "YbFUUrFTZC_d",
        "colab_type": "code",
        "outputId": "c9a2ea98-f631-457c-ebcd-973378562553",
        "colab": {
          "base_uri": "https://localhost:8080/",
          "height": 34
        }
      },
      "source": [
        "b = [i for i in l  if i >= 3]\n",
        "b"
      ],
      "execution_count": 20,
      "outputs": [
        {
          "output_type": "execute_result",
          "data": {
            "text/plain": [
              "[3, 4, 5, 6]"
            ]
          },
          "metadata": {
            "tags": []
          },
          "execution_count": 20
        }
      ]
    },
    {
      "cell_type": "code",
      "metadata": {
        "id": "QBEZFkYpZkEe",
        "colab_type": "code",
        "outputId": "50d97011-e0ce-45cd-fcd1-ed9492b42a6c",
        "colab": {
          "base_uri": "https://localhost:8080/",
          "height": 68
        }
      },
      "source": [
        "# Create a list of arrival times\n",
        "arrival_times = [*range(10, 60, 10)]\n",
        "\n",
        "print(arrival_times)\n",
        "\n",
        "# Convert arrival_times to an array and update the times\n",
        "arrival_times_np = np.array(arrival_times)\n",
        "new_times = arrival_times_np - 3\n",
        "\n",
        "print(new_times)\n",
        "\n",
        "# Use list comprehension and enumerate to pair guests to new times\n",
        "guest_arrivals = [(names[name],time) for name,time in enumerate(new_times)]\n",
        "\n",
        "print(guest_arrivals)\n",
        "\n",
        "# # Map the welcome_guest function to each (guest,time) pair\n",
        "# welcome_map = map(welcome_guest, guest_arrivals)\n",
        "\n",
        "# guest_welcomes = [*welcome_map]\n",
        "# print(*guest_welcomes, sep='\\n')"
      ],
      "execution_count": 21,
      "outputs": [
        {
          "output_type": "stream",
          "text": [
            "[10, 20, 30, 40, 50]\n",
            "[ 7 17 27 37 47]\n",
            "[('Jerry', 7), ('Kramer', 17), ('Elaine', 27), ('George', 37), ('Newman', 47)]\n"
          ],
          "name": "stdout"
        }
      ]
    },
    {
      "cell_type": "markdown",
      "metadata": {
        "id": "jILPbWo3Y4vQ",
        "colab_type": "text"
      },
      "source": [
        "# Timing and Profiling Code"
      ]
    },
    {
      "cell_type": "markdown",
      "metadata": {
        "id": "ONFYL3GGZA20",
        "colab_type": "text"
      },
      "source": [
        "### Examining Runtime"
      ]
    },
    {
      "cell_type": "code",
      "metadata": {
        "id": "Xv4TYIb9btAU",
        "colab_type": "code",
        "outputId": "d7b00c04-c7bf-40a3-c956-bccf35f9b968",
        "colab": {
          "base_uri": "https://localhost:8080/",
          "height": 136
        }
      },
      "source": [
        "'''%timeit'''\n",
        "\n",
        "# Create a list of arrival times\n",
        "%timeit arrival_times = [*range(10, 60, 10)]\n",
        "\n",
        "print(arrival_times)\n",
        "\n",
        "# Convert arrival_times to an array and update the times\n",
        "arrival_times_np = np.array(arrival_times)\n",
        "new_times = arrival_times_np - 3\n",
        "\n",
        "print(new_times)\n",
        "\n",
        "# Use list comprehension and enumerate to pair guests to new times\n",
        "%timeit guest_arrivals = [(names[name],time) for name,time in enumerate(new_times)] # names[name] points to digit created by enumerate, literal creation of tuple\n",
        "\n",
        "print(guest_arrivals)"
      ],
      "execution_count": 22,
      "outputs": [
        {
          "output_type": "stream",
          "text": [
            "The slowest run took 8.21 times longer than the fastest. This could mean that an intermediate result is being cached.\n",
            "1000000 loops, best of 3: 298 ns per loop\n",
            "[10, 20, 30, 40, 50]\n",
            "[ 7 17 27 37 47]\n",
            "The slowest run took 5.06 times longer than the fastest. This could mean that an intermediate result is being cached.\n",
            "1000000 loops, best of 3: 1.69 µs per loop\n",
            "[('Jerry', 7), ('Kramer', 17), ('Elaine', 27), ('George', 37), ('Newman', 47)]\n"
          ],
          "name": "stdout"
        }
      ]
    },
    {
      "cell_type": "code",
      "metadata": {
        "id": "spsjxOl7aUPq",
        "colab_type": "code",
        "outputId": "fe114ff3-f298-4484-c5df-462e237989ce",
        "colab": {
          "base_uri": "https://localhost:8080/",
          "height": 51
        }
      },
      "source": [
        "'''Timeit specifying iterations -r and loops -n'''\n",
        "\n",
        "%timeit -r2 -n10 guest_arrivals = [(names[name],time) for name,time in enumerate(new_times)]\n",
        "\n",
        "print(guest_arrivals)"
      ],
      "execution_count": 23,
      "outputs": [
        {
          "output_type": "stream",
          "text": [
            "10 loops, best of 2: 3.11 µs per loop\n",
            "[('Jerry', 7), ('Kramer', 17), ('Elaine', 27), ('George', 37), ('Newman', 47)]\n"
          ],
          "name": "stdout"
        }
      ]
    },
    {
      "cell_type": "code",
      "metadata": {
        "id": "ZyEdbmyIbLrM",
        "colab_type": "code",
        "outputId": "47841a2c-de48-404d-e5b7-767be662a6b7",
        "colab": {
          "base_uri": "https://localhost:8080/",
          "height": 68
        }
      },
      "source": [
        "'''%%timeit on multiple lines of code'''\n",
        "\n",
        "#%%timeit\n",
        "# Create a list of arrival times\n",
        "arrival_times = [*range(10, 60, 10)]\n",
        "\n",
        "print(arrival_times)\n",
        "\n",
        "# Convert arrival_times to an array and update the times\n",
        "arrival_times_np = np.array(arrival_times)\n",
        "new_times = arrival_times_np - 3\n",
        "\n",
        "print(new_times)\n",
        "\n",
        "# Use list comprehension and enumerate to pair guests to new times\n",
        "guest_arrivals = [(names[name],time) for name,time in enumerate(new_times)]\n",
        "\n",
        "print(guest_arrivals)"
      ],
      "execution_count": 24,
      "outputs": [
        {
          "output_type": "stream",
          "text": [
            "[10, 20, 30, 40, 50]\n",
            "[ 7 17 27 37 47]\n",
            "[('Jerry', 7), ('Kramer', 17), ('Elaine', 27), ('George', 37), ('Newman', 47)]\n"
          ],
          "name": "stdout"
        }
      ]
    },
    {
      "cell_type": "code",
      "metadata": {
        "id": "JvEtOFa1b8gp",
        "colab_type": "code",
        "outputId": "809ae442-1038-40f5-b34d-75ecf5044720",
        "colab": {
          "base_uri": "https://localhost:8080/",
          "height": 51
        }
      },
      "source": [
        "'''saving %timeit into a variable'''\n",
        "import timeit\n",
        "times = %timeit -o guest_arrivals = [(names[name],time) for name,time in enumerate(new_times)]\n"
      ],
      "execution_count": 25,
      "outputs": [
        {
          "output_type": "stream",
          "text": [
            "The slowest run took 6.36 times longer than the fastest. This could mean that an intermediate result is being cached.\n",
            "1000000 loops, best of 3: 1.73 µs per loop\n"
          ],
          "name": "stdout"
        }
      ]
    },
    {
      "cell_type": "code",
      "metadata": {
        "id": "uHhyqxGbcwVy",
        "colab_type": "code",
        "outputId": "1e2a334a-ea03-44a0-a4e5-e39f6e56c2fa",
        "colab": {
          "base_uri": "https://localhost:8080/",
          "height": 164
        }
      },
      "source": [
        "times.timings # .timings deprecated?"
      ],
      "execution_count": 26,
      "outputs": [
        {
          "output_type": "error",
          "ename": "AttributeError",
          "evalue": "ignored",
          "traceback": [
            "\u001b[0;31m---------------------------------------------------------------------------\u001b[0m",
            "\u001b[0;31mAttributeError\u001b[0m                            Traceback (most recent call last)",
            "\u001b[0;32m<ipython-input-26-6da783200711>\u001b[0m in \u001b[0;36m<module>\u001b[0;34m()\u001b[0m\n\u001b[0;32m----> 1\u001b[0;31m \u001b[0mtimes\u001b[0m\u001b[0;34m.\u001b[0m\u001b[0mtimings\u001b[0m \u001b[0;31m# .timings deprecated?\u001b[0m\u001b[0;34m\u001b[0m\u001b[0;34m\u001b[0m\u001b[0m\n\u001b[0m",
            "\u001b[0;31mAttributeError\u001b[0m: 'TimeitResult' object has no attribute 'timings'"
          ]
        }
      ]
    },
    {
      "cell_type": "code",
      "metadata": {
        "id": "vFlP1TYmc4GF",
        "colab_type": "code",
        "outputId": "ed73f679-3d96-42a5-be05-ea5777c2dd7c",
        "colab": {
          "base_uri": "https://localhost:8080/",
          "height": 34
        }
      },
      "source": [
        "times.best"
      ],
      "execution_count": 27,
      "outputs": [
        {
          "output_type": "execute_result",
          "data": {
            "text/plain": [
              "1.7264986079999857e-06"
            ]
          },
          "metadata": {
            "tags": []
          },
          "execution_count": 27
        }
      ]
    },
    {
      "cell_type": "code",
      "metadata": {
        "id": "Cf2jIZgRd_LJ",
        "colab_type": "code",
        "outputId": "67bd7f7a-5a4f-4540-e54d-1671093d3381",
        "colab": {
          "base_uri": "https://localhost:8080/",
          "height": 34
        }
      },
      "source": [
        "times.worst"
      ],
      "execution_count": 28,
      "outputs": [
        {
          "output_type": "execute_result",
          "data": {
            "text/plain": [
              "1.0982000020476335e-05"
            ]
          },
          "metadata": {
            "tags": []
          },
          "execution_count": 28
        }
      ]
    },
    {
      "cell_type": "code",
      "metadata": {
        "id": "sEtlchEheAWH",
        "colab_type": "code",
        "outputId": "0f4e405a-dee4-4dcb-a6f6-fa13ae9cb819",
        "colab": {
          "base_uri": "https://localhost:8080/",
          "height": 51
        }
      },
      "source": [
        "dicti = %timeit -o di = dict() # formal syntax"
      ],
      "execution_count": 29,
      "outputs": [
        {
          "output_type": "stream",
          "text": [
            "The slowest run took 14.25 times longer than the fastest. This could mean that an intermediate result is being cached.\n",
            "10000000 loops, best of 3: 103 ns per loop\n"
          ],
          "name": "stdout"
        }
      ]
    },
    {
      "cell_type": "code",
      "metadata": {
        "id": "j40pc6ITerKo",
        "colab_type": "code",
        "outputId": "c435577a-512b-4155-c18f-3fc5133bf610",
        "colab": {
          "base_uri": "https://localhost:8080/",
          "height": 34
        }
      },
      "source": [
        "fdict = %timeit -o di = {} # literal syntax"
      ],
      "execution_count": 30,
      "outputs": [
        {
          "output_type": "stream",
          "text": [
            "10000000 loops, best of 3: 38.7 ns per loop\n"
          ],
          "name": "stdout"
        }
      ]
    },
    {
      "cell_type": "code",
      "metadata": {
        "id": "HiHNEWQ3ew9n",
        "colab_type": "code",
        "outputId": "7025b832-0093-4d56-b200-4c63fbe1d5aa",
        "colab": {
          "base_uri": "https://localhost:8080/",
          "height": 122
        }
      },
      "source": [
        "# Create a list of integers (0-50) using list comprehension\n",
        "nums_list_comp = [num for num in range(51)]\n",
        "print(nums_list_comp)\n",
        "\n",
        "\n",
        "# Create a list of integers (0-50) by unpacking range\n",
        "nums_unpack = [*range(51)]\n",
        "print(nums_unpack)\n",
        "\n",
        "%timeit nums_list_comp = [num for num in range(51)]\n",
        "%timeit nums_unpack = [*range(51)]"
      ],
      "execution_count": 31,
      "outputs": [
        {
          "output_type": "stream",
          "text": [
            "[0, 1, 2, 3, 4, 5, 6, 7, 8, 9, 10, 11, 12, 13, 14, 15, 16, 17, 18, 19, 20, 21, 22, 23, 24, 25, 26, 27, 28, 29, 30, 31, 32, 33, 34, 35, 36, 37, 38, 39, 40, 41, 42, 43, 44, 45, 46, 47, 48, 49, 50]\n",
            "[0, 1, 2, 3, 4, 5, 6, 7, 8, 9, 10, 11, 12, 13, 14, 15, 16, 17, 18, 19, 20, 21, 22, 23, 24, 25, 26, 27, 28, 29, 30, 31, 32, 33, 34, 35, 36, 37, 38, 39, 40, 41, 42, 43, 44, 45, 46, 47, 48, 49, 50]\n",
            "1000000 loops, best of 3: 1.56 µs per loop\n",
            "The slowest run took 4.87 times longer than the fastest. This could mean that an intermediate result is being cached.\n",
            "1000000 loops, best of 3: 569 ns per loop\n"
          ],
          "name": "stdout"
        }
      ]
    },
    {
      "cell_type": "code",
      "metadata": {
        "id": "_OlapL60fvTB",
        "colab_type": "code",
        "outputId": "9894cb4c-1c90-44bf-c28b-6d1e15193281",
        "colab": {
          "base_uri": "https://localhost:8080/",
          "height": 51
        }
      },
      "source": [
        "# Create a list using the formal name\n",
        "formal_list = list()\n",
        "print(formal_list)\n",
        "\n",
        "# Create a list using the literal syntax\n",
        "literal_list = []\n",
        "print(literal_list)"
      ],
      "execution_count": 32,
      "outputs": [
        {
          "output_type": "stream",
          "text": [
            "[]\n",
            "[]\n"
          ],
          "name": "stdout"
        }
      ]
    },
    {
      "cell_type": "code",
      "metadata": {
        "id": "sHkw9_pIgvHn",
        "colab_type": "code",
        "outputId": "8910dfc5-8409-450e-8242-1a9d7b4d33d9",
        "colab": {
          "base_uri": "https://localhost:8080/",
          "height": 130
        }
      },
      "source": [
        "'''numpy arrays are faster''' \n",
        "%%timeit\n",
        "... wts_np = np.array(wts)\n",
        "... hero_wts_lbs_np = wts_np * 2.20462\n",
        "\n",
        "%%timeit\n",
        "... hero_wts_lbs = []\n",
        "... for wt in wts:\n",
        "...     hero_wts_lbs.append(wt * 2.20462)"
      ],
      "execution_count": 33,
      "outputs": [
        {
          "output_type": "error",
          "ename": "SyntaxError",
          "evalue": "ignored",
          "traceback": [
            "\u001b[0;36m  File \u001b[0;32m\"<ipython-input-33-36ad4b76477a>\"\u001b[0;36m, line \u001b[0;32m2\u001b[0m\n\u001b[0;31m    %%timeit\u001b[0m\n\u001b[0m    ^\u001b[0m\n\u001b[0;31mSyntaxError\u001b[0m\u001b[0;31m:\u001b[0m invalid syntax\n"
          ]
        }
      ]
    },
    {
      "cell_type": "markdown",
      "metadata": {
        "id": "wmPlYUFqh9U9",
        "colab_type": "text"
      },
      "source": [
        "### Code Profiling for runtime"
      ]
    },
    {
      "cell_type": "code",
      "metadata": {
        "id": "VlFS1_mOh5lb",
        "colab_type": "code",
        "outputId": "490d06da-78ad-4841-8de8-02e39f3f75f2",
        "colab": {
          "base_uri": "https://localhost:8080/",
          "height": 343
        }
      },
      "source": [
        "'''Runtime profiling on functions/multiple lines of code'''\n",
        "# line_profiler package\n",
        "!pip install line_profiler"
      ],
      "execution_count": 34,
      "outputs": [
        {
          "output_type": "stream",
          "text": [
            "Collecting line_profiler\n",
            "\u001b[?25l  Downloading https://files.pythonhosted.org/packages/d8/cc/4237472dd5c9a1a4079a89df7ba3d2924eed2696d68b91886743c728a9df/line_profiler-3.0.2-cp36-cp36m-manylinux2010_x86_64.whl (68kB)\n",
            "\u001b[K     |████████████████████████████████| 71kB 1.8MB/s \n",
            "\u001b[?25hRequirement already satisfied: IPython in /usr/local/lib/python3.6/dist-packages (from line_profiler) (5.5.0)\n",
            "Requirement already satisfied: traitlets>=4.2 in /usr/local/lib/python3.6/dist-packages (from IPython->line_profiler) (4.3.3)\n",
            "Requirement already satisfied: pexpect; sys_platform != \"win32\" in /usr/local/lib/python3.6/dist-packages (from IPython->line_profiler) (4.8.0)\n",
            "Requirement already satisfied: decorator in /usr/local/lib/python3.6/dist-packages (from IPython->line_profiler) (4.4.2)\n",
            "Requirement already satisfied: prompt-toolkit<2.0.0,>=1.0.4 in /usr/local/lib/python3.6/dist-packages (from IPython->line_profiler) (1.0.18)\n",
            "Requirement already satisfied: pygments in /usr/local/lib/python3.6/dist-packages (from IPython->line_profiler) (2.1.3)\n",
            "Requirement already satisfied: setuptools>=18.5 in /usr/local/lib/python3.6/dist-packages (from IPython->line_profiler) (46.1.3)\n",
            "Requirement already satisfied: pickleshare in /usr/local/lib/python3.6/dist-packages (from IPython->line_profiler) (0.7.5)\n",
            "Requirement already satisfied: simplegeneric>0.8 in /usr/local/lib/python3.6/dist-packages (from IPython->line_profiler) (0.8.1)\n",
            "Requirement already satisfied: six in /usr/local/lib/python3.6/dist-packages (from traitlets>=4.2->IPython->line_profiler) (1.12.0)\n",
            "Requirement already satisfied: ipython-genutils in /usr/local/lib/python3.6/dist-packages (from traitlets>=4.2->IPython->line_profiler) (0.2.0)\n",
            "Requirement already satisfied: ptyprocess>=0.5 in /usr/local/lib/python3.6/dist-packages (from pexpect; sys_platform != \"win32\"->IPython->line_profiler) (0.6.0)\n",
            "Requirement already satisfied: wcwidth in /usr/local/lib/python3.6/dist-packages (from prompt-toolkit<2.0.0,>=1.0.4->IPython->line_profiler) (0.1.9)\n",
            "Installing collected packages: line-profiler\n",
            "Successfully installed line-profiler-3.0.2\n"
          ],
          "name": "stdout"
        }
      ]
    },
    {
      "cell_type": "code",
      "metadata": {
        "id": "iYAzb5EEkDNA",
        "colab_type": "code",
        "colab": {}
      },
      "source": [
        "%load_ext line_profiler"
      ],
      "execution_count": 0,
      "outputs": []
    },
    {
      "cell_type": "code",
      "metadata": {
        "id": "u5xQa-bMkmWT",
        "colab_type": "code",
        "colab": {}
      },
      "source": [
        "#%lprun -f name_of_function name_of_function(parameters) #-f specifies that a function is being profiled"
      ],
      "execution_count": 0,
      "outputs": []
    },
    {
      "cell_type": "code",
      "metadata": {
        "id": "zuFx2hdelQZL",
        "colab_type": "code",
        "outputId": "754cc772-f716-4430-c64c-3e5d04a6da46",
        "colab": {
          "base_uri": "https://localhost:8080/",
          "height": 34
        }
      },
      "source": [
        "li1 = ['Oh','You\\'re']\n",
        "li2 = ['my!', 'kidding!']\n",
        "def string_sentence(l1, l2):\n",
        "  com = zip(l1, l2)\n",
        "  l = [*com]\n",
        "  return l\n",
        "print(string_sentence(li1,li2))   \n",
        "%lprun -f string_sentence string_sentence(li1,li2)"
      ],
      "execution_count": 37,
      "outputs": [
        {
          "output_type": "stream",
          "text": [
            "[('Oh', 'my!'), (\"You're\", 'kidding!')]\n"
          ],
          "name": "stdout"
        }
      ]
    },
    {
      "cell_type": "markdown",
      "metadata": {
        "id": "u5scZBHIs_7s",
        "colab_type": "text"
      },
      "source": [
        "### Code Profiling for Memory Usage"
      ]
    },
    {
      "cell_type": "code",
      "metadata": {
        "id": "q7RlSmHBmNg4",
        "colab_type": "code",
        "colab": {}
      },
      "source": [
        "'''Use sys for memory usage'''\n",
        "\n",
        "import sys #sys.getsizeof() for object code usage"
      ],
      "execution_count": 0,
      "outputs": []
    },
    {
      "cell_type": "code",
      "metadata": {
        "id": "SXzTeb7pyLBF",
        "colab_type": "code",
        "outputId": "a79645a7-6f9d-4531-e8cc-18a9b75288a8",
        "colab": {
          "base_uri": "https://localhost:8080/",
          "height": 207
        }
      },
      "source": [
        "# for line by line usage, use memory_profiler\n",
        "\n",
        "!pip install memory_profiler"
      ],
      "execution_count": 39,
      "outputs": [
        {
          "output_type": "stream",
          "text": [
            "Collecting memory_profiler\n",
            "  Downloading https://files.pythonhosted.org/packages/f4/03/175d380294b2333b9b79c2f2aa235eb90ee95e3ddef644497a9455404312/memory_profiler-0.57.0.tar.gz\n",
            "Requirement already satisfied: psutil in /usr/local/lib/python3.6/dist-packages (from memory_profiler) (5.4.8)\n",
            "Building wheels for collected packages: memory-profiler\n",
            "  Building wheel for memory-profiler (setup.py) ... \u001b[?25l\u001b[?25hdone\n",
            "  Created wheel for memory-profiler: filename=memory_profiler-0.57.0-cp36-none-any.whl size=28992 sha256=5b69e306a6327f5e4db60f8b3e9be6a4701efb0b8455e71c0d7b0e6d12c21386\n",
            "  Stored in directory: /root/.cache/pip/wheels/74/20/b5/20964ef97be73d2c3a695c9cad7bccd96d1e3e737a8163861f\n",
            "Successfully built memory-profiler\n",
            "Installing collected packages: memory-profiler\n",
            "Successfully installed memory-profiler-0.57.0\n"
          ],
          "name": "stdout"
        }
      ]
    },
    {
      "cell_type": "code",
      "metadata": {
        "id": "nY7xtDu6yQWt",
        "colab_type": "code",
        "colab": {}
      },
      "source": [
        "%load_ext memory_profiler\n"
      ],
      "execution_count": 0,
      "outputs": []
    },
    {
      "cell_type": "code",
      "metadata": {
        "id": "vnWgA0mNyfT0",
        "colab_type": "code",
        "outputId": "920b61b0-e90a-4d07-c69c-189e5690e6f4",
        "colab": {
          "base_uri": "https://localhost:8080/",
          "height": 85
        }
      },
      "source": [
        "li1 = ['Oh','You\\'re']\n",
        "li2 = ['my!', 'kidding!']\n",
        "def string_sentence(l1, l2):\n",
        "  com = zip(l1, l2)\n",
        "  l = [*com]\n",
        "  return l\n",
        "print(string_sentence(li1,li2))\n",
        "%mprun -f string_sentence string_sentence(li1,li2) # can only be used on functions defined in physical files"
      ],
      "execution_count": 41,
      "outputs": [
        {
          "output_type": "stream",
          "text": [
            "[('Oh', 'my!'), (\"You're\", 'kidding!')]\n",
            "ERROR: Could not find file <ipython-input-41-20745907e9f8>\n",
            "NOTE: %mprun can only be used on functions defined in physical files, and not in the IPython environment.\n",
            "\n"
          ],
          "name": "stdout"
        }
      ]
    },
    {
      "cell_type": "code",
      "metadata": {
        "id": "KtB0Ghi_yjt8",
        "colab_type": "code",
        "colab": {}
      },
      "source": [
        "# create .py file and drop into local directory\n"
      ],
      "execution_count": 0,
      "outputs": []
    },
    {
      "cell_type": "markdown",
      "metadata": {
        "id": "DEIHpprW6S2F",
        "colab_type": "text"
      },
      "source": [
        "#### Bringing file into Colab "
      ]
    },
    {
      "cell_type": "code",
      "metadata": {
        "id": "gyQfpZ4q3rSj",
        "colab_type": "code",
        "colab": {}
      },
      "source": [
        "from pydrive.auth import GoogleAuth\n",
        "from pydrive.drive import GoogleDrive\n",
        "from google.colab import auth\n",
        "from oauth2client.client import GoogleCredentials\n",
        "\n",
        "auth.authenticate_user()\n",
        "gauth = GoogleAuth()\n",
        "gauth.credentials = GoogleCredentials.get_application_default()\n",
        "drive = GoogleDrive(gauth)"
      ],
      "execution_count": 0,
      "outputs": []
    },
    {
      "cell_type": "code",
      "metadata": {
        "id": "XOw2UHtK37Gx",
        "colab_type": "code",
        "colab": {}
      },
      "source": [
        "module = drive.CreateFile({'id':'1psxvkic9wY6-4tAhtRTsFgWQvorLlpEn'})"
      ],
      "execution_count": 0,
      "outputs": []
    },
    {
      "cell_type": "code",
      "metadata": {
        "id": "gxfk6Ndh6PY_",
        "colab_type": "code",
        "colab": {}
      },
      "source": [
        "module.GetContentFile('stringsentence.py')"
      ],
      "execution_count": 0,
      "outputs": []
    },
    {
      "cell_type": "code",
      "metadata": {
        "id": "iqYXbrFezeFc",
        "colab_type": "code",
        "outputId": "f1526f74-0a6b-43a6-dd1d-4a1f7b34e3b2",
        "colab": {
          "base_uri": "https://localhost:8080/",
          "height": 51
        }
      },
      "source": [
        "from stringsentence import string_sentence\n",
        "%mprun -f string_sentence string_sentence(li1,li2)"
      ],
      "execution_count": 45,
      "outputs": [
        {
          "output_type": "stream",
          "text": [
            "[('Oh', 'my!'), (\"You're\", 'kidding!')]\n",
            "\n"
          ],
          "name": "stdout"
        }
      ]
    },
    {
      "cell_type": "markdown",
      "metadata": {
        "id": "Fvqe9kvZh6AM",
        "colab_type": "text"
      },
      "source": [
        "# Gaining Efficiencies"
      ]
    },
    {
      "cell_type": "markdown",
      "metadata": {
        "id": "CNyZq4IliAoA",
        "colab_type": "text"
      },
      "source": [
        "### Efficiently combining, counting, iterating"
      ]
    },
    {
      "cell_type": "code",
      "metadata": {
        "id": "PopOvmsK2_GS",
        "colab_type": "code",
        "outputId": "be49bdaa-2f04-433f-ae5b-cb183fca75d7",
        "colab": {
          "base_uri": "https://localhost:8080/",
          "height": 34
        }
      },
      "source": [
        "# Combining objects slow way 6 lines\n",
        "names = ['John', 'Anne','Phyllis']\n",
        "points = [45,26,78]\n",
        "\n",
        "combined = []\n",
        "for i, name in enumerate(names): # digit comes first, i, name in enumerate(names)\n",
        "  combined.append((name, points[i]))\n",
        "\n",
        "print(combined)  "
      ],
      "execution_count": 46,
      "outputs": [
        {
          "output_type": "stream",
          "text": [
            "[('John', 45), ('Anne', 26), ('Phyllis', 78)]\n"
          ],
          "name": "stdout"
        }
      ]
    },
    {
      "cell_type": "code",
      "metadata": {
        "id": "YJFIj3Asj3lY",
        "colab_type": "code",
        "outputId": "6f845c65-6c18-4e8e-c9bb-6e7cf1a83e7d",
        "colab": {
          "base_uri": "https://localhost:8080/",
          "height": 34
        }
      },
      "source": [
        "# Faster way is zip 2 lines\n",
        "combined = zip(names, points)\n",
        "print([*combined])"
      ],
      "execution_count": 47,
      "outputs": [
        {
          "output_type": "stream",
          "text": [
            "[('John', 45), ('Anne', 26), ('Phyllis', 78)]\n"
          ],
          "name": "stdout"
        }
      ]
    },
    {
      "cell_type": "code",
      "metadata": {
        "id": "RnO0RFSOkLTy",
        "colab_type": "code",
        "outputId": "6737509c-d5a5-4ed6-a2c0-12878bfff23e",
        "colab": {
          "base_uri": "https://localhost:8080/",
          "height": 34
        }
      },
      "source": [
        "'''Collections module'''\n",
        "# specialized data types: namedtuple, deque, Counter, OrderedDict, defaultdict\n",
        "\n",
        "# Creating dictionaries of counts: slow way\n",
        "\n",
        "stuff_to_count=['and','and','and','and','or','or','or','ought','ought','ought','ought','ought']\n",
        "di = {}\n",
        "\n",
        "for i in stuff_to_count:\n",
        "  if i in di:\n",
        "    di[i] += 1\n",
        "  else:\n",
        "    di[i] = 1  \n",
        "\n",
        "print(di)"
      ],
      "execution_count": 48,
      "outputs": [
        {
          "output_type": "stream",
          "text": [
            "{'and': 4, 'or': 3, 'ought': 5}\n"
          ],
          "name": "stdout"
        }
      ]
    },
    {
      "cell_type": "code",
      "metadata": {
        "id": "_-rh5p9fnIp2",
        "colab_type": "code",
        "outputId": "ff33c869-2c6b-4748-94eb-0bded7c20fe1",
        "colab": {
          "base_uri": "https://localhost:8080/",
          "height": 34
        }
      },
      "source": [
        "# Creating dictionaries of counts: Counter\n",
        "\n",
        "from collections import Counter\n",
        "\n",
        "stuff_to_count=['and','and','and','and','or','or','or','ought','ought','ought','ought','ought']\n",
        "\n",
        "di = Counter(stuff_to_count)\n",
        "di"
      ],
      "execution_count": 49,
      "outputs": [
        {
          "output_type": "execute_result",
          "data": {
            "text/plain": [
              "Counter({'and': 4, 'or': 3, 'ought': 5})"
            ]
          },
          "metadata": {
            "tags": []
          },
          "execution_count": 49
        }
      ]
    },
    {
      "cell_type": "code",
      "metadata": {
        "id": "9HpU5IEYogfQ",
        "colab_type": "code",
        "outputId": "53d1c0b5-b76c-43a8-be53-cc67be631d8d",
        "colab": {
          "base_uri": "https://localhost:8080/",
          "height": 34
        }
      },
      "source": [
        "# Combinatoric Generators: product, permutations,combinations\n",
        "stuff_to_count=['and','and','and','and','or','or','or','ought','ought','ought','ought','ought']\n",
        "combo = []\n",
        "# slow way\n",
        "for x in stuff_to_count:\n",
        "  for y in stuff_to_count:\n",
        "    if x == y:\n",
        "      continue\n",
        "    if ((x,y) not in combo) & ((y,x) not in combo):  \n",
        "        combo.append((x,y))\n",
        "\n",
        "combo       "
      ],
      "execution_count": 50,
      "outputs": [
        {
          "output_type": "execute_result",
          "data": {
            "text/plain": [
              "[('and', 'or'), ('and', 'ought'), ('or', 'ought')]"
            ]
          },
          "metadata": {
            "tags": []
          },
          "execution_count": 50
        }
      ]
    },
    {
      "cell_type": "code",
      "metadata": {
        "id": "HgGhfW9mvLel",
        "colab_type": "code",
        "outputId": "8d15d729-4337-4a40-9879-33f8371c1635",
        "colab": {
          "base_uri": "https://localhost:8080/",
          "height": 1000
        }
      },
      "source": [
        "# fast way\n",
        "from itertools import combinations\n",
        "combos = combinations(stuff_to_count,2)\n",
        "[*combos]"
      ],
      "execution_count": 51,
      "outputs": [
        {
          "output_type": "execute_result",
          "data": {
            "text/plain": [
              "[('and', 'and'),\n",
              " ('and', 'and'),\n",
              " ('and', 'and'),\n",
              " ('and', 'or'),\n",
              " ('and', 'or'),\n",
              " ('and', 'or'),\n",
              " ('and', 'ought'),\n",
              " ('and', 'ought'),\n",
              " ('and', 'ought'),\n",
              " ('and', 'ought'),\n",
              " ('and', 'ought'),\n",
              " ('and', 'and'),\n",
              " ('and', 'and'),\n",
              " ('and', 'or'),\n",
              " ('and', 'or'),\n",
              " ('and', 'or'),\n",
              " ('and', 'ought'),\n",
              " ('and', 'ought'),\n",
              " ('and', 'ought'),\n",
              " ('and', 'ought'),\n",
              " ('and', 'ought'),\n",
              " ('and', 'and'),\n",
              " ('and', 'or'),\n",
              " ('and', 'or'),\n",
              " ('and', 'or'),\n",
              " ('and', 'ought'),\n",
              " ('and', 'ought'),\n",
              " ('and', 'ought'),\n",
              " ('and', 'ought'),\n",
              " ('and', 'ought'),\n",
              " ('and', 'or'),\n",
              " ('and', 'or'),\n",
              " ('and', 'or'),\n",
              " ('and', 'ought'),\n",
              " ('and', 'ought'),\n",
              " ('and', 'ought'),\n",
              " ('and', 'ought'),\n",
              " ('and', 'ought'),\n",
              " ('or', 'or'),\n",
              " ('or', 'or'),\n",
              " ('or', 'ought'),\n",
              " ('or', 'ought'),\n",
              " ('or', 'ought'),\n",
              " ('or', 'ought'),\n",
              " ('or', 'ought'),\n",
              " ('or', 'or'),\n",
              " ('or', 'ought'),\n",
              " ('or', 'ought'),\n",
              " ('or', 'ought'),\n",
              " ('or', 'ought'),\n",
              " ('or', 'ought'),\n",
              " ('or', 'ought'),\n",
              " ('or', 'ought'),\n",
              " ('or', 'ought'),\n",
              " ('or', 'ought'),\n",
              " ('or', 'ought'),\n",
              " ('ought', 'ought'),\n",
              " ('ought', 'ought'),\n",
              " ('ought', 'ought'),\n",
              " ('ought', 'ought'),\n",
              " ('ought', 'ought'),\n",
              " ('ought', 'ought'),\n",
              " ('ought', 'ought'),\n",
              " ('ought', 'ought'),\n",
              " ('ought', 'ought'),\n",
              " ('ought', 'ought')]"
            ]
          },
          "metadata": {
            "tags": []
          },
          "execution_count": 51
        }
      ]
    },
    {
      "cell_type": "code",
      "metadata": {
        "id": "Su2QKAt4vyis",
        "colab_type": "code",
        "outputId": "f96ef989-ae8d-44e9-ea59-f038173e61d0",
        "colab": {
          "base_uri": "https://localhost:8080/",
          "height": 187
        }
      },
      "source": [
        "from itertools import combinations\n",
        "s = ['a','e','i','o','u']\n",
        "combos = combinations(s,2)\n",
        "[*combos]"
      ],
      "execution_count": 52,
      "outputs": [
        {
          "output_type": "execute_result",
          "data": {
            "text/plain": [
              "[('a', 'e'),\n",
              " ('a', 'i'),\n",
              " ('a', 'o'),\n",
              " ('a', 'u'),\n",
              " ('e', 'i'),\n",
              " ('e', 'o'),\n",
              " ('e', 'u'),\n",
              " ('i', 'o'),\n",
              " ('i', 'u'),\n",
              " ('o', 'u')]"
            ]
          },
          "metadata": {
            "tags": []
          },
          "execution_count": 52
        }
      ]
    },
    {
      "cell_type": "code",
      "metadata": {
        "id": "PaXZUqjhwxIQ",
        "colab_type": "code",
        "outputId": "faa01439-5c16-4f87-c2a3-1a96e696ff9e",
        "colab": {
          "base_uri": "https://localhost:8080/",
          "height": 68
        }
      },
      "source": [
        "names = ['John', 'Anne','Phyllis']\n",
        "points = [45,26,78]\n",
        "names_type1 = [*zip(names, points)]\n",
        "\n",
        "print(*names_type1[:5], sep='\\n')"
      ],
      "execution_count": 53,
      "outputs": [
        {
          "output_type": "stream",
          "text": [
            "('John', 45)\n",
            "('Anne', 26)\n",
            "('Phyllis', 78)\n"
          ],
          "name": "stdout"
        }
      ]
    },
    {
      "cell_type": "code",
      "metadata": {
        "id": "GPyWAHySxZXM",
        "colab_type": "code",
        "outputId": "abbc7b9a-b8a4-4aab-8f82-589c1f293286",
        "colab": {
          "base_uri": "https://localhost:8080/",
          "height": 34
        }
      },
      "source": [
        "names = ['John', 'Anne','Phyllis']\n",
        "points = [45,26,78]\n",
        "floats = [.1,.2,.3]\n",
        "names_type1 = [*zip(names, points,floats)]\n",
        "names_type1"
      ],
      "execution_count": 54,
      "outputs": [
        {
          "output_type": "execute_result",
          "data": {
            "text/plain": [
              "[('John', 45, 0.1), ('Anne', 26, 0.2), ('Phyllis', 78, 0.3)]"
            ]
          },
          "metadata": {
            "tags": []
          },
          "execution_count": 54
        }
      ]
    },
    {
      "cell_type": "code",
      "metadata": {
        "id": "DMK6SVTxx26l",
        "colab_type": "code",
        "outputId": "8c0fad88-9ed1-4ce3-924a-11f0bc2efe46",
        "colab": {
          "base_uri": "https://localhost:8080/",
          "height": 34
        }
      },
      "source": [
        "names = ['John', 'Anne','Phyllis','Derek','Janie']\n",
        "points = [45,26,78]\n",
        "names_type1 = [*zip(names, points)]\n",
        "names_type1"
      ],
      "execution_count": 55,
      "outputs": [
        {
          "output_type": "execute_result",
          "data": {
            "text/plain": [
              "[('John', 45), ('Anne', 26), ('Phyllis', 78)]"
            ]
          },
          "metadata": {
            "tags": []
          },
          "execution_count": 55
        }
      ]
    },
    {
      "cell_type": "code",
      "metadata": {
        "id": "b1lVIS3ZyN6x",
        "colab_type": "code",
        "outputId": "79b2b635-525f-4dc8-b4c0-3722fd52c1c4",
        "colab": {
          "base_uri": "https://localhost:8080/",
          "height": 34
        }
      },
      "source": [
        "names = ['John', 'Anne','Phyllis','Derek','Janie']\n",
        "points = [45,26,78]\n",
        "names_type1 = [*zip(names[:3], points[:2])]\n",
        "names_type1"
      ],
      "execution_count": 56,
      "outputs": [
        {
          "output_type": "execute_result",
          "data": {
            "text/plain": [
              "[('John', 45), ('Anne', 26)]"
            ]
          },
          "metadata": {
            "tags": []
          },
          "execution_count": 56
        }
      ]
    },
    {
      "cell_type": "code",
      "metadata": {
        "id": "YCSlLyNWzesA",
        "colab_type": "code",
        "outputId": "a4d09514-3c05-4645-f639-3996d2cecc87",
        "colab": {
          "base_uri": "https://localhost:8080/",
          "height": 102
        }
      },
      "source": [
        "# Collect the count of primary types\n",
        "type_count = Counter(floats)\n",
        "print(type_count, '\\n')\n",
        "\n",
        "# Collect the count of generations\n",
        "gen_count = Counter(points)\n",
        "print(gen_count, '\\n')\n",
        "\n",
        "# Use list comprehension to get each Pokémon's starting letter\n",
        "\n",
        "starting_letters = [string[0] for string in names]\n",
        "\n",
        "\n",
        "# Collect the count of Pokémon for each starting_letter\n",
        "starting_letters_count = Counter(starting_letters)\n",
        "print(starting_letters_count)"
      ],
      "execution_count": 57,
      "outputs": [
        {
          "output_type": "stream",
          "text": [
            "Counter({0.1: 1, 0.2: 1, 0.3: 1}) \n",
            "\n",
            "Counter({45: 1, 26: 1, 78: 1}) \n",
            "\n",
            "Counter({'J': 2, 'A': 1, 'P': 1, 'D': 1})\n"
          ],
          "name": "stdout"
        }
      ]
    },
    {
      "cell_type": "code",
      "metadata": {
        "id": "CFT7JeC20p_O",
        "colab_type": "code",
        "outputId": "53873844-fc5d-4b14-9bbb-2f78a7658016",
        "colab": {
          "base_uri": "https://localhost:8080/",
          "height": 272
        }
      },
      "source": [
        "from itertools import combinations as co\n",
        "ltwo = co(names, 2)\n",
        "unpack = [*ltwo]\n",
        "\n",
        "lfour = [*co(names,4)]\n",
        "unpack, lfour"
      ],
      "execution_count": 58,
      "outputs": [
        {
          "output_type": "execute_result",
          "data": {
            "text/plain": [
              "([('John', 'Anne'),\n",
              "  ('John', 'Phyllis'),\n",
              "  ('John', 'Derek'),\n",
              "  ('John', 'Janie'),\n",
              "  ('Anne', 'Phyllis'),\n",
              "  ('Anne', 'Derek'),\n",
              "  ('Anne', 'Janie'),\n",
              "  ('Phyllis', 'Derek'),\n",
              "  ('Phyllis', 'Janie'),\n",
              "  ('Derek', 'Janie')],\n",
              " [('John', 'Anne', 'Phyllis', 'Derek'),\n",
              "  ('John', 'Anne', 'Phyllis', 'Janie'),\n",
              "  ('John', 'Anne', 'Derek', 'Janie'),\n",
              "  ('John', 'Phyllis', 'Derek', 'Janie'),\n",
              "  ('Anne', 'Phyllis', 'Derek', 'Janie')])"
            ]
          },
          "metadata": {
            "tags": []
          },
          "execution_count": 58
        }
      ]
    },
    {
      "cell_type": "markdown",
      "metadata": {
        "id": "bMZNIgHm46CC",
        "colab_type": "text"
      },
      "source": [
        "### Set Theory"
      ]
    },
    {
      "cell_type": "code",
      "metadata": {
        "id": "mjvbl7u41nym",
        "colab_type": "code",
        "outputId": "77fc756f-009e-40c6-ec35-b77eb548ec42",
        "colab": {
          "base_uri": "https://localhost:8080/",
          "height": 34
        }
      },
      "source": [
        "names = ['John', 'Anne','Phyllis','Derek','Janie']\n",
        "names2 = ['Miranda','Fergus','Craig','Alison','Stephanie','Derek','Janie']\n",
        "\n",
        "# slow way\n",
        "\n",
        "in_both = []\n",
        "for a in names:\n",
        "  for b in names2:\n",
        "    if a == b:\n",
        "      in_both.append(a)\n",
        "in_both      "
      ],
      "execution_count": 59,
      "outputs": [
        {
          "output_type": "execute_result",
          "data": {
            "text/plain": [
              "['Derek', 'Janie']"
            ]
          },
          "metadata": {
            "tags": []
          },
          "execution_count": 59
        }
      ]
    },
    {
      "cell_type": "code",
      "metadata": {
        "id": "7VuqAxYd6m9J",
        "colab_type": "code",
        "outputId": "1b001fc7-613b-4282-f7cd-7c589f313e58",
        "colab": {
          "base_uri": "https://localhost:8080/",
          "height": 34
        }
      },
      "source": [
        "# faster way\n",
        "\n",
        "set_1 = set(names)\n",
        "set_2 = set(names2)\n",
        "\n",
        "set_1.intersection(set_2)"
      ],
      "execution_count": 60,
      "outputs": [
        {
          "output_type": "execute_result",
          "data": {
            "text/plain": [
              "{'Derek', 'Janie'}"
            ]
          },
          "metadata": {
            "tags": []
          },
          "execution_count": 60
        }
      ]
    },
    {
      "cell_type": "code",
      "metadata": {
        "id": "0xkjRTeA661a",
        "colab_type": "code",
        "outputId": "af9e9eb2-a2dc-404c-b78f-705351aaf5ad",
        "colab": {
          "base_uri": "https://localhost:8080/",
          "height": 34
        }
      },
      "source": [
        "set_1.difference(set_2)"
      ],
      "execution_count": 61,
      "outputs": [
        {
          "output_type": "execute_result",
          "data": {
            "text/plain": [
              "{'Anne', 'John', 'Phyllis'}"
            ]
          },
          "metadata": {
            "tags": []
          },
          "execution_count": 61
        }
      ]
    },
    {
      "cell_type": "code",
      "metadata": {
        "id": "AHZpW9Y97IaJ",
        "colab_type": "code",
        "outputId": "e34fa61b-0eb3-4702-cc5e-14a5c30c60f8",
        "colab": {
          "base_uri": "https://localhost:8080/",
          "height": 34
        }
      },
      "source": [
        "set_2.difference(set_1)"
      ],
      "execution_count": 62,
      "outputs": [
        {
          "output_type": "execute_result",
          "data": {
            "text/plain": [
              "{'Alison', 'Craig', 'Fergus', 'Miranda', 'Stephanie'}"
            ]
          },
          "metadata": {
            "tags": []
          },
          "execution_count": 62
        }
      ]
    },
    {
      "cell_type": "code",
      "metadata": {
        "id": "zyHhiPjP7MI5",
        "colab_type": "code",
        "outputId": "7b098b5b-0adb-44d2-c57e-da4db7a2d87a",
        "colab": {
          "base_uri": "https://localhost:8080/",
          "height": 153
        }
      },
      "source": [
        "set_1.symmetric_difference(set_2) # symmetric_difference: the opposite of intersection"
      ],
      "execution_count": 63,
      "outputs": [
        {
          "output_type": "execute_result",
          "data": {
            "text/plain": [
              "{'Alison',\n",
              " 'Anne',\n",
              " 'Craig',\n",
              " 'Fergus',\n",
              " 'John',\n",
              " 'Miranda',\n",
              " 'Phyllis',\n",
              " 'Stephanie'}"
            ]
          },
          "metadata": {
            "tags": []
          },
          "execution_count": 63
        }
      ]
    },
    {
      "cell_type": "code",
      "metadata": {
        "id": "d0kzRwdR7XTA",
        "colab_type": "code",
        "outputId": "b710e9f5-dd8e-464b-cadd-6e7fd1a18b84",
        "colab": {
          "base_uri": "https://localhost:8080/",
          "height": 187
        }
      },
      "source": [
        "set_1.union(set_2) # combines all unique values"
      ],
      "execution_count": 64,
      "outputs": [
        {
          "output_type": "execute_result",
          "data": {
            "text/plain": [
              "{'Alison',\n",
              " 'Anne',\n",
              " 'Craig',\n",
              " 'Derek',\n",
              " 'Fergus',\n",
              " 'Janie',\n",
              " 'John',\n",
              " 'Miranda',\n",
              " 'Phyllis',\n",
              " 'Stephanie'}"
            ]
          },
          "metadata": {
            "tags": []
          },
          "execution_count": 64
        }
      ]
    },
    {
      "cell_type": "code",
      "metadata": {
        "id": "3EdwUWkt7k5f",
        "colab_type": "code",
        "colab": {}
      },
      "source": [
        "# checking if an itemis in a set is faster than list of tuple"
      ],
      "execution_count": 0,
      "outputs": []
    },
    {
      "cell_type": "code",
      "metadata": {
        "id": "232qvbQQ73_i",
        "colab_type": "code",
        "outputId": "d91743e7-21f1-477e-bed1-b2f87c10a9bd",
        "colab": {
          "base_uri": "https://localhost:8080/",
          "height": 34
        }
      },
      "source": [
        "# pulling sets out of group with repeats\n",
        "\n",
        "#slow way\n",
        "stuff_to_count=['and','and','and','and','or','or','or','ought','ought','ought','ought','ought']\n",
        "\n",
        "l = []\n",
        "for i in stuff_to_count:\n",
        "  if i not in l:\n",
        "    l.append(i)\n",
        "l    "
      ],
      "execution_count": 66,
      "outputs": [
        {
          "output_type": "execute_result",
          "data": {
            "text/plain": [
              "['and', 'or', 'ought']"
            ]
          },
          "metadata": {
            "tags": []
          },
          "execution_count": 66
        }
      ]
    },
    {
      "cell_type": "code",
      "metadata": {
        "id": "Kr7FZMVm8Ypc",
        "colab_type": "code",
        "outputId": "62f7e91d-9a83-405b-ce19-399790d5a3a3",
        "colab": {
          "base_uri": "https://localhost:8080/",
          "height": 34
        }
      },
      "source": [
        "# faster way\n",
        "\n",
        "setof = set(stuff_to_count)\n",
        "setof"
      ],
      "execution_count": 67,
      "outputs": [
        {
          "output_type": "execute_result",
          "data": {
            "text/plain": [
              "{'and', 'or', 'ought'}"
            ]
          },
          "metadata": {
            "tags": []
          },
          "execution_count": 67
        }
      ]
    },
    {
      "cell_type": "markdown",
      "metadata": {
        "id": "SQB4tdAHB86q",
        "colab_type": "text"
      },
      "source": [
        "### Eliminating Loops"
      ]
    },
    {
      "cell_type": "code",
      "metadata": {
        "id": "WlAtWF4oB-43",
        "colab_type": "code",
        "outputId": "1932cd84-6a74-4c9b-9329-ead76b18933c",
        "colab": {
          "base_uri": "https://localhost:8080/",
          "height": 68
        }
      },
      "source": [
        "'''use inbuilt functions to speed up runtime'''\n",
        "\n",
        "stats = [[1,2,3,4,5],[6,7,8,9,10],[11,12,13,14,15]]\n",
        "\n",
        "# using a loop\n",
        "l = []\n",
        "for row in stats:\n",
        "  l.append(sum(row))\n",
        "print(l)\n",
        "\n",
        "# using list comprehension\n",
        "l = [sum(row) for row in stats]\n",
        "print(l)\n",
        "\n",
        "# using map runction\n",
        "l = [*map(sum,stats)]\n",
        "print(l)"
      ],
      "execution_count": 68,
      "outputs": [
        {
          "output_type": "stream",
          "text": [
            "[15, 40, 65]\n",
            "[15, 40, 65]\n",
            "[15, 40, 65]\n"
          ],
          "name": "stdout"
        }
      ]
    },
    {
      "cell_type": "code",
      "metadata": {
        "id": "S-aX8SOnC8V3",
        "colab_type": "code",
        "outputId": "ebdffbcb-4aa6-4ccf-d5a9-bcb743028632",
        "colab": {
          "base_uri": "https://localhost:8080/",
          "height": 357
        }
      },
      "source": [
        "#Combinations loops and itertools\n",
        "#loops\n",
        "names = ['John', 'Anne','Phyllis','Derek','Janie']\n",
        "combo = []\n",
        "# slow way\n",
        "for x in names:\n",
        "  for y in names:\n",
        "    if x == y:\n",
        "      continue\n",
        "    if ((x,y) not in combo) & ((y,x) not in combo):  \n",
        "        combo.append((x,y)) \n",
        "\n",
        "\n",
        "# Combinations \n",
        "names = ['John', 'Anne','Phyllis','Derek','Janie']\n",
        "n = combinations(names,2)\n",
        "combo, [*n]"
      ],
      "execution_count": 69,
      "outputs": [
        {
          "output_type": "execute_result",
          "data": {
            "text/plain": [
              "([('John', 'Anne'),\n",
              "  ('John', 'Phyllis'),\n",
              "  ('John', 'Derek'),\n",
              "  ('John', 'Janie'),\n",
              "  ('Anne', 'Phyllis'),\n",
              "  ('Anne', 'Derek'),\n",
              "  ('Anne', 'Janie'),\n",
              "  ('Phyllis', 'Derek'),\n",
              "  ('Phyllis', 'Janie'),\n",
              "  ('Derek', 'Janie')],\n",
              " [('John', 'Anne'),\n",
              "  ('John', 'Phyllis'),\n",
              "  ('John', 'Derek'),\n",
              "  ('John', 'Janie'),\n",
              "  ('Anne', 'Phyllis'),\n",
              "  ('Anne', 'Derek'),\n",
              "  ('Anne', 'Janie'),\n",
              "  ('Phyllis', 'Derek'),\n",
              "  ('Phyllis', 'Janie'),\n",
              "  ('Derek', 'Janie')])"
            ]
          },
          "metadata": {
            "tags": []
          },
          "execution_count": 69
        }
      ]
    },
    {
      "cell_type": "code",
      "metadata": {
        "id": "rOk8jUH4D7pg",
        "colab_type": "code",
        "outputId": "cab5f0ad-4c39-42da-be62-60dd8eff5685",
        "colab": {
          "base_uri": "https://localhost:8080/",
          "height": 51
        }
      },
      "source": [
        "# USE NUMPY!!!\n",
        "import numpy as np\n",
        "\n",
        "stats = np.array([[1,2,3,4,5],[6,7,8,9,10],[11,12,13,14,15]])\n",
        "\n",
        "#loop way\n",
        "l = []\n",
        "for row in stats:\n",
        "  avg = row.mean()\n",
        "  l.append(avg)\n",
        "print(l)\n",
        "\n",
        "# numpy way\n",
        "avgs = stats.mean(axis=1)\n",
        "print(avgs)\n"
      ],
      "execution_count": 70,
      "outputs": [
        {
          "output_type": "stream",
          "text": [
            "[3.0, 8.0, 13.0]\n",
            "[ 3.  8. 13.]\n"
          ],
          "name": "stdout"
        }
      ]
    },
    {
      "cell_type": "code",
      "metadata": {
        "id": "tqOmHQ6kFSwc",
        "colab_type": "code",
        "colab": {
          "base_uri": "https://localhost:8080/",
          "height": 232
        },
        "outputId": "c94978b4-8630-42f9-ab4b-d5f9fd8e1db1"
      },
      "source": [
        "# Collect Pokémon that belong to generation 1 or generation 2\n",
        "gen1_gen2_pokemon = [name for name,gen in zip(poke_names, poke_gens) if gen < 3]\n",
        "\n",
        "# Create a map object that stores the name lengths\n",
        "name_lengths_map = map(len, poke_names)\n",
        "\n",
        "# Combine gen1_gen2_pokemon and name_lengths_map into a list\n",
        "gen1_gen2_name_lengths = [*(gen1_gen2_pokemon, name_lengths_map)]\n",
        "\n",
        "print(gen1_gen2_name_lengths_loop[:5])\n",
        "print(gen1_gen2_name_lengths[:5])"
      ],
      "execution_count": 71,
      "outputs": [
        {
          "output_type": "error",
          "ename": "NameError",
          "evalue": "ignored",
          "traceback": [
            "\u001b[0;31m---------------------------------------------------------------------------\u001b[0m",
            "\u001b[0;31mNameError\u001b[0m                                 Traceback (most recent call last)",
            "\u001b[0;32m<ipython-input-71-5864bc9c32d1>\u001b[0m in \u001b[0;36m<module>\u001b[0;34m()\u001b[0m\n\u001b[0;32m----> 1\u001b[0;31m \u001b[0mgen1_gen2_pokemon\u001b[0m \u001b[0;34m=\u001b[0m \u001b[0;34m[\u001b[0m\u001b[0mname\u001b[0m \u001b[0;32mfor\u001b[0m \u001b[0mname\u001b[0m\u001b[0;34m,\u001b[0m\u001b[0mgen\u001b[0m \u001b[0;32min\u001b[0m \u001b[0mzip\u001b[0m\u001b[0;34m(\u001b[0m\u001b[0mpoke_names\u001b[0m\u001b[0;34m,\u001b[0m \u001b[0mpoke_gens\u001b[0m\u001b[0;34m)\u001b[0m \u001b[0;32mif\u001b[0m \u001b[0mgen\u001b[0m \u001b[0;34m<\u001b[0m \u001b[0;36m3\u001b[0m\u001b[0;34m]\u001b[0m\u001b[0;34m\u001b[0m\u001b[0;34m\u001b[0m\u001b[0m\n\u001b[0m\u001b[1;32m      2\u001b[0m \u001b[0;34m\u001b[0m\u001b[0m\n\u001b[1;32m      3\u001b[0m \u001b[0;31m# Create a map object that stores the name lengths\u001b[0m\u001b[0;34m\u001b[0m\u001b[0;34m\u001b[0m\u001b[0;34m\u001b[0m\u001b[0m\n\u001b[1;32m      4\u001b[0m \u001b[0mname_lengths_map\u001b[0m \u001b[0;34m=\u001b[0m \u001b[0mmap\u001b[0m\u001b[0;34m(\u001b[0m\u001b[0mlen\u001b[0m\u001b[0;34m,\u001b[0m \u001b[0mpoke_names\u001b[0m\u001b[0;34m)\u001b[0m\u001b[0;34m\u001b[0m\u001b[0;34m\u001b[0m\u001b[0m\n\u001b[1;32m      5\u001b[0m \u001b[0;34m\u001b[0m\u001b[0m\n",
            "\u001b[0;31mNameError\u001b[0m: name 'poke_names' is not defined"
          ]
        }
      ]
    },
    {
      "cell_type": "code",
      "metadata": {
        "id": "ArUcEjYdHkHx",
        "colab_type": "code",
        "colab": {}
      },
      "source": [
        "\n",
        "# Create a total stats array\n",
        "total_stats_np = stats.sum(axis=1)\n",
        "\n",
        "# Create an average stats array\n",
        "avg_stats_np = stats.mean(axis=1)\n",
        "\n",
        "# Combine names, total_stats_np, and avg_stats_np into a list\n",
        "poke_list_np = [*zip(names, total_stats_np, avg_stats_np)]\n",
        "\n",
        "print(poke_list_np == poke_list, '\\n')\n",
        "print(poke_list_np[:3])\n",
        "print(poke_list[:3], '\\n')\n",
        "top_3 = sorted(poke_list_np, key=lambda x: x[1], reverse=True)[:3]\n",
        "print('3 strongest Pokémon:\\n{}'.format(top_3))"
      ],
      "execution_count": 0,
      "outputs": []
    },
    {
      "cell_type": "markdown",
      "metadata": {
        "id": "NK5k6yU_HwrT",
        "colab_type": "text"
      },
      "source": [
        "### Writing Better Loops"
      ]
    },
    {
      "cell_type": "code",
      "metadata": {
        "id": "2s2IZFbKHv45",
        "colab_type": "code",
        "outputId": "d39ee0d8-208d-41f5-f7c8-04161bef35b1",
        "colab": {
          "base_uri": "https://localhost:8080/",
          "height": 51
        }
      },
      "source": [
        "# calculations or actions that are only done once (value doesn't change), pull out of loop to above, data conversions can often be done first or\n",
        "# afterwards, \n",
        "\n",
        "names = ['John', 'Anne','Phyllis','Derek','Janie']\n",
        "stats = np.array([5,6,7,8,9])\n",
        "\n",
        "#Calculate mean first, not inside loop\n",
        "stats_m = stats.mean()\n",
        "for name, stat in zip(names,stats):\n",
        "  # stats = np.array([5,6,7,8,9]) bad here\n",
        "  if stat > stats_m:\n",
        "    print(name,stat)\n",
        "\n"
      ],
      "execution_count": 72,
      "outputs": [
        {
          "output_type": "stream",
          "text": [
            "Derek 8\n",
            "Janie 9\n"
          ],
          "name": "stdout"
        }
      ]
    },
    {
      "cell_type": "code",
      "metadata": {
        "id": "uDKcsg_cJ6qd",
        "colab_type": "code",
        "outputId": "3c42701d-f10e-429d-a254-fd7424629594",
        "colab": {
          "base_uri": "https://localhost:8080/",
          "height": 119
        }
      },
      "source": [
        "names = ['John', 'Anne','Phyllis','Derek','Janie']\n",
        "stats = [5,6,7,8,9]\n",
        "floats = [.1,.2,.3,.4,.5]\n",
        "\n",
        "#bad way\n",
        "l= []\n",
        "for tup in zip(names,stats,floats):\n",
        "  tup_list = list(tup)\n",
        "  l.append(tup_list)\n",
        "print(l)\n",
        "\n",
        "# better way\n",
        "m =[]\n",
        "for tup in zip(names,stats,floats):\n",
        "  m.append(tup)\n",
        "\n",
        "n = [*map(list,m)] \n",
        "n "
      ],
      "execution_count": 73,
      "outputs": [
        {
          "output_type": "stream",
          "text": [
            "[['John', 5, 0.1], ['Anne', 6, 0.2], ['Phyllis', 7, 0.3], ['Derek', 8, 0.4], ['Janie', 9, 0.5]]\n"
          ],
          "name": "stdout"
        },
        {
          "output_type": "execute_result",
          "data": {
            "text/plain": [
              "[['John', 5, 0.1],\n",
              " ['Anne', 6, 0.2],\n",
              " ['Phyllis', 7, 0.3],\n",
              " ['Derek', 8, 0.4],\n",
              " ['Janie', 9, 0.5]]"
            ]
          },
          "metadata": {
            "tags": []
          },
          "execution_count": 73
        }
      ]
    },
    {
      "cell_type": "code",
      "metadata": {
        "id": "KNIfxr2tLYtY",
        "colab_type": "code",
        "colab": {}
      },
      "source": [
        "\n",
        "# Collect all possible pairs using combinations()\n",
        "possible_pairs = [*combinations(pokemon_types, 2)]\n",
        "\n",
        "# Create an empty list called enumerated_tuples\n",
        "enumerated_tuples = []\n",
        "\n",
        "# Add a line to append each enumerated_pair_tuple to the empty list above\n",
        "for i,pair in enumerate(possible_pairs, 1):\n",
        "    enumerated_pair_tuple = (i,) + pair\n",
        "    enumerated_tuples.append(enumerated_pair_tuple)\n",
        "\n",
        "# Convert all tuples in enumerated_tuples to a list\n",
        "enumerated_pairs = [*map(list, enumerated_tuples)]\n",
        "print(enumerated_pairs)"
      ],
      "execution_count": 0,
      "outputs": []
    },
    {
      "cell_type": "code",
      "metadata": {
        "id": "o2FkOF7OPzJg",
        "colab_type": "code",
        "colab": {}
      },
      "source": [
        "\n",
        "# Calculate the total HP avg and total HP standard deviation\n",
        "hp_avg = hps.mean()\n",
        "hp_std = hps.std()\n",
        "\n",
        "# Use NumPy to eliminate the previous for loop\n",
        "z_scores = (hps - hp_avg)/hp_std\n",
        "\n",
        "# Combine names, hps, and z_scores\n",
        "poke_zscores2 = [*zip(names, hps, z_scores)]\n",
        "print(*poke_zscores2[:3], sep='\\n')\n",
        "\n",
        "highest_hp_pokemon2 = [(name, hp, zscore) for name,hp,zscore in poke_zscores2 if zscore > 2]\n",
        "print(*highest_hp_pokemon2, sep='\\n')"
      ],
      "execution_count": 0,
      "outputs": []
    },
    {
      "cell_type": "markdown",
      "metadata": {
        "id": "giOChFAFOegB",
        "colab_type": "text"
      },
      "source": [
        "# Basic Pandas Optimizations"
      ]
    },
    {
      "cell_type": "markdown",
      "metadata": {
        "id": "1ojvct1qQ4g8",
        "colab_type": "text"
      },
      "source": [
        "### Intro to Pandas Dataframe Iteration"
      ]
    },
    {
      "cell_type": "code",
      "metadata": {
        "id": "KowfC1bpQ8En",
        "colab_type": "code",
        "colab": {
          "base_uri": "https://localhost:8080/",
          "height": 142
        },
        "outputId": "93257b38-e090-4db3-9912-8309374303d4"
      },
      "source": [
        "import pandas as pd\n",
        "import numpy as np\n",
        "tips = pd.read_csv('tips.csv')\n",
        "tips.head(3)"
      ],
      "execution_count": 84,
      "outputs": [
        {
          "output_type": "execute_result",
          "data": {
            "text/html": [
              "<div>\n",
              "<style scoped>\n",
              "    .dataframe tbody tr th:only-of-type {\n",
              "        vertical-align: middle;\n",
              "    }\n",
              "\n",
              "    .dataframe tbody tr th {\n",
              "        vertical-align: top;\n",
              "    }\n",
              "\n",
              "    .dataframe thead th {\n",
              "        text-align: right;\n",
              "    }\n",
              "</style>\n",
              "<table border=\"1\" class=\"dataframe\">\n",
              "  <thead>\n",
              "    <tr style=\"text-align: right;\">\n",
              "      <th></th>\n",
              "      <th>total_bill</th>\n",
              "      <th>tip</th>\n",
              "      <th>sex</th>\n",
              "      <th>smoker</th>\n",
              "      <th>day</th>\n",
              "      <th>time</th>\n",
              "      <th>size</th>\n",
              "    </tr>\n",
              "  </thead>\n",
              "  <tbody>\n",
              "    <tr>\n",
              "      <th>0</th>\n",
              "      <td>16.99</td>\n",
              "      <td>1.01</td>\n",
              "      <td>Female</td>\n",
              "      <td>No</td>\n",
              "      <td>Sun</td>\n",
              "      <td>Dinner</td>\n",
              "      <td>2</td>\n",
              "    </tr>\n",
              "    <tr>\n",
              "      <th>1</th>\n",
              "      <td>10.34</td>\n",
              "      <td>1.66</td>\n",
              "      <td>Male</td>\n",
              "      <td>No</td>\n",
              "      <td>Sun</td>\n",
              "      <td>Dinner</td>\n",
              "      <td>3</td>\n",
              "    </tr>\n",
              "    <tr>\n",
              "      <th>2</th>\n",
              "      <td>21.01</td>\n",
              "      <td>3.50</td>\n",
              "      <td>Male</td>\n",
              "      <td>No</td>\n",
              "      <td>Sun</td>\n",
              "      <td>Dinner</td>\n",
              "      <td>3</td>\n",
              "    </tr>\n",
              "  </tbody>\n",
              "</table>\n",
              "</div>"
            ],
            "text/plain": [
              "   total_bill   tip     sex smoker  day    time  size\n",
              "0       16.99  1.01  Female     No  Sun  Dinner     2\n",
              "1       10.34  1.66    Male     No  Sun  Dinner     3\n",
              "2       21.01  3.50    Male     No  Sun  Dinner     3"
            ]
          },
          "metadata": {
            "tags": []
          },
          "execution_count": 84
        }
      ]
    },
    {
      "cell_type": "code",
      "metadata": {
        "id": "VReWd7XLQ0bQ",
        "colab_type": "code",
        "colab": {
          "base_uri": "https://localhost:8080/",
          "height": 142
        },
        "outputId": "f51ae300-d3d0-425c-fa85-c9c22a9a99d5"
      },
      "source": [
        "# Slow way: What percent of the total bill was the tip?\n",
        "\n",
        "# Create function to pass in the iteration\n",
        "def calc_percent(tip, total):\n",
        "\n",
        "  percent_tip = tip/total\n",
        "  return np.round(percent_tip,2)\n",
        "\n",
        "# Create iterative loop\n",
        "percent_tips_list = []\n",
        "\n",
        "for i in range(len(tips)): #specifying height of dataframe\n",
        "\n",
        "  row = tips.iloc[i]\n",
        "  total_bill = row['total_bill']\n",
        "  tip = row['tip']\n",
        "  tip_percent = calc_percent(tip, total_bill)\n",
        "  percent_tips_list.append(tip_percent)\n",
        "\n",
        "tips['percent_tip'] = percent_tips_list\n",
        "tips.head(3)"
      ],
      "execution_count": 86,
      "outputs": [
        {
          "output_type": "execute_result",
          "data": {
            "text/html": [
              "<div>\n",
              "<style scoped>\n",
              "    .dataframe tbody tr th:only-of-type {\n",
              "        vertical-align: middle;\n",
              "    }\n",
              "\n",
              "    .dataframe tbody tr th {\n",
              "        vertical-align: top;\n",
              "    }\n",
              "\n",
              "    .dataframe thead th {\n",
              "        text-align: right;\n",
              "    }\n",
              "</style>\n",
              "<table border=\"1\" class=\"dataframe\">\n",
              "  <thead>\n",
              "    <tr style=\"text-align: right;\">\n",
              "      <th></th>\n",
              "      <th>total_bill</th>\n",
              "      <th>tip</th>\n",
              "      <th>sex</th>\n",
              "      <th>smoker</th>\n",
              "      <th>day</th>\n",
              "      <th>time</th>\n",
              "      <th>size</th>\n",
              "      <th>percent_tip</th>\n",
              "    </tr>\n",
              "  </thead>\n",
              "  <tbody>\n",
              "    <tr>\n",
              "      <th>0</th>\n",
              "      <td>16.99</td>\n",
              "      <td>1.01</td>\n",
              "      <td>Female</td>\n",
              "      <td>No</td>\n",
              "      <td>Sun</td>\n",
              "      <td>Dinner</td>\n",
              "      <td>2</td>\n",
              "      <td>0.06</td>\n",
              "    </tr>\n",
              "    <tr>\n",
              "      <th>1</th>\n",
              "      <td>10.34</td>\n",
              "      <td>1.66</td>\n",
              "      <td>Male</td>\n",
              "      <td>No</td>\n",
              "      <td>Sun</td>\n",
              "      <td>Dinner</td>\n",
              "      <td>3</td>\n",
              "      <td>0.16</td>\n",
              "    </tr>\n",
              "    <tr>\n",
              "      <th>2</th>\n",
              "      <td>21.01</td>\n",
              "      <td>3.50</td>\n",
              "      <td>Male</td>\n",
              "      <td>No</td>\n",
              "      <td>Sun</td>\n",
              "      <td>Dinner</td>\n",
              "      <td>3</td>\n",
              "      <td>0.17</td>\n",
              "    </tr>\n",
              "  </tbody>\n",
              "</table>\n",
              "</div>"
            ],
            "text/plain": [
              "   total_bill   tip     sex smoker  day    time  size  percent_tip\n",
              "0       16.99  1.01  Female     No  Sun  Dinner     2         0.06\n",
              "1       10.34  1.66    Male     No  Sun  Dinner     3         0.16\n",
              "2       21.01  3.50    Male     No  Sun  Dinner     3         0.17"
            ]
          },
          "metadata": {
            "tags": []
          },
          "execution_count": 86
        }
      ]
    },
    {
      "cell_type": "code",
      "metadata": {
        "id": "vSjMwAGM63KJ",
        "colab_type": "code",
        "colab": {
          "base_uri": "https://localhost:8080/",
          "height": 142
        },
        "outputId": "56539661-a029-4078-ef71-35a9990fdd94"
      },
      "source": [
        "# Faster way: What percent of the total bill was the tip? (similar lines but more efficient)\n",
        "tips = pd.read_csv('tips.csv')\n",
        "\n",
        "# Create function to pass in the iteration\n",
        "def calc_percent(tip, total):\n",
        "\n",
        "  percent_tip = tip/total\n",
        "  return np.round(percent_tip,2)\n",
        "\n",
        "# Use .iterrows()\n",
        "percent_tips_list = []\n",
        "for i, row in tips.iterrows(): # recall iterrows() returns a tuple of an index and a value, can also use one variable to store tuple\n",
        "  \n",
        "  tip = row['tip']\n",
        "  total_bill = row['total_bill']\n",
        "  tip_percent = calc_percent(tip, total_bill)\n",
        "  percent_tips_list.append(tip_percent)\n",
        "\n",
        "tips['percent_tip'] = percent_tips_list\n",
        "tips.head(3)"
      ],
      "execution_count": 89,
      "outputs": [
        {
          "output_type": "execute_result",
          "data": {
            "text/html": [
              "<div>\n",
              "<style scoped>\n",
              "    .dataframe tbody tr th:only-of-type {\n",
              "        vertical-align: middle;\n",
              "    }\n",
              "\n",
              "    .dataframe tbody tr th {\n",
              "        vertical-align: top;\n",
              "    }\n",
              "\n",
              "    .dataframe thead th {\n",
              "        text-align: right;\n",
              "    }\n",
              "</style>\n",
              "<table border=\"1\" class=\"dataframe\">\n",
              "  <thead>\n",
              "    <tr style=\"text-align: right;\">\n",
              "      <th></th>\n",
              "      <th>total_bill</th>\n",
              "      <th>tip</th>\n",
              "      <th>sex</th>\n",
              "      <th>smoker</th>\n",
              "      <th>day</th>\n",
              "      <th>time</th>\n",
              "      <th>size</th>\n",
              "      <th>percent_tip</th>\n",
              "    </tr>\n",
              "  </thead>\n",
              "  <tbody>\n",
              "    <tr>\n",
              "      <th>0</th>\n",
              "      <td>16.99</td>\n",
              "      <td>1.01</td>\n",
              "      <td>Female</td>\n",
              "      <td>No</td>\n",
              "      <td>Sun</td>\n",
              "      <td>Dinner</td>\n",
              "      <td>2</td>\n",
              "      <td>0.06</td>\n",
              "    </tr>\n",
              "    <tr>\n",
              "      <th>1</th>\n",
              "      <td>10.34</td>\n",
              "      <td>1.66</td>\n",
              "      <td>Male</td>\n",
              "      <td>No</td>\n",
              "      <td>Sun</td>\n",
              "      <td>Dinner</td>\n",
              "      <td>3</td>\n",
              "      <td>0.16</td>\n",
              "    </tr>\n",
              "    <tr>\n",
              "      <th>2</th>\n",
              "      <td>21.01</td>\n",
              "      <td>3.50</td>\n",
              "      <td>Male</td>\n",
              "      <td>No</td>\n",
              "      <td>Sun</td>\n",
              "      <td>Dinner</td>\n",
              "      <td>3</td>\n",
              "      <td>0.17</td>\n",
              "    </tr>\n",
              "  </tbody>\n",
              "</table>\n",
              "</div>"
            ],
            "text/plain": [
              "   total_bill   tip     sex smoker  day    time  size  percent_tip\n",
              "0       16.99  1.01  Female     No  Sun  Dinner     2         0.06\n",
              "1       10.34  1.66    Male     No  Sun  Dinner     3         0.16\n",
              "2       21.01  3.50    Male     No  Sun  Dinner     3         0.17"
            ]
          },
          "metadata": {
            "tags": []
          },
          "execution_count": 89
        }
      ]
    },
    {
      "cell_type": "markdown",
      "metadata": {
        "id": "EEMRD-jKFYS4",
        "colab_type": "text"
      },
      "source": [
        "### Another iterator method: itertuples():"
      ]
    },
    {
      "cell_type": "code",
      "metadata": {
        "id": "wPduitOS8eSu",
        "colab_type": "code",
        "colab": {
          "base_uri": "https://localhost:8080/",
          "height": 142
        },
        "outputId": "a1d89582-8194-4244-84a6-7635b71fb671"
      },
      "source": [
        "# Faster than iterrows(), itertuples().  Have to use dot notation when accessing attributes (columns)\n",
        "tips = pd.read_csv('tips.csv')\n",
        "\n",
        "# Create function to pass in the iteration\n",
        "def calc_percent(tip, total):\n",
        "\n",
        "  percent_tip = tip/total\n",
        "  return np.round(percent_tip,2)\n",
        "\n",
        "# Use .iterrows()\n",
        "percent_tips_list = []\n",
        "for row in tips.itertuples(): # recall iterrows() returns a tuple of an index and a value, can also use one variable to store tuple\n",
        "  \n",
        "  tip = row.tip\n",
        "  total_bill = row.total_bill\n",
        "  tip_percent = calc_percent(tip, total_bill)\n",
        "  percent_tips_list.append(tip_percent)\n",
        "\n",
        "tips['percent_tip'] = percent_tips_list\n",
        "tips.head(3)\n"
      ],
      "execution_count": 90,
      "outputs": [
        {
          "output_type": "execute_result",
          "data": {
            "text/html": [
              "<div>\n",
              "<style scoped>\n",
              "    .dataframe tbody tr th:only-of-type {\n",
              "        vertical-align: middle;\n",
              "    }\n",
              "\n",
              "    .dataframe tbody tr th {\n",
              "        vertical-align: top;\n",
              "    }\n",
              "\n",
              "    .dataframe thead th {\n",
              "        text-align: right;\n",
              "    }\n",
              "</style>\n",
              "<table border=\"1\" class=\"dataframe\">\n",
              "  <thead>\n",
              "    <tr style=\"text-align: right;\">\n",
              "      <th></th>\n",
              "      <th>total_bill</th>\n",
              "      <th>tip</th>\n",
              "      <th>sex</th>\n",
              "      <th>smoker</th>\n",
              "      <th>day</th>\n",
              "      <th>time</th>\n",
              "      <th>size</th>\n",
              "      <th>percent_tip</th>\n",
              "    </tr>\n",
              "  </thead>\n",
              "  <tbody>\n",
              "    <tr>\n",
              "      <th>0</th>\n",
              "      <td>16.99</td>\n",
              "      <td>1.01</td>\n",
              "      <td>Female</td>\n",
              "      <td>No</td>\n",
              "      <td>Sun</td>\n",
              "      <td>Dinner</td>\n",
              "      <td>2</td>\n",
              "      <td>0.06</td>\n",
              "    </tr>\n",
              "    <tr>\n",
              "      <th>1</th>\n",
              "      <td>10.34</td>\n",
              "      <td>1.66</td>\n",
              "      <td>Male</td>\n",
              "      <td>No</td>\n",
              "      <td>Sun</td>\n",
              "      <td>Dinner</td>\n",
              "      <td>3</td>\n",
              "      <td>0.16</td>\n",
              "    </tr>\n",
              "    <tr>\n",
              "      <th>2</th>\n",
              "      <td>21.01</td>\n",
              "      <td>3.50</td>\n",
              "      <td>Male</td>\n",
              "      <td>No</td>\n",
              "      <td>Sun</td>\n",
              "      <td>Dinner</td>\n",
              "      <td>3</td>\n",
              "      <td>0.17</td>\n",
              "    </tr>\n",
              "  </tbody>\n",
              "</table>\n",
              "</div>"
            ],
            "text/plain": [
              "   total_bill   tip     sex smoker  day    time  size  percent_tip\n",
              "0       16.99  1.01  Female     No  Sun  Dinner     2         0.06\n",
              "1       10.34  1.66    Male     No  Sun  Dinner     3         0.16\n",
              "2       21.01  3.50    Male     No  Sun  Dinner     3         0.17"
            ]
          },
          "metadata": {
            "tags": []
          },
          "execution_count": 90
        }
      ]
    },
    {
      "cell_type": "code",
      "metadata": {
        "id": "CyxZ19vEG6kh",
        "colab_type": "code",
        "colab": {
          "base_uri": "https://localhost:8080/",
          "height": 1000
        },
        "outputId": "3d5eb34c-1608-4bab-90fa-3ff7db4d28c7"
      },
      "source": [
        "for row in tips.itertuples():\n",
        "  print(row)"
      ],
      "execution_count": 97,
      "outputs": [
        {
          "output_type": "stream",
          "text": [
            "Pandas(Index=0, total_bill=16.99, tip=1.01, sex='Female', smoker='No', day='Sun', time='Dinner', size=2, percent_tip=0.06)\n",
            "Pandas(Index=1, total_bill=10.34, tip=1.66, sex='Male', smoker='No', day='Sun', time='Dinner', size=3, percent_tip=0.16)\n",
            "Pandas(Index=2, total_bill=21.01, tip=3.5, sex='Male', smoker='No', day='Sun', time='Dinner', size=3, percent_tip=0.17)\n",
            "Pandas(Index=3, total_bill=23.68, tip=3.31, sex='Male', smoker='No', day='Sun', time='Dinner', size=2, percent_tip=0.14)\n",
            "Pandas(Index=4, total_bill=24.59, tip=3.61, sex='Female', smoker='No', day='Sun', time='Dinner', size=4, percent_tip=0.15)\n",
            "Pandas(Index=5, total_bill=25.29, tip=4.71, sex='Male', smoker='No', day='Sun', time='Dinner', size=4, percent_tip=0.19)\n",
            "Pandas(Index=6, total_bill=8.77, tip=2.0, sex='Male', smoker='No', day='Sun', time='Dinner', size=2, percent_tip=0.23)\n",
            "Pandas(Index=7, total_bill=26.88, tip=3.12, sex='Male', smoker='No', day='Sun', time='Dinner', size=4, percent_tip=0.12)\n",
            "Pandas(Index=8, total_bill=15.04, tip=1.96, sex='Male', smoker='No', day='Sun', time='Dinner', size=2, percent_tip=0.13)\n",
            "Pandas(Index=9, total_bill=14.78, tip=3.23, sex='Male', smoker='No', day='Sun', time='Dinner', size=2, percent_tip=0.22)\n",
            "Pandas(Index=10, total_bill=10.27, tip=1.71, sex='Male', smoker='No', day='Sun', time='Dinner', size=2, percent_tip=0.17)\n",
            "Pandas(Index=11, total_bill=35.26, tip=5.0, sex='Female', smoker='No', day='Sun', time='Dinner', size=4, percent_tip=0.14)\n",
            "Pandas(Index=12, total_bill=15.42, tip=1.57, sex='Male', smoker='No', day='Sun', time='Dinner', size=2, percent_tip=0.1)\n",
            "Pandas(Index=13, total_bill=18.43, tip=3.0, sex='Male', smoker='No', day='Sun', time='Dinner', size=4, percent_tip=0.16)\n",
            "Pandas(Index=14, total_bill=14.83, tip=3.02, sex='Female', smoker='No', day='Sun', time='Dinner', size=2, percent_tip=0.2)\n",
            "Pandas(Index=15, total_bill=21.58, tip=3.92, sex='Male', smoker='No', day='Sun', time='Dinner', size=2, percent_tip=0.18)\n",
            "Pandas(Index=16, total_bill=10.33, tip=1.67, sex='Female', smoker='No', day='Sun', time='Dinner', size=3, percent_tip=0.16)\n",
            "Pandas(Index=17, total_bill=16.29, tip=3.71, sex='Male', smoker='No', day='Sun', time='Dinner', size=3, percent_tip=0.23)\n",
            "Pandas(Index=18, total_bill=16.97, tip=3.5, sex='Female', smoker='No', day='Sun', time='Dinner', size=3, percent_tip=0.21)\n",
            "Pandas(Index=19, total_bill=20.65, tip=3.35, sex='Male', smoker='No', day='Sat', time='Dinner', size=3, percent_tip=0.16)\n",
            "Pandas(Index=20, total_bill=17.92, tip=4.08, sex='Male', smoker='No', day='Sat', time='Dinner', size=2, percent_tip=0.23)\n",
            "Pandas(Index=21, total_bill=20.29, tip=2.75, sex='Female', smoker='No', day='Sat', time='Dinner', size=2, percent_tip=0.14)\n",
            "Pandas(Index=22, total_bill=15.77, tip=2.23, sex='Female', smoker='No', day='Sat', time='Dinner', size=2, percent_tip=0.14)\n",
            "Pandas(Index=23, total_bill=39.42, tip=7.58, sex='Male', smoker='No', day='Sat', time='Dinner', size=4, percent_tip=0.19)\n",
            "Pandas(Index=24, total_bill=19.82, tip=3.18, sex='Male', smoker='No', day='Sat', time='Dinner', size=2, percent_tip=0.16)\n",
            "Pandas(Index=25, total_bill=17.81, tip=2.34, sex='Male', smoker='No', day='Sat', time='Dinner', size=4, percent_tip=0.13)\n",
            "Pandas(Index=26, total_bill=13.37, tip=2.0, sex='Male', smoker='No', day='Sat', time='Dinner', size=2, percent_tip=0.15)\n",
            "Pandas(Index=27, total_bill=12.69, tip=2.0, sex='Male', smoker='No', day='Sat', time='Dinner', size=2, percent_tip=0.16)\n",
            "Pandas(Index=28, total_bill=21.7, tip=4.3, sex='Male', smoker='No', day='Sat', time='Dinner', size=2, percent_tip=0.2)\n",
            "Pandas(Index=29, total_bill=19.65, tip=3.0, sex='Female', smoker='No', day='Sat', time='Dinner', size=2, percent_tip=0.15)\n",
            "Pandas(Index=30, total_bill=9.55, tip=1.45, sex='Male', smoker='No', day='Sat', time='Dinner', size=2, percent_tip=0.15)\n",
            "Pandas(Index=31, total_bill=18.35, tip=2.5, sex='Male', smoker='No', day='Sat', time='Dinner', size=4, percent_tip=0.14)\n",
            "Pandas(Index=32, total_bill=15.06, tip=3.0, sex='Female', smoker='No', day='Sat', time='Dinner', size=2, percent_tip=0.2)\n",
            "Pandas(Index=33, total_bill=20.69, tip=2.45, sex='Female', smoker='No', day='Sat', time='Dinner', size=4, percent_tip=0.12)\n",
            "Pandas(Index=34, total_bill=17.78, tip=3.27, sex='Male', smoker='No', day='Sat', time='Dinner', size=2, percent_tip=0.18)\n",
            "Pandas(Index=35, total_bill=24.06, tip=3.6, sex='Male', smoker='No', day='Sat', time='Dinner', size=3, percent_tip=0.15)\n",
            "Pandas(Index=36, total_bill=16.31, tip=2.0, sex='Male', smoker='No', day='Sat', time='Dinner', size=3, percent_tip=0.12)\n",
            "Pandas(Index=37, total_bill=16.93, tip=3.07, sex='Female', smoker='No', day='Sat', time='Dinner', size=3, percent_tip=0.18)\n",
            "Pandas(Index=38, total_bill=18.69, tip=2.31, sex='Male', smoker='No', day='Sat', time='Dinner', size=3, percent_tip=0.12)\n",
            "Pandas(Index=39, total_bill=31.27, tip=5.0, sex='Male', smoker='No', day='Sat', time='Dinner', size=3, percent_tip=0.16)\n",
            "Pandas(Index=40, total_bill=16.04, tip=2.24, sex='Male', smoker='No', day='Sat', time='Dinner', size=3, percent_tip=0.14)\n",
            "Pandas(Index=41, total_bill=17.46, tip=2.54, sex='Male', smoker='No', day='Sun', time='Dinner', size=2, percent_tip=0.15)\n",
            "Pandas(Index=42, total_bill=13.94, tip=3.06, sex='Male', smoker='No', day='Sun', time='Dinner', size=2, percent_tip=0.22)\n",
            "Pandas(Index=43, total_bill=9.68, tip=1.32, sex='Male', smoker='No', day='Sun', time='Dinner', size=2, percent_tip=0.14)\n",
            "Pandas(Index=44, total_bill=30.4, tip=5.6, sex='Male', smoker='No', day='Sun', time='Dinner', size=4, percent_tip=0.18)\n",
            "Pandas(Index=45, total_bill=18.29, tip=3.0, sex='Male', smoker='No', day='Sun', time='Dinner', size=2, percent_tip=0.16)\n",
            "Pandas(Index=46, total_bill=22.23, tip=5.0, sex='Male', smoker='No', day='Sun', time='Dinner', size=2, percent_tip=0.22)\n",
            "Pandas(Index=47, total_bill=32.4, tip=6.0, sex='Male', smoker='No', day='Sun', time='Dinner', size=4, percent_tip=0.19)\n",
            "Pandas(Index=48, total_bill=28.55, tip=2.05, sex='Male', smoker='No', day='Sun', time='Dinner', size=3, percent_tip=0.07)\n",
            "Pandas(Index=49, total_bill=18.04, tip=3.0, sex='Male', smoker='No', day='Sun', time='Dinner', size=2, percent_tip=0.17)\n",
            "Pandas(Index=50, total_bill=12.54, tip=2.5, sex='Male', smoker='No', day='Sun', time='Dinner', size=2, percent_tip=0.2)\n",
            "Pandas(Index=51, total_bill=10.29, tip=2.6, sex='Female', smoker='No', day='Sun', time='Dinner', size=2, percent_tip=0.25)\n",
            "Pandas(Index=52, total_bill=34.81, tip=5.2, sex='Female', smoker='No', day='Sun', time='Dinner', size=4, percent_tip=0.15)\n",
            "Pandas(Index=53, total_bill=9.94, tip=1.56, sex='Male', smoker='No', day='Sun', time='Dinner', size=2, percent_tip=0.16)\n",
            "Pandas(Index=54, total_bill=25.56, tip=4.34, sex='Male', smoker='No', day='Sun', time='Dinner', size=4, percent_tip=0.17)\n",
            "Pandas(Index=55, total_bill=19.49, tip=3.51, sex='Male', smoker='No', day='Sun', time='Dinner', size=2, percent_tip=0.18)\n",
            "Pandas(Index=56, total_bill=38.01, tip=3.0, sex='Male', smoker='Yes', day='Sat', time='Dinner', size=4, percent_tip=0.08)\n",
            "Pandas(Index=57, total_bill=26.41, tip=1.5, sex='Female', smoker='No', day='Sat', time='Dinner', size=2, percent_tip=0.06)\n",
            "Pandas(Index=58, total_bill=11.24, tip=1.76, sex='Male', smoker='Yes', day='Sat', time='Dinner', size=2, percent_tip=0.16)\n",
            "Pandas(Index=59, total_bill=48.27, tip=6.73, sex='Male', smoker='No', day='Sat', time='Dinner', size=4, percent_tip=0.14)\n",
            "Pandas(Index=60, total_bill=20.29, tip=3.21, sex='Male', smoker='Yes', day='Sat', time='Dinner', size=2, percent_tip=0.16)\n",
            "Pandas(Index=61, total_bill=13.81, tip=2.0, sex='Male', smoker='Yes', day='Sat', time='Dinner', size=2, percent_tip=0.14)\n",
            "Pandas(Index=62, total_bill=11.02, tip=1.98, sex='Male', smoker='Yes', day='Sat', time='Dinner', size=2, percent_tip=0.18)\n",
            "Pandas(Index=63, total_bill=18.29, tip=3.76, sex='Male', smoker='Yes', day='Sat', time='Dinner', size=4, percent_tip=0.21)\n",
            "Pandas(Index=64, total_bill=17.59, tip=2.64, sex='Male', smoker='No', day='Sat', time='Dinner', size=3, percent_tip=0.15)\n",
            "Pandas(Index=65, total_bill=20.08, tip=3.15, sex='Male', smoker='No', day='Sat', time='Dinner', size=3, percent_tip=0.16)\n",
            "Pandas(Index=66, total_bill=16.45, tip=2.47, sex='Female', smoker='No', day='Sat', time='Dinner', size=2, percent_tip=0.15)\n",
            "Pandas(Index=67, total_bill=3.07, tip=1.0, sex='Female', smoker='Yes', day='Sat', time='Dinner', size=1, percent_tip=0.33)\n",
            "Pandas(Index=68, total_bill=20.23, tip=2.01, sex='Male', smoker='No', day='Sat', time='Dinner', size=2, percent_tip=0.1)\n",
            "Pandas(Index=69, total_bill=15.01, tip=2.09, sex='Male', smoker='Yes', day='Sat', time='Dinner', size=2, percent_tip=0.14)\n",
            "Pandas(Index=70, total_bill=12.02, tip=1.97, sex='Male', smoker='No', day='Sat', time='Dinner', size=2, percent_tip=0.16)\n",
            "Pandas(Index=71, total_bill=17.07, tip=3.0, sex='Female', smoker='No', day='Sat', time='Dinner', size=3, percent_tip=0.18)\n",
            "Pandas(Index=72, total_bill=26.86, tip=3.14, sex='Female', smoker='Yes', day='Sat', time='Dinner', size=2, percent_tip=0.12)\n",
            "Pandas(Index=73, total_bill=25.28, tip=5.0, sex='Female', smoker='Yes', day='Sat', time='Dinner', size=2, percent_tip=0.2)\n",
            "Pandas(Index=74, total_bill=14.73, tip=2.2, sex='Female', smoker='No', day='Sat', time='Dinner', size=2, percent_tip=0.15)\n",
            "Pandas(Index=75, total_bill=10.51, tip=1.25, sex='Male', smoker='No', day='Sat', time='Dinner', size=2, percent_tip=0.12)\n",
            "Pandas(Index=76, total_bill=17.92, tip=3.08, sex='Male', smoker='Yes', day='Sat', time='Dinner', size=2, percent_tip=0.17)\n",
            "Pandas(Index=77, total_bill=27.2, tip=4.0, sex='Male', smoker='No', day='Thur', time='Lunch', size=4, percent_tip=0.15)\n",
            "Pandas(Index=78, total_bill=22.76, tip=3.0, sex='Male', smoker='No', day='Thur', time='Lunch', size=2, percent_tip=0.13)\n",
            "Pandas(Index=79, total_bill=17.29, tip=2.71, sex='Male', smoker='No', day='Thur', time='Lunch', size=2, percent_tip=0.16)\n",
            "Pandas(Index=80, total_bill=19.44, tip=3.0, sex='Male', smoker='Yes', day='Thur', time='Lunch', size=2, percent_tip=0.15)\n",
            "Pandas(Index=81, total_bill=16.66, tip=3.4, sex='Male', smoker='No', day='Thur', time='Lunch', size=2, percent_tip=0.2)\n",
            "Pandas(Index=82, total_bill=10.07, tip=1.83, sex='Female', smoker='No', day='Thur', time='Lunch', size=1, percent_tip=0.18)\n",
            "Pandas(Index=83, total_bill=32.68, tip=5.0, sex='Male', smoker='Yes', day='Thur', time='Lunch', size=2, percent_tip=0.15)\n",
            "Pandas(Index=84, total_bill=15.98, tip=2.03, sex='Male', smoker='No', day='Thur', time='Lunch', size=2, percent_tip=0.13)\n",
            "Pandas(Index=85, total_bill=34.83, tip=5.17, sex='Female', smoker='No', day='Thur', time='Lunch', size=4, percent_tip=0.15)\n",
            "Pandas(Index=86, total_bill=13.03, tip=2.0, sex='Male', smoker='No', day='Thur', time='Lunch', size=2, percent_tip=0.15)\n",
            "Pandas(Index=87, total_bill=18.28, tip=4.0, sex='Male', smoker='No', day='Thur', time='Lunch', size=2, percent_tip=0.22)\n",
            "Pandas(Index=88, total_bill=24.71, tip=5.85, sex='Male', smoker='No', day='Thur', time='Lunch', size=2, percent_tip=0.24)\n",
            "Pandas(Index=89, total_bill=21.16, tip=3.0, sex='Male', smoker='No', day='Thur', time='Lunch', size=2, percent_tip=0.14)\n",
            "Pandas(Index=90, total_bill=28.97, tip=3.0, sex='Male', smoker='Yes', day='Fri', time='Dinner', size=2, percent_tip=0.1)\n",
            "Pandas(Index=91, total_bill=22.49, tip=3.5, sex='Male', smoker='No', day='Fri', time='Dinner', size=2, percent_tip=0.16)\n",
            "Pandas(Index=92, total_bill=5.75, tip=1.0, sex='Female', smoker='Yes', day='Fri', time='Dinner', size=2, percent_tip=0.17)\n",
            "Pandas(Index=93, total_bill=16.32, tip=4.3, sex='Female', smoker='Yes', day='Fri', time='Dinner', size=2, percent_tip=0.26)\n",
            "Pandas(Index=94, total_bill=22.75, tip=3.25, sex='Female', smoker='No', day='Fri', time='Dinner', size=2, percent_tip=0.14)\n",
            "Pandas(Index=95, total_bill=40.17, tip=4.73, sex='Male', smoker='Yes', day='Fri', time='Dinner', size=4, percent_tip=0.12)\n",
            "Pandas(Index=96, total_bill=27.28, tip=4.0, sex='Male', smoker='Yes', day='Fri', time='Dinner', size=2, percent_tip=0.15)\n",
            "Pandas(Index=97, total_bill=12.03, tip=1.5, sex='Male', smoker='Yes', day='Fri', time='Dinner', size=2, percent_tip=0.12)\n",
            "Pandas(Index=98, total_bill=21.01, tip=3.0, sex='Male', smoker='Yes', day='Fri', time='Dinner', size=2, percent_tip=0.14)\n",
            "Pandas(Index=99, total_bill=12.46, tip=1.5, sex='Male', smoker='No', day='Fri', time='Dinner', size=2, percent_tip=0.12)\n",
            "Pandas(Index=100, total_bill=11.35, tip=2.5, sex='Female', smoker='Yes', day='Fri', time='Dinner', size=2, percent_tip=0.22)\n",
            "Pandas(Index=101, total_bill=15.38, tip=3.0, sex='Female', smoker='Yes', day='Fri', time='Dinner', size=2, percent_tip=0.2)\n",
            "Pandas(Index=102, total_bill=44.3, tip=2.5, sex='Female', smoker='Yes', day='Sat', time='Dinner', size=3, percent_tip=0.06)\n",
            "Pandas(Index=103, total_bill=22.42, tip=3.48, sex='Female', smoker='Yes', day='Sat', time='Dinner', size=2, percent_tip=0.16)\n",
            "Pandas(Index=104, total_bill=20.92, tip=4.08, sex='Female', smoker='No', day='Sat', time='Dinner', size=2, percent_tip=0.2)\n",
            "Pandas(Index=105, total_bill=15.36, tip=1.64, sex='Male', smoker='Yes', day='Sat', time='Dinner', size=2, percent_tip=0.11)\n",
            "Pandas(Index=106, total_bill=20.49, tip=4.06, sex='Male', smoker='Yes', day='Sat', time='Dinner', size=2, percent_tip=0.2)\n",
            "Pandas(Index=107, total_bill=25.21, tip=4.29, sex='Male', smoker='Yes', day='Sat', time='Dinner', size=2, percent_tip=0.17)\n",
            "Pandas(Index=108, total_bill=18.24, tip=3.76, sex='Male', smoker='No', day='Sat', time='Dinner', size=2, percent_tip=0.21)\n",
            "Pandas(Index=109, total_bill=14.31, tip=4.0, sex='Female', smoker='Yes', day='Sat', time='Dinner', size=2, percent_tip=0.28)\n",
            "Pandas(Index=110, total_bill=14.0, tip=3.0, sex='Male', smoker='No', day='Sat', time='Dinner', size=2, percent_tip=0.21)\n",
            "Pandas(Index=111, total_bill=7.25, tip=1.0, sex='Female', smoker='No', day='Sat', time='Dinner', size=1, percent_tip=0.14)\n",
            "Pandas(Index=112, total_bill=38.07, tip=4.0, sex='Male', smoker='No', day='Sun', time='Dinner', size=3, percent_tip=0.11)\n",
            "Pandas(Index=113, total_bill=23.95, tip=2.55, sex='Male', smoker='No', day='Sun', time='Dinner', size=2, percent_tip=0.11)\n",
            "Pandas(Index=114, total_bill=25.71, tip=4.0, sex='Female', smoker='No', day='Sun', time='Dinner', size=3, percent_tip=0.16)\n",
            "Pandas(Index=115, total_bill=17.31, tip=3.5, sex='Female', smoker='No', day='Sun', time='Dinner', size=2, percent_tip=0.2)\n",
            "Pandas(Index=116, total_bill=29.93, tip=5.07, sex='Male', smoker='No', day='Sun', time='Dinner', size=4, percent_tip=0.17)\n",
            "Pandas(Index=117, total_bill=10.65, tip=1.5, sex='Female', smoker='No', day='Thur', time='Lunch', size=2, percent_tip=0.14)\n",
            "Pandas(Index=118, total_bill=12.43, tip=1.8, sex='Female', smoker='No', day='Thur', time='Lunch', size=2, percent_tip=0.14)\n",
            "Pandas(Index=119, total_bill=24.08, tip=2.92, sex='Female', smoker='No', day='Thur', time='Lunch', size=4, percent_tip=0.12)\n",
            "Pandas(Index=120, total_bill=11.69, tip=2.31, sex='Male', smoker='No', day='Thur', time='Lunch', size=2, percent_tip=0.2)\n",
            "Pandas(Index=121, total_bill=13.42, tip=1.68, sex='Female', smoker='No', day='Thur', time='Lunch', size=2, percent_tip=0.13)\n",
            "Pandas(Index=122, total_bill=14.26, tip=2.5, sex='Male', smoker='No', day='Thur', time='Lunch', size=2, percent_tip=0.18)\n",
            "Pandas(Index=123, total_bill=15.95, tip=2.0, sex='Male', smoker='No', day='Thur', time='Lunch', size=2, percent_tip=0.13)\n",
            "Pandas(Index=124, total_bill=12.48, tip=2.52, sex='Female', smoker='No', day='Thur', time='Lunch', size=2, percent_tip=0.2)\n",
            "Pandas(Index=125, total_bill=29.8, tip=4.2, sex='Female', smoker='No', day='Thur', time='Lunch', size=6, percent_tip=0.14)\n",
            "Pandas(Index=126, total_bill=8.52, tip=1.48, sex='Male', smoker='No', day='Thur', time='Lunch', size=2, percent_tip=0.17)\n",
            "Pandas(Index=127, total_bill=14.52, tip=2.0, sex='Female', smoker='No', day='Thur', time='Lunch', size=2, percent_tip=0.14)\n",
            "Pandas(Index=128, total_bill=11.38, tip=2.0, sex='Female', smoker='No', day='Thur', time='Lunch', size=2, percent_tip=0.18)\n",
            "Pandas(Index=129, total_bill=22.82, tip=2.18, sex='Male', smoker='No', day='Thur', time='Lunch', size=3, percent_tip=0.1)\n",
            "Pandas(Index=130, total_bill=19.08, tip=1.5, sex='Male', smoker='No', day='Thur', time='Lunch', size=2, percent_tip=0.08)\n",
            "Pandas(Index=131, total_bill=20.27, tip=2.83, sex='Female', smoker='No', day='Thur', time='Lunch', size=2, percent_tip=0.14)\n",
            "Pandas(Index=132, total_bill=11.17, tip=1.5, sex='Female', smoker='No', day='Thur', time='Lunch', size=2, percent_tip=0.13)\n",
            "Pandas(Index=133, total_bill=12.26, tip=2.0, sex='Female', smoker='No', day='Thur', time='Lunch', size=2, percent_tip=0.16)\n",
            "Pandas(Index=134, total_bill=18.26, tip=3.25, sex='Female', smoker='No', day='Thur', time='Lunch', size=2, percent_tip=0.18)\n",
            "Pandas(Index=135, total_bill=8.51, tip=1.25, sex='Female', smoker='No', day='Thur', time='Lunch', size=2, percent_tip=0.15)\n",
            "Pandas(Index=136, total_bill=10.33, tip=2.0, sex='Female', smoker='No', day='Thur', time='Lunch', size=2, percent_tip=0.19)\n",
            "Pandas(Index=137, total_bill=14.15, tip=2.0, sex='Female', smoker='No', day='Thur', time='Lunch', size=2, percent_tip=0.14)\n",
            "Pandas(Index=138, total_bill=16.0, tip=2.0, sex='Male', smoker='Yes', day='Thur', time='Lunch', size=2, percent_tip=0.12)\n",
            "Pandas(Index=139, total_bill=13.16, tip=2.75, sex='Female', smoker='No', day='Thur', time='Lunch', size=2, percent_tip=0.21)\n",
            "Pandas(Index=140, total_bill=17.47, tip=3.5, sex='Female', smoker='No', day='Thur', time='Lunch', size=2, percent_tip=0.2)\n",
            "Pandas(Index=141, total_bill=34.3, tip=6.7, sex='Male', smoker='No', day='Thur', time='Lunch', size=6, percent_tip=0.2)\n",
            "Pandas(Index=142, total_bill=41.19, tip=5.0, sex='Male', smoker='No', day='Thur', time='Lunch', size=5, percent_tip=0.12)\n",
            "Pandas(Index=143, total_bill=27.05, tip=5.0, sex='Female', smoker='No', day='Thur', time='Lunch', size=6, percent_tip=0.18)\n",
            "Pandas(Index=144, total_bill=16.43, tip=2.3, sex='Female', smoker='No', day='Thur', time='Lunch', size=2, percent_tip=0.14)\n",
            "Pandas(Index=145, total_bill=8.35, tip=1.5, sex='Female', smoker='No', day='Thur', time='Lunch', size=2, percent_tip=0.18)\n",
            "Pandas(Index=146, total_bill=18.64, tip=1.36, sex='Female', smoker='No', day='Thur', time='Lunch', size=3, percent_tip=0.07)\n",
            "Pandas(Index=147, total_bill=11.87, tip=1.63, sex='Female', smoker='No', day='Thur', time='Lunch', size=2, percent_tip=0.14)\n",
            "Pandas(Index=148, total_bill=9.78, tip=1.73, sex='Male', smoker='No', day='Thur', time='Lunch', size=2, percent_tip=0.18)\n",
            "Pandas(Index=149, total_bill=7.51, tip=2.0, sex='Male', smoker='No', day='Thur', time='Lunch', size=2, percent_tip=0.27)\n",
            "Pandas(Index=150, total_bill=14.07, tip=2.5, sex='Male', smoker='No', day='Sun', time='Dinner', size=2, percent_tip=0.18)\n",
            "Pandas(Index=151, total_bill=13.13, tip=2.0, sex='Male', smoker='No', day='Sun', time='Dinner', size=2, percent_tip=0.15)\n",
            "Pandas(Index=152, total_bill=17.26, tip=2.74, sex='Male', smoker='No', day='Sun', time='Dinner', size=3, percent_tip=0.16)\n",
            "Pandas(Index=153, total_bill=24.55, tip=2.0, sex='Male', smoker='No', day='Sun', time='Dinner', size=4, percent_tip=0.08)\n",
            "Pandas(Index=154, total_bill=19.77, tip=2.0, sex='Male', smoker='No', day='Sun', time='Dinner', size=4, percent_tip=0.1)\n",
            "Pandas(Index=155, total_bill=29.85, tip=5.14, sex='Female', smoker='No', day='Sun', time='Dinner', size=5, percent_tip=0.17)\n",
            "Pandas(Index=156, total_bill=48.17, tip=5.0, sex='Male', smoker='No', day='Sun', time='Dinner', size=6, percent_tip=0.1)\n",
            "Pandas(Index=157, total_bill=25.0, tip=3.75, sex='Female', smoker='No', day='Sun', time='Dinner', size=4, percent_tip=0.15)\n",
            "Pandas(Index=158, total_bill=13.39, tip=2.61, sex='Female', smoker='No', day='Sun', time='Dinner', size=2, percent_tip=0.19)\n",
            "Pandas(Index=159, total_bill=16.49, tip=2.0, sex='Male', smoker='No', day='Sun', time='Dinner', size=4, percent_tip=0.12)\n",
            "Pandas(Index=160, total_bill=21.5, tip=3.5, sex='Male', smoker='No', day='Sun', time='Dinner', size=4, percent_tip=0.16)\n",
            "Pandas(Index=161, total_bill=12.66, tip=2.5, sex='Male', smoker='No', day='Sun', time='Dinner', size=2, percent_tip=0.2)\n",
            "Pandas(Index=162, total_bill=16.21, tip=2.0, sex='Female', smoker='No', day='Sun', time='Dinner', size=3, percent_tip=0.12)\n",
            "Pandas(Index=163, total_bill=13.81, tip=2.0, sex='Male', smoker='No', day='Sun', time='Dinner', size=2, percent_tip=0.14)\n",
            "Pandas(Index=164, total_bill=17.51, tip=3.0, sex='Female', smoker='Yes', day='Sun', time='Dinner', size=2, percent_tip=0.17)\n",
            "Pandas(Index=165, total_bill=24.52, tip=3.48, sex='Male', smoker='No', day='Sun', time='Dinner', size=3, percent_tip=0.14)\n",
            "Pandas(Index=166, total_bill=20.76, tip=2.24, sex='Male', smoker='No', day='Sun', time='Dinner', size=2, percent_tip=0.11)\n",
            "Pandas(Index=167, total_bill=31.71, tip=4.5, sex='Male', smoker='No', day='Sun', time='Dinner', size=4, percent_tip=0.14)\n",
            "Pandas(Index=168, total_bill=10.59, tip=1.61, sex='Female', smoker='Yes', day='Sat', time='Dinner', size=2, percent_tip=0.15)\n",
            "Pandas(Index=169, total_bill=10.63, tip=2.0, sex='Female', smoker='Yes', day='Sat', time='Dinner', size=2, percent_tip=0.19)\n",
            "Pandas(Index=170, total_bill=50.81, tip=10.0, sex='Male', smoker='Yes', day='Sat', time='Dinner', size=3, percent_tip=0.2)\n",
            "Pandas(Index=171, total_bill=15.81, tip=3.16, sex='Male', smoker='Yes', day='Sat', time='Dinner', size=2, percent_tip=0.2)\n",
            "Pandas(Index=172, total_bill=7.25, tip=5.15, sex='Male', smoker='Yes', day='Sun', time='Dinner', size=2, percent_tip=0.71)\n",
            "Pandas(Index=173, total_bill=31.85, tip=3.18, sex='Male', smoker='Yes', day='Sun', time='Dinner', size=2, percent_tip=0.1)\n",
            "Pandas(Index=174, total_bill=16.82, tip=4.0, sex='Male', smoker='Yes', day='Sun', time='Dinner', size=2, percent_tip=0.24)\n",
            "Pandas(Index=175, total_bill=32.9, tip=3.11, sex='Male', smoker='Yes', day='Sun', time='Dinner', size=2, percent_tip=0.09)\n",
            "Pandas(Index=176, total_bill=17.89, tip=2.0, sex='Male', smoker='Yes', day='Sun', time='Dinner', size=2, percent_tip=0.11)\n",
            "Pandas(Index=177, total_bill=14.48, tip=2.0, sex='Male', smoker='Yes', day='Sun', time='Dinner', size=2, percent_tip=0.14)\n",
            "Pandas(Index=178, total_bill=9.6, tip=4.0, sex='Female', smoker='Yes', day='Sun', time='Dinner', size=2, percent_tip=0.42)\n",
            "Pandas(Index=179, total_bill=34.63, tip=3.55, sex='Male', smoker='Yes', day='Sun', time='Dinner', size=2, percent_tip=0.1)\n",
            "Pandas(Index=180, total_bill=34.65, tip=3.68, sex='Male', smoker='Yes', day='Sun', time='Dinner', size=4, percent_tip=0.11)\n",
            "Pandas(Index=181, total_bill=23.33, tip=5.65, sex='Male', smoker='Yes', day='Sun', time='Dinner', size=2, percent_tip=0.24)\n",
            "Pandas(Index=182, total_bill=45.35, tip=3.5, sex='Male', smoker='Yes', day='Sun', time='Dinner', size=3, percent_tip=0.08)\n",
            "Pandas(Index=183, total_bill=23.17, tip=6.5, sex='Male', smoker='Yes', day='Sun', time='Dinner', size=4, percent_tip=0.28)\n",
            "Pandas(Index=184, total_bill=40.55, tip=3.0, sex='Male', smoker='Yes', day='Sun', time='Dinner', size=2, percent_tip=0.07)\n",
            "Pandas(Index=185, total_bill=20.69, tip=5.0, sex='Male', smoker='No', day='Sun', time='Dinner', size=5, percent_tip=0.24)\n",
            "Pandas(Index=186, total_bill=20.9, tip=3.5, sex='Female', smoker='Yes', day='Sun', time='Dinner', size=3, percent_tip=0.17)\n",
            "Pandas(Index=187, total_bill=30.46, tip=2.0, sex='Male', smoker='Yes', day='Sun', time='Dinner', size=5, percent_tip=0.07)\n",
            "Pandas(Index=188, total_bill=18.15, tip=3.5, sex='Female', smoker='Yes', day='Sun', time='Dinner', size=3, percent_tip=0.19)\n",
            "Pandas(Index=189, total_bill=23.1, tip=4.0, sex='Male', smoker='Yes', day='Sun', time='Dinner', size=3, percent_tip=0.17)\n",
            "Pandas(Index=190, total_bill=15.69, tip=1.5, sex='Male', smoker='Yes', day='Sun', time='Dinner', size=2, percent_tip=0.1)\n",
            "Pandas(Index=191, total_bill=19.81, tip=4.19, sex='Female', smoker='Yes', day='Thur', time='Lunch', size=2, percent_tip=0.21)\n",
            "Pandas(Index=192, total_bill=28.44, tip=2.56, sex='Male', smoker='Yes', day='Thur', time='Lunch', size=2, percent_tip=0.09)\n",
            "Pandas(Index=193, total_bill=15.48, tip=2.02, sex='Male', smoker='Yes', day='Thur', time='Lunch', size=2, percent_tip=0.13)\n",
            "Pandas(Index=194, total_bill=16.58, tip=4.0, sex='Male', smoker='Yes', day='Thur', time='Lunch', size=2, percent_tip=0.24)\n",
            "Pandas(Index=195, total_bill=7.56, tip=1.44, sex='Male', smoker='No', day='Thur', time='Lunch', size=2, percent_tip=0.19)\n",
            "Pandas(Index=196, total_bill=10.34, tip=2.0, sex='Male', smoker='Yes', day='Thur', time='Lunch', size=2, percent_tip=0.19)\n",
            "Pandas(Index=197, total_bill=43.11, tip=5.0, sex='Female', smoker='Yes', day='Thur', time='Lunch', size=4, percent_tip=0.12)\n",
            "Pandas(Index=198, total_bill=13.0, tip=2.0, sex='Female', smoker='Yes', day='Thur', time='Lunch', size=2, percent_tip=0.15)\n",
            "Pandas(Index=199, total_bill=13.51, tip=2.0, sex='Male', smoker='Yes', day='Thur', time='Lunch', size=2, percent_tip=0.15)\n",
            "Pandas(Index=200, total_bill=18.71, tip=4.0, sex='Male', smoker='Yes', day='Thur', time='Lunch', size=3, percent_tip=0.21)\n",
            "Pandas(Index=201, total_bill=12.74, tip=2.01, sex='Female', smoker='Yes', day='Thur', time='Lunch', size=2, percent_tip=0.16)\n",
            "Pandas(Index=202, total_bill=13.0, tip=2.0, sex='Female', smoker='Yes', day='Thur', time='Lunch', size=2, percent_tip=0.15)\n",
            "Pandas(Index=203, total_bill=16.4, tip=2.5, sex='Female', smoker='Yes', day='Thur', time='Lunch', size=2, percent_tip=0.15)\n",
            "Pandas(Index=204, total_bill=20.53, tip=4.0, sex='Male', smoker='Yes', day='Thur', time='Lunch', size=4, percent_tip=0.19)\n",
            "Pandas(Index=205, total_bill=16.47, tip=3.23, sex='Female', smoker='Yes', day='Thur', time='Lunch', size=3, percent_tip=0.2)\n",
            "Pandas(Index=206, total_bill=26.59, tip=3.41, sex='Male', smoker='Yes', day='Sat', time='Dinner', size=3, percent_tip=0.13)\n",
            "Pandas(Index=207, total_bill=38.73, tip=3.0, sex='Male', smoker='Yes', day='Sat', time='Dinner', size=4, percent_tip=0.08)\n",
            "Pandas(Index=208, total_bill=24.27, tip=2.03, sex='Male', smoker='Yes', day='Sat', time='Dinner', size=2, percent_tip=0.08)\n",
            "Pandas(Index=209, total_bill=12.76, tip=2.23, sex='Female', smoker='Yes', day='Sat', time='Dinner', size=2, percent_tip=0.17)\n",
            "Pandas(Index=210, total_bill=30.06, tip=2.0, sex='Male', smoker='Yes', day='Sat', time='Dinner', size=3, percent_tip=0.07)\n",
            "Pandas(Index=211, total_bill=25.89, tip=5.16, sex='Male', smoker='Yes', day='Sat', time='Dinner', size=4, percent_tip=0.2)\n",
            "Pandas(Index=212, total_bill=48.33, tip=9.0, sex='Male', smoker='No', day='Sat', time='Dinner', size=4, percent_tip=0.19)\n",
            "Pandas(Index=213, total_bill=13.27, tip=2.5, sex='Female', smoker='Yes', day='Sat', time='Dinner', size=2, percent_tip=0.19)\n",
            "Pandas(Index=214, total_bill=28.17, tip=6.5, sex='Female', smoker='Yes', day='Sat', time='Dinner', size=3, percent_tip=0.23)\n",
            "Pandas(Index=215, total_bill=12.9, tip=1.1, sex='Female', smoker='Yes', day='Sat', time='Dinner', size=2, percent_tip=0.09)\n",
            "Pandas(Index=216, total_bill=28.15, tip=3.0, sex='Male', smoker='Yes', day='Sat', time='Dinner', size=5, percent_tip=0.11)\n",
            "Pandas(Index=217, total_bill=11.59, tip=1.5, sex='Male', smoker='Yes', day='Sat', time='Dinner', size=2, percent_tip=0.13)\n",
            "Pandas(Index=218, total_bill=7.74, tip=1.44, sex='Male', smoker='Yes', day='Sat', time='Dinner', size=2, percent_tip=0.19)\n",
            "Pandas(Index=219, total_bill=30.14, tip=3.09, sex='Female', smoker='Yes', day='Sat', time='Dinner', size=4, percent_tip=0.1)\n",
            "Pandas(Index=220, total_bill=12.16, tip=2.2, sex='Male', smoker='Yes', day='Fri', time='Lunch', size=2, percent_tip=0.18)\n",
            "Pandas(Index=221, total_bill=13.42, tip=3.48, sex='Female', smoker='Yes', day='Fri', time='Lunch', size=2, percent_tip=0.26)\n",
            "Pandas(Index=222, total_bill=8.58, tip=1.92, sex='Male', smoker='Yes', day='Fri', time='Lunch', size=1, percent_tip=0.22)\n",
            "Pandas(Index=223, total_bill=15.98, tip=3.0, sex='Female', smoker='No', day='Fri', time='Lunch', size=3, percent_tip=0.19)\n",
            "Pandas(Index=224, total_bill=13.42, tip=1.58, sex='Male', smoker='Yes', day='Fri', time='Lunch', size=2, percent_tip=0.12)\n",
            "Pandas(Index=225, total_bill=16.27, tip=2.5, sex='Female', smoker='Yes', day='Fri', time='Lunch', size=2, percent_tip=0.15)\n",
            "Pandas(Index=226, total_bill=10.09, tip=2.0, sex='Female', smoker='Yes', day='Fri', time='Lunch', size=2, percent_tip=0.2)\n",
            "Pandas(Index=227, total_bill=20.45, tip=3.0, sex='Male', smoker='No', day='Sat', time='Dinner', size=4, percent_tip=0.15)\n",
            "Pandas(Index=228, total_bill=13.28, tip=2.72, sex='Male', smoker='No', day='Sat', time='Dinner', size=2, percent_tip=0.2)\n",
            "Pandas(Index=229, total_bill=22.12, tip=2.88, sex='Female', smoker='Yes', day='Sat', time='Dinner', size=2, percent_tip=0.13)\n",
            "Pandas(Index=230, total_bill=24.01, tip=2.0, sex='Male', smoker='Yes', day='Sat', time='Dinner', size=4, percent_tip=0.08)\n",
            "Pandas(Index=231, total_bill=15.69, tip=3.0, sex='Male', smoker='Yes', day='Sat', time='Dinner', size=3, percent_tip=0.19)\n",
            "Pandas(Index=232, total_bill=11.61, tip=3.39, sex='Male', smoker='No', day='Sat', time='Dinner', size=2, percent_tip=0.29)\n",
            "Pandas(Index=233, total_bill=10.77, tip=1.47, sex='Male', smoker='No', day='Sat', time='Dinner', size=2, percent_tip=0.14)\n",
            "Pandas(Index=234, total_bill=15.53, tip=3.0, sex='Male', smoker='Yes', day='Sat', time='Dinner', size=2, percent_tip=0.19)\n",
            "Pandas(Index=235, total_bill=10.07, tip=1.25, sex='Male', smoker='No', day='Sat', time='Dinner', size=2, percent_tip=0.12)\n",
            "Pandas(Index=236, total_bill=12.6, tip=1.0, sex='Male', smoker='Yes', day='Sat', time='Dinner', size=2, percent_tip=0.08)\n",
            "Pandas(Index=237, total_bill=32.83, tip=1.17, sex='Male', smoker='Yes', day='Sat', time='Dinner', size=2, percent_tip=0.04)\n",
            "Pandas(Index=238, total_bill=35.83, tip=4.67, sex='Female', smoker='No', day='Sat', time='Dinner', size=3, percent_tip=0.13)\n",
            "Pandas(Index=239, total_bill=29.03, tip=5.92, sex='Male', smoker='No', day='Sat', time='Dinner', size=3, percent_tip=0.2)\n",
            "Pandas(Index=240, total_bill=27.18, tip=2.0, sex='Female', smoker='Yes', day='Sat', time='Dinner', size=2, percent_tip=0.07)\n",
            "Pandas(Index=241, total_bill=22.67, tip=2.0, sex='Male', smoker='Yes', day='Sat', time='Dinner', size=2, percent_tip=0.09)\n",
            "Pandas(Index=242, total_bill=17.82, tip=1.75, sex='Male', smoker='No', day='Sat', time='Dinner', size=2, percent_tip=0.1)\n",
            "Pandas(Index=243, total_bill=18.78, tip=3.0, sex='Female', smoker='No', day='Thur', time='Dinner', size=2, percent_tip=0.16)\n"
          ],
          "name": "stdout"
        }
      ]
    },
    {
      "cell_type": "code",
      "metadata": {
        "id": "krNADbRdHFfb",
        "colab_type": "code",
        "colab": {}
      },
      "source": [
        "# for row in tips.itertuples():\n",
        "#   print(row.tip)"
      ],
      "execution_count": 0,
      "outputs": []
    },
    {
      "cell_type": "markdown",
      "metadata": {
        "id": "4D6WsO-LKiEn",
        "colab_type": "text"
      },
      "source": [
        "\n",
        "### Pandas alternative to looping"
      ]
    },
    {
      "cell_type": "code",
      "metadata": {
        "id": "dZWo2PANHrw-",
        "colab_type": "code",
        "colab": {
          "base_uri": "https://localhost:8080/",
          "height": 142
        },
        "outputId": "51320a5f-883b-4488-a6d3-4e3aec220867"
      },
      "source": [
        "# Even faster: .apply()\n",
        "tips = pd.read_csv('tips.csv')\n",
        "\n",
        "def calc_percent(tip, total):\n",
        "\n",
        "  percent_tip = tip/total\n",
        "  return np.round(percent_tip,2)\n",
        "\n",
        "tips_apply = tips.apply(lambda row: calc_percent(row['tip'], row['total_bill']), axis=1)  # .apply() know it will act on a series, either axis=0 or axis=1\n",
        "tips['percent_tip'] = tips_apply\n",
        "tips.head(3)"
      ],
      "execution_count": 103,
      "outputs": [
        {
          "output_type": "execute_result",
          "data": {
            "text/html": [
              "<div>\n",
              "<style scoped>\n",
              "    .dataframe tbody tr th:only-of-type {\n",
              "        vertical-align: middle;\n",
              "    }\n",
              "\n",
              "    .dataframe tbody tr th {\n",
              "        vertical-align: top;\n",
              "    }\n",
              "\n",
              "    .dataframe thead th {\n",
              "        text-align: right;\n",
              "    }\n",
              "</style>\n",
              "<table border=\"1\" class=\"dataframe\">\n",
              "  <thead>\n",
              "    <tr style=\"text-align: right;\">\n",
              "      <th></th>\n",
              "      <th>total_bill</th>\n",
              "      <th>tip</th>\n",
              "      <th>sex</th>\n",
              "      <th>smoker</th>\n",
              "      <th>day</th>\n",
              "      <th>time</th>\n",
              "      <th>size</th>\n",
              "      <th>percent_tip</th>\n",
              "    </tr>\n",
              "  </thead>\n",
              "  <tbody>\n",
              "    <tr>\n",
              "      <th>0</th>\n",
              "      <td>16.99</td>\n",
              "      <td>1.01</td>\n",
              "      <td>Female</td>\n",
              "      <td>No</td>\n",
              "      <td>Sun</td>\n",
              "      <td>Dinner</td>\n",
              "      <td>2</td>\n",
              "      <td>0.06</td>\n",
              "    </tr>\n",
              "    <tr>\n",
              "      <th>1</th>\n",
              "      <td>10.34</td>\n",
              "      <td>1.66</td>\n",
              "      <td>Male</td>\n",
              "      <td>No</td>\n",
              "      <td>Sun</td>\n",
              "      <td>Dinner</td>\n",
              "      <td>3</td>\n",
              "      <td>0.16</td>\n",
              "    </tr>\n",
              "    <tr>\n",
              "      <th>2</th>\n",
              "      <td>21.01</td>\n",
              "      <td>3.50</td>\n",
              "      <td>Male</td>\n",
              "      <td>No</td>\n",
              "      <td>Sun</td>\n",
              "      <td>Dinner</td>\n",
              "      <td>3</td>\n",
              "      <td>0.17</td>\n",
              "    </tr>\n",
              "  </tbody>\n",
              "</table>\n",
              "</div>"
            ],
            "text/plain": [
              "   total_bill   tip     sex smoker  day    time  size  percent_tip\n",
              "0       16.99  1.01  Female     No  Sun  Dinner     2         0.06\n",
              "1       10.34  1.66    Male     No  Sun  Dinner     3         0.16\n",
              "2       21.01  3.50    Male     No  Sun  Dinner     3         0.17"
            ]
          },
          "metadata": {
            "tags": []
          },
          "execution_count": 103
        }
      ]
    },
    {
      "cell_type": "code",
      "metadata": {
        "id": "6H2qrhG7M72D",
        "colab_type": "code",
        "colab": {
          "base_uri": "https://localhost:8080/",
          "height": 102
        },
        "outputId": "3e7dfc7d-ed00-4d67-f23d-4f436e2dcd53"
      },
      "source": [
        "numcolumns = tips[['total_bill','tip','size','percent_tip']]\n",
        "rowwise = numcolumns.apply(sum, axis=0)\n",
        "rowwise"
      ],
      "execution_count": 107,
      "outputs": [
        {
          "output_type": "execute_result",
          "data": {
            "text/plain": [
              "total_bill     4827.77\n",
              "tip             731.58\n",
              "size            627.00\n",
              "percent_tip      39.27\n",
              "dtype: float64"
            ]
          },
          "metadata": {
            "tags": []
          },
          "execution_count": 107
        }
      ]
    },
    {
      "cell_type": "code",
      "metadata": {
        "id": "rAPfpb1VRA3R",
        "colab_type": "code",
        "colab": {
          "base_uri": "https://localhost:8080/",
          "height": 221
        },
        "outputId": "fbc2da0a-02ae-4549-bb0a-94f6a7e565ce"
      },
      "source": [
        "columnwise= numcolumns.apply(sum, axis=1)\n",
        "columnwise"
      ],
      "execution_count": 108,
      "outputs": [
        {
          "output_type": "execute_result",
          "data": {
            "text/plain": [
              "0      20.06\n",
              "1      15.16\n",
              "2      27.68\n",
              "3      29.13\n",
              "4      32.35\n",
              "       ...  \n",
              "239    38.15\n",
              "240    31.25\n",
              "241    26.76\n",
              "242    21.67\n",
              "243    23.94\n",
              "Length: 244, dtype: float64"
            ]
          },
          "metadata": {
            "tags": []
          },
          "execution_count": 108
        }
      ]
    },
    {
      "cell_type": "code",
      "metadata": {
        "id": "Ho6aUqV0Rghc",
        "colab_type": "code",
        "colab": {
          "base_uri": "https://localhost:8080/",
          "height": 221
        },
        "outputId": "ef9c3b1d-d903-40c4-efa7-ff36d0dba1a1"
      },
      "source": [
        "def convert_str(value):\n",
        "  if value == 'Yes':\n",
        "    return 1\n",
        "  else:\n",
        "    return 0  \n",
        "\n",
        "smoking = tips.apply(lambda row: convert_str(row['smoker']), axis=1)\n",
        "smoking    "
      ],
      "execution_count": 109,
      "outputs": [
        {
          "output_type": "execute_result",
          "data": {
            "text/plain": [
              "0      0\n",
              "1      0\n",
              "2      0\n",
              "3      0\n",
              "4      0\n",
              "      ..\n",
              "239    0\n",
              "240    1\n",
              "241    1\n",
              "242    0\n",
              "243    0\n",
              "Length: 244, dtype: int64"
            ]
          },
          "metadata": {
            "tags": []
          },
          "execution_count": 109
        }
      ]
    },
    {
      "cell_type": "code",
      "metadata": {
        "id": "M9115r_FUNaw",
        "colab_type": "code",
        "colab": {
          "base_uri": "https://localhost:8080/",
          "height": 142
        },
        "outputId": "e010c312-8a38-41b4-b0bf-a5088edce35a"
      },
      "source": [
        "def each_pay(total_bill, party_no):\n",
        "  split_amt = total_bill/party_no\n",
        "  amt = round(split_amt,2)\n",
        "  return amt \n",
        "\n",
        "tips['split'] = tips.apply(lambda row: each_pay(row['total_bill'], row['size']), axis=1)\n",
        "tips.head(3)  "
      ],
      "execution_count": 111,
      "outputs": [
        {
          "output_type": "execute_result",
          "data": {
            "text/html": [
              "<div>\n",
              "<style scoped>\n",
              "    .dataframe tbody tr th:only-of-type {\n",
              "        vertical-align: middle;\n",
              "    }\n",
              "\n",
              "    .dataframe tbody tr th {\n",
              "        vertical-align: top;\n",
              "    }\n",
              "\n",
              "    .dataframe thead th {\n",
              "        text-align: right;\n",
              "    }\n",
              "</style>\n",
              "<table border=\"1\" class=\"dataframe\">\n",
              "  <thead>\n",
              "    <tr style=\"text-align: right;\">\n",
              "      <th></th>\n",
              "      <th>total_bill</th>\n",
              "      <th>tip</th>\n",
              "      <th>sex</th>\n",
              "      <th>smoker</th>\n",
              "      <th>day</th>\n",
              "      <th>time</th>\n",
              "      <th>size</th>\n",
              "      <th>percent_tip</th>\n",
              "      <th>split</th>\n",
              "    </tr>\n",
              "  </thead>\n",
              "  <tbody>\n",
              "    <tr>\n",
              "      <th>0</th>\n",
              "      <td>16.99</td>\n",
              "      <td>1.01</td>\n",
              "      <td>Female</td>\n",
              "      <td>No</td>\n",
              "      <td>Sun</td>\n",
              "      <td>Dinner</td>\n",
              "      <td>2</td>\n",
              "      <td>0.06</td>\n",
              "      <td>8.49</td>\n",
              "    </tr>\n",
              "    <tr>\n",
              "      <th>1</th>\n",
              "      <td>10.34</td>\n",
              "      <td>1.66</td>\n",
              "      <td>Male</td>\n",
              "      <td>No</td>\n",
              "      <td>Sun</td>\n",
              "      <td>Dinner</td>\n",
              "      <td>3</td>\n",
              "      <td>0.16</td>\n",
              "      <td>3.45</td>\n",
              "    </tr>\n",
              "    <tr>\n",
              "      <th>2</th>\n",
              "      <td>21.01</td>\n",
              "      <td>3.50</td>\n",
              "      <td>Male</td>\n",
              "      <td>No</td>\n",
              "      <td>Sun</td>\n",
              "      <td>Dinner</td>\n",
              "      <td>3</td>\n",
              "      <td>0.17</td>\n",
              "      <td>7.00</td>\n",
              "    </tr>\n",
              "  </tbody>\n",
              "</table>\n",
              "</div>"
            ],
            "text/plain": [
              "   total_bill   tip     sex smoker  day    time  size  percent_tip  split\n",
              "0       16.99  1.01  Female     No  Sun  Dinner     2         0.06   8.49\n",
              "1       10.34  1.66    Male     No  Sun  Dinner     3         0.16   3.45\n",
              "2       21.01  3.50    Male     No  Sun  Dinner     3         0.17   7.00"
            ]
          },
          "metadata": {
            "tags": []
          },
          "execution_count": 111
        }
      ]
    },
    {
      "cell_type": "markdown",
      "metadata": {
        "id": "iRqwCYtaWVue",
        "colab_type": "text"
      },
      "source": [
        "### Optimal Pandas iterating"
      ]
    },
    {
      "cell_type": "code",
      "metadata": {
        "id": "gz7LSbw9VuGq",
        "colab_type": "code",
        "colab": {
          "base_uri": "https://localhost:8080/",
          "height": 51
        },
        "outputId": "67b62474-97ea-499b-952a-96cf67c40729"
      },
      "source": [
        "# Pandas internals: Avoid loops!!! Utilize Numpy broadcasting Characteristics!\n",
        "\n",
        "tips['tip'].values[:10],type(tips['tip'].values)"
      ],
      "execution_count": 116,
      "outputs": [
        {
          "output_type": "execute_result",
          "data": {
            "text/plain": [
              "(array([1.01, 1.66, 3.5 , 3.31, 3.61, 4.71, 2.  , 3.12, 1.96, 3.23]),\n",
              " numpy.ndarray)"
            ]
          },
          "metadata": {
            "tags": []
          },
          "execution_count": 116
        }
      ]
    },
    {
      "cell_type": "code",
      "metadata": {
        "id": "yFWflgHHXf9m",
        "colab_type": "code",
        "colab": {
          "base_uri": "https://localhost:8080/",
          "height": 51
        },
        "outputId": "c44ec64a-892b-4da8-c90e-e5b79179f6b3"
      },
      "source": [
        "#%timeit \n",
        "tips['tip_percent_again']=round(tips['tip']/tips['total_bill'],2) # Next fastest approach 372 µs per loop\n",
        "#tips.head(3) "
      ],
      "execution_count": 122,
      "outputs": [
        {
          "output_type": "stream",
          "text": [
            "The slowest run took 13.44 times longer than the fastest. This could mean that an intermediate result is being cached.\n",
            "1000 loops, best of 3: 372 µs per loop\n"
          ],
          "name": "stdout"
        }
      ]
    },
    {
      "cell_type": "code",
      "metadata": {
        "id": "-L-UHvc7XqK2",
        "colab_type": "code",
        "colab": {
          "base_uri": "https://localhost:8080/",
          "height": 51
        },
        "outputId": "6c37fa25-7190-4261-8c22-1691cf41e509"
      },
      "source": [
        "\n",
        "%timeit tips['tips_per_III']=tips['tip'].values/tips['total_bill'].values # Fastest approach  108 µs per loop\n",
        "#tips.head(3)"
      ],
      "execution_count": 123,
      "outputs": [
        {
          "output_type": "stream",
          "text": [
            "The slowest run took 5.86 times longer than the fastest. This could mean that an intermediate result is being cached.\n",
            "10000 loops, best of 3: 108 µs per loop\n"
          ],
          "name": "stdout"
        }
      ]
    },
    {
      "cell_type": "code",
      "metadata": {
        "id": "FCq2uls3YkJq",
        "colab_type": "code",
        "colab": {}
      },
      "source": [
        ""
      ],
      "execution_count": 0,
      "outputs": []
    }
  ]
}