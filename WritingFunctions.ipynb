{
  "nbformat": 4,
  "nbformat_minor": 0,
  "metadata": {
    "colab": {
      "name": "WritingFunctions.ipynb",
      "provenance": [],
      "collapsed_sections": [],
      "authorship_tag": "ABX9TyN8NUl10MT/LOKEY/oDJv9p",
      "include_colab_link": true
    },
    "kernelspec": {
      "name": "python3",
      "display_name": "Python 3"
    }
  },
  "cells": [
    {
      "cell_type": "markdown",
      "metadata": {
        "id": "view-in-github",
        "colab_type": "text"
      },
      "source": [
        "<a href=\"https://colab.research.google.com/github/mossytreesandferns/DataCampDataEngineering/blob/master/WritingFunctions.ipynb\" target=\"_parent\"><img src=\"https://colab.research.google.com/assets/colab-badge.svg\" alt=\"Open In Colab\"/></a>"
      ]
    },
    {
      "cell_type": "code",
      "metadata": {
        "id": "IwfrA4_cXoFv",
        "colab_type": "code",
        "outputId": "61585305-ac6c-4a96-876c-f8cc57013c94",
        "colab": {
          "base_uri": "https://localhost:8080/",
          "height": 122
        }
      },
      "source": [
        "#Mount my drive- run the code, go to the link, accept.\n",
        "from google.colab import drive\n",
        "drive.mount('/content/gdrive')"
      ],
      "execution_count": 1,
      "outputs": [
        {
          "output_type": "stream",
          "text": [
            "Go to this URL in a browser: https://accounts.google.com/o/oauth2/auth?client_id=947318989803-6bn6qk8qdgf4n4g3pfee6491hc0brc4i.apps.googleusercontent.com&redirect_uri=urn%3aietf%3awg%3aoauth%3a2.0%3aoob&response_type=code&scope=email%20https%3a%2f%2fwww.googleapis.com%2fauth%2fdocs.test%20https%3a%2f%2fwww.googleapis.com%2fauth%2fdrive%20https%3a%2f%2fwww.googleapis.com%2fauth%2fdrive.photos.readonly%20https%3a%2f%2fwww.googleapis.com%2fauth%2fpeopleapi.readonly\n",
            "\n",
            "Enter your authorization code:\n",
            "··········\n",
            "Mounted at /content/gdrive\n"
          ],
          "name": "stdout"
        }
      ]
    },
    {
      "cell_type": "code",
      "metadata": {
        "id": "BN6WYZ_ZYJAj",
        "colab_type": "code",
        "outputId": "c067cdc4-5c58-4f2d-9d81-07ca63e96cbe",
        "colab": {
          "base_uri": "https://localhost:8080/",
          "height": 34
        }
      },
      "source": [
        "#Change working directory to make it easier to access the files\n",
        "import os\n",
        "os.chdir(\"/content/gdrive/My Drive/DCCleaningData/\")\n",
        "os.getcwd()"
      ],
      "execution_count": 2,
      "outputs": [
        {
          "output_type": "execute_result",
          "data": {
            "text/plain": [
              "'/content/gdrive/My Drive/DCCleaningData'"
            ]
          },
          "metadata": {
            "tags": []
          },
          "execution_count": 2
        }
      ]
    },
    {
      "cell_type": "markdown",
      "metadata": {
        "id": "Z1hPYL7kYJOA",
        "colab_type": "text"
      },
      "source": [
        "# Best Practices"
      ]
    },
    {
      "cell_type": "markdown",
      "metadata": {
        "id": "wbojEr-0YTb3",
        "colab_type": "text"
      },
      "source": [
        "### Writing Docstrings"
      ]
    },
    {
      "cell_type": "code",
      "metadata": {
        "id": "_wcxTd-MYJaL",
        "colab_type": "code",
        "colab": {}
      },
      "source": [
        "def function(args): # google style, numpydocs\n",
        "  '''\n",
        "  What function does.\n",
        "\n",
        "  What the arguments are, if any.\n",
        "\n",
        "  What gets returned, if anything.\n",
        "\n",
        "  What errors get raised, if any.\n",
        "\n",
        "  Extra notes or examples of usage.\n",
        "  '''"
      ],
      "execution_count": 0,
      "outputs": []
    },
    {
      "cell_type": "code",
      "metadata": {
        "id": "4twQRQnZZlmD",
        "colab_type": "code",
        "outputId": "3201a683-f00f-4377-a799-ab959a468e22",
        "colab": {
          "base_uri": "https://localhost:8080/",
          "height": 54
        }
      },
      "source": [
        "#Google Style\n",
        "'''\n",
        "Description in imperative language.\n",
        "\n",
        "Args:\n",
        "  arg1(dtype) description of arg1. Can go on \n",
        "    multiple lines.\n",
        "  arg2(dtype,optional) note optional default argument in place.  \n",
        "\n",
        "Returns:\n",
        "  bool\n",
        "  list\n",
        "  don't indent extra lines\n",
        "\n",
        "Raises:\n",
        "  TypeOfError: describe\n",
        "\n",
        "Notes:\n",
        "  Extra notes here.\n",
        "\n",
        "'''"
      ],
      "execution_count": 0,
      "outputs": [
        {
          "output_type": "execute_result",
          "data": {
            "text/plain": [
              "\"\\nDescription in imperative language.\\n\\nArgs:\\n  arg1(dtype) description of arg1. Can go on \\n    multiple lines.\\n  arg2(dtype,optional) note optional default argument in place.  \\n\\nReturns:\\n  bool\\n  list\\n  don't indent extra lines\\n\\nRaises:\\n  TypeOfError: describe\\n\\nNotes:\\n  Extra notes here.\\n\\n\""
            ]
          },
          "metadata": {
            "tags": []
          },
          "execution_count": 3
        }
      ]
    },
    {
      "cell_type": "code",
      "metadata": {
        "id": "uoAF6cl5bfCJ",
        "colab_type": "code",
        "colab": {}
      },
      "source": [
        "# Numpy Style\n",
        "'''\n",
        "Description of what function does.\n",
        "\n",
        "Parameters\n",
        "----------\n",
        "\n",
        "arg_1 : Expected type of arg_1.\n",
        "  Description of arg_1.\n",
        "arg_2 : int, optional.\n",
        "  Write optional if there is a default value.\n",
        "  Default=42.\n",
        "\n",
        "Returns\n",
        "-------\n",
        "The type of return value.\n",
        "  Describe.\n",
        "  Use Yields instead of Returns if describing a generator.\n",
        "'''  \n"
      ],
      "execution_count": 0,
      "outputs": []
    },
    {
      "cell_type": "code",
      "metadata": {
        "id": "orRwFyQyckZs",
        "colab_type": "code",
        "colab": {}
      },
      "source": [
        "# To return a functions docstring.\n",
        "\n",
        "print(function_name.__doc__)"
      ],
      "execution_count": 0,
      "outputs": []
    },
    {
      "cell_type": "code",
      "metadata": {
        "id": "cv2HoIDDc5RZ",
        "colab_type": "code",
        "colab": {}
      },
      "source": [
        "# Cleaner way\n",
        "import inspect\n",
        "\n",
        "print(inspect.getdoc(function_name)) # returns cleaner appearing docstring"
      ],
      "execution_count": 0,
      "outputs": []
    },
    {
      "cell_type": "code",
      "metadata": {
        "id": "s5WDseAmdf4k",
        "colab_type": "code",
        "colab": {}
      },
      "source": [
        "# Example\n",
        "def count_letter(content, letter):\n",
        "  '''\n",
        "  Count the number of times `letter` appears in `content`.\n",
        "\n",
        "  Args:\n",
        "    content (str): The string to search.\n",
        "    letter (str): The letter to search for.\n",
        "\n",
        "  Returns: \n",
        "      int\n",
        "\n",
        "  Raises:\n",
        "    ValueError: If `letter` is not a one-character string.    \n",
        "  \"\"\"\n",
        "       \n",
        "  '''\n",
        "  if (not isinstance(letter, str)) or len(letter) != 1:\n",
        "    raise ValueError('`letter` must be a single character string.')\n",
        "  return len([char for char in content if char == letter])"
      ],
      "execution_count": 0,
      "outputs": []
    },
    {
      "cell_type": "code",
      "metadata": {
        "id": "nBAlCpTfdiXS",
        "colab_type": "code",
        "colab": {}
      },
      "source": [
        "docstring = count_letter.__doc__"
      ],
      "execution_count": 0,
      "outputs": []
    },
    {
      "cell_type": "code",
      "metadata": {
        "id": "3eV_ATv8f6Ex",
        "colab_type": "code",
        "colab": {}
      },
      "source": [
        "# Even works when a function is passed into the function\n",
        "def outer_function(function):\n",
        "\n",
        "var = inspect.getdoc(function)"
      ],
      "execution_count": 0,
      "outputs": []
    },
    {
      "cell_type": "markdown",
      "metadata": {
        "id": "NEnIj9fYifwh",
        "colab_type": "text"
      },
      "source": [
        "### DRY and Do One Thing"
      ]
    },
    {
      "cell_type": "code",
      "metadata": {
        "id": "Omlo7IpZiin6",
        "colab_type": "code",
        "colab": {}
      },
      "source": [
        "# DRY Don't Repeat Yourself\n",
        "# avoid copying code-use functions to avoid it\n",
        "# eg can write afunction to load and plot data .... except... it's better to follow the principals of...\n",
        "\n"
      ],
      "execution_count": 0,
      "outputs": []
    },
    {
      "cell_type": "code",
      "metadata": {
        "id": "qJq8w4KozSpX",
        "colab_type": "code",
        "colab": {}
      },
      "source": [
        "# Do One Thing\n",
        "# split function into one that loads and one that plots"
      ],
      "execution_count": 0,
      "outputs": []
    },
    {
      "cell_type": "code",
      "metadata": {
        "id": "3FtDoVr20rNh",
        "colab_type": "code",
        "outputId": "f798efa8-8f55-45dd-a8f0-01b62b4b26df",
        "colab": {
          "base_uri": "https://localhost:8080/",
          "height": 142
        }
      },
      "source": [
        "import pandas as pd\n",
        "def load_csv(path): # docstring has to be indented\n",
        "  '''\n",
        "  Load a csv with pandas.\n",
        "\n",
        "  Args:\n",
        "    path: path to csv.\n",
        "\n",
        "  Returns:\n",
        "    First three rows of the csv.  \n",
        "\n",
        "  '''\n",
        "\n",
        "\n",
        "  csv = pd.read_csv(path)\n",
        "  data = csv.head(3)\n",
        "  return data\n",
        "\n",
        "data = load_csv('tips.csv')\n",
        "data\n"
      ],
      "execution_count": 0,
      "outputs": [
        {
          "output_type": "execute_result",
          "data": {
            "text/html": [
              "<div>\n",
              "<style scoped>\n",
              "    .dataframe tbody tr th:only-of-type {\n",
              "        vertical-align: middle;\n",
              "    }\n",
              "\n",
              "    .dataframe tbody tr th {\n",
              "        vertical-align: top;\n",
              "    }\n",
              "\n",
              "    .dataframe thead th {\n",
              "        text-align: right;\n",
              "    }\n",
              "</style>\n",
              "<table border=\"1\" class=\"dataframe\">\n",
              "  <thead>\n",
              "    <tr style=\"text-align: right;\">\n",
              "      <th></th>\n",
              "      <th>total_bill</th>\n",
              "      <th>tip</th>\n",
              "      <th>sex</th>\n",
              "      <th>smoker</th>\n",
              "      <th>day</th>\n",
              "      <th>time</th>\n",
              "      <th>size</th>\n",
              "    </tr>\n",
              "  </thead>\n",
              "  <tbody>\n",
              "    <tr>\n",
              "      <th>0</th>\n",
              "      <td>16.99</td>\n",
              "      <td>1.01</td>\n",
              "      <td>Female</td>\n",
              "      <td>No</td>\n",
              "      <td>Sun</td>\n",
              "      <td>Dinner</td>\n",
              "      <td>2</td>\n",
              "    </tr>\n",
              "    <tr>\n",
              "      <th>1</th>\n",
              "      <td>10.34</td>\n",
              "      <td>1.66</td>\n",
              "      <td>Male</td>\n",
              "      <td>No</td>\n",
              "      <td>Sun</td>\n",
              "      <td>Dinner</td>\n",
              "      <td>3</td>\n",
              "    </tr>\n",
              "    <tr>\n",
              "      <th>2</th>\n",
              "      <td>21.01</td>\n",
              "      <td>3.50</td>\n",
              "      <td>Male</td>\n",
              "      <td>No</td>\n",
              "      <td>Sun</td>\n",
              "      <td>Dinner</td>\n",
              "      <td>3</td>\n",
              "    </tr>\n",
              "  </tbody>\n",
              "</table>\n",
              "</div>"
            ],
            "text/plain": [
              "   total_bill   tip     sex smoker  day    time  size\n",
              "0       16.99  1.01  Female     No  Sun  Dinner     2\n",
              "1       10.34  1.66    Male     No  Sun  Dinner     3\n",
              "2       21.01  3.50    Male     No  Sun  Dinner     3"
            ]
          },
          "metadata": {
            "tags": []
          },
          "execution_count": 14
        }
      ]
    },
    {
      "cell_type": "code",
      "metadata": {
        "id": "Y0A7A3iQ1FXa",
        "colab_type": "code",
        "outputId": "09ebcaea-10e6-4c9b-f61b-bec518806073",
        "colab": {
          "base_uri": "https://localhost:8080/",
          "height": 34
        }
      },
      "source": [
        "data.columns"
      ],
      "execution_count": 0,
      "outputs": [
        {
          "output_type": "execute_result",
          "data": {
            "text/plain": [
              "Index(['total_bill', 'tip', 'sex', 'smoker', 'day', 'time', 'size'], dtype='object')"
            ]
          },
          "metadata": {
            "tags": []
          },
          "execution_count": 8
        }
      ]
    },
    {
      "cell_type": "code",
      "metadata": {
        "id": "OQB29Ud71SEE",
        "colab_type": "code",
        "outputId": "1b80778f-1f05-4129-d81d-e1f78949d6c1",
        "colab": {
          "base_uri": "https://localhost:8080/",
          "height": 282
        }
      },
      "source": [
        "import matplotlib.pyplot as plt\n",
        "\n",
        "\n",
        "def plot_hist(column):\n",
        "  '''\n",
        "  Plot a histogram of a column of numerical data.\n",
        "\n",
        "  Args:\n",
        "    column (pandas Series): Series of float data.\n",
        "\n",
        "  Returns:\n",
        "    histogram\n",
        "\n",
        "  '''\n",
        "\n",
        "  return column.hist()\n",
        "\n",
        "hist = plot_hist(data['total_bill'])  \n",
        "hist"
      ],
      "execution_count": 0,
      "outputs": [
        {
          "output_type": "execute_result",
          "data": {
            "text/plain": [
              "<matplotlib.axes._subplots.AxesSubplot at 0x7f809992ca20>"
            ]
          },
          "metadata": {
            "tags": []
          },
          "execution_count": 15
        },
        {
          "output_type": "display_data",
          "data": {
            "image/png": "[encoded data removed]",
            "text/plain": [
              "<Figure size 432x288 with 1 Axes>"
            ]
          },
          "metadata": {
            "tags": [],
            "needs_background": "light"
          }
        }
      ]
    },
    {
      "cell_type": "code",
      "metadata": {
        "id": "EbzCzkja2Sm3",
        "colab_type": "code",
        "outputId": "ddfb3d89-1d25-413d-e9f1-5cee2ef30497",
        "colab": {
          "base_uri": "https://localhost:8080/",
          "height": 142
        }
      },
      "source": [
        "def percent_tip(df,tip_col, total_col):\n",
        "  '''\n",
        "  Calculate the percent tip.\n",
        "\n",
        "  Args:\n",
        "    df (pandas DataFrame): Dataframe to be analyzed.\n",
        "    tip_col (pandas Series): Series that contains tip data.\n",
        "    total_col (pandas Series): Series that contains total bill data.\n",
        "\n",
        "  Returns:\n",
        "    A column's worth of new data.  \n",
        "  '''\n",
        "  percent_tip = round(tip_col/total_col,2)\n",
        "  return percent_tip\n",
        "\n",
        "data['percent_tip'] = percent_tip(data,data['tip'],data['total_bill'])\n",
        "data.head(3)\n"
      ],
      "execution_count": 0,
      "outputs": [
        {
          "output_type": "execute_result",
          "data": {
            "text/html": [
              "<div>\n",
              "<style scoped>\n",
              "    .dataframe tbody tr th:only-of-type {\n",
              "        vertical-align: middle;\n",
              "    }\n",
              "\n",
              "    .dataframe tbody tr th {\n",
              "        vertical-align: top;\n",
              "    }\n",
              "\n",
              "    .dataframe thead th {\n",
              "        text-align: right;\n",
              "    }\n",
              "</style>\n",
              "<table border=\"1\" class=\"dataframe\">\n",
              "  <thead>\n",
              "    <tr style=\"text-align: right;\">\n",
              "      <th></th>\n",
              "      <th>total_bill</th>\n",
              "      <th>tip</th>\n",
              "      <th>sex</th>\n",
              "      <th>smoker</th>\n",
              "      <th>day</th>\n",
              "      <th>time</th>\n",
              "      <th>size</th>\n",
              "      <th>percent_tip</th>\n",
              "    </tr>\n",
              "  </thead>\n",
              "  <tbody>\n",
              "    <tr>\n",
              "      <th>0</th>\n",
              "      <td>16.99</td>\n",
              "      <td>1.01</td>\n",
              "      <td>Female</td>\n",
              "      <td>No</td>\n",
              "      <td>Sun</td>\n",
              "      <td>Dinner</td>\n",
              "      <td>2</td>\n",
              "      <td>0.06</td>\n",
              "    </tr>\n",
              "    <tr>\n",
              "      <th>1</th>\n",
              "      <td>10.34</td>\n",
              "      <td>1.66</td>\n",
              "      <td>Male</td>\n",
              "      <td>No</td>\n",
              "      <td>Sun</td>\n",
              "      <td>Dinner</td>\n",
              "      <td>3</td>\n",
              "      <td>0.16</td>\n",
              "    </tr>\n",
              "    <tr>\n",
              "      <th>2</th>\n",
              "      <td>21.01</td>\n",
              "      <td>3.50</td>\n",
              "      <td>Male</td>\n",
              "      <td>No</td>\n",
              "      <td>Sun</td>\n",
              "      <td>Dinner</td>\n",
              "      <td>3</td>\n",
              "      <td>0.17</td>\n",
              "    </tr>\n",
              "  </tbody>\n",
              "</table>\n",
              "</div>"
            ],
            "text/plain": [
              "   total_bill   tip     sex smoker  day    time  size  percent_tip\n",
              "0       16.99  1.01  Female     No  Sun  Dinner     2         0.06\n",
              "1       10.34  1.66    Male     No  Sun  Dinner     3         0.16\n",
              "2       21.01  3.50    Male     No  Sun  Dinner     3         0.17"
            ]
          },
          "metadata": {
            "tags": []
          },
          "execution_count": 18
        }
      ]
    },
    {
      "cell_type": "code",
      "metadata": {
        "id": "xbbFT_oj5vOk",
        "colab_type": "code",
        "outputId": "2972d80b-d82b-4f7f-8324-c68ee2194df9",
        "colab": {
          "base_uri": "https://localhost:8080/",
          "height": 34
        }
      },
      "source": [
        "#mean\n",
        "li = [1,2,3,4,5]\n",
        "sum(li)/len(li)"
      ],
      "execution_count": 0,
      "outputs": [
        {
          "output_type": "execute_result",
          "data": {
            "text/plain": [
              "3.0"
            ]
          },
          "metadata": {
            "tags": []
          },
          "execution_count": 24
        }
      ]
    },
    {
      "cell_type": "code",
      "metadata": {
        "id": "rTaYp8zH7n2K",
        "colab_type": "code",
        "outputId": "55f429e3-483b-4f98-e534-28b7d213766f",
        "colab": {
          "base_uri": "https://localhost:8080/",
          "height": 34
        }
      },
      "source": [
        "#median\n",
        "def find_median(values):\n",
        "  midpoint = int(len(values)/2)\n",
        "  if len(li) %2 == 0:\n",
        "    median = (values[midpoint-1]+values[midpoint])/2\n",
        "  else:\n",
        "    median = values[midpoint]\n",
        "  return median\n",
        "\n",
        "find_median(li)"
      ],
      "execution_count": 0,
      "outputs": [
        {
          "output_type": "execute_result",
          "data": {
            "text/plain": [
              "3"
            ]
          },
          "metadata": {
            "tags": []
          },
          "execution_count": 27
        }
      ]
    },
    {
      "cell_type": "markdown",
      "metadata": {
        "id": "a5vhdhCPCMla",
        "colab_type": "text"
      },
      "source": [
        "### Pass by Assignment"
      ]
    },
    {
      "cell_type": "code",
      "metadata": {
        "id": "CN3BzgTDBw6p",
        "colab_type": "code",
        "colab": {}
      },
      "source": [
        "# lists are mutable, integers are not,becareful of using mutable objets as functionparameters, use None instead\n",
        "  # Update the function to create a default DataFrame\n",
        "\n",
        "\n",
        "  # Way to create a default data frame so you don't have to pass one into the function\n",
        "def better_add_column(values, df=None):\n",
        "  if df is None:\n",
        "    df = pandas.DataFrame()\n",
        "  df['col_{}'.format(len(df.columns))] = values\n",
        "  return df"
      ],
      "execution_count": 0,
      "outputs": []
    },
    {
      "cell_type": "markdown",
      "metadata": {
        "id": "du4O958-GthT",
        "colab_type": "text"
      },
      "source": [
        "# Context Managers"
      ]
    },
    {
      "cell_type": "markdown",
      "metadata": {
        "id": "c6m2Jis-LF62",
        "colab_type": "text"
      },
      "source": [
        "### Using Context Managers"
      ]
    },
    {
      "cell_type": "code",
      "metadata": {
        "id": "xCoTaD2DGv3K",
        "colab_type": "code",
        "colab": {}
      },
      "source": [
        "# with\n",
        "\n",
        "#with contextmanager(args) as variable:\n",
        "  #action\n",
        "  #action\n",
        "\n",
        "with open('alice.txt') as file:\n",
        "  text = file.read()\n",
        "\n",
        "\n",
        "# theoretical context manager timer()   \n",
        "with  timer():\n",
        "  print('Numpy version')\n",
        "  process_with_numpy(image)\n",
        "\n",
        "# Time how long process_with_pytorch(image) takes to run\n",
        "with timer():\n",
        "  print('Pytorch version')\n",
        "  process_with_pytorch(image) "
      ],
      "execution_count": 0,
      "outputs": []
    },
    {
      "cell_type": "markdown",
      "metadata": {
        "id": "Xzc2COkMNYPP",
        "colab_type": "text"
      },
      "source": [
        "### Writing Context Managers"
      ]
    },
    {
      "cell_type": "code",
      "metadata": {
        "id": "4ndMwnJpNaci",
        "colab_type": "code",
        "outputId": "3d93fd95-827f-44ed-88d0-0df18360b1bf",
        "colab": {
          "base_uri": "https://localhost:8080/",
          "height": 34
        }
      },
      "source": [
        "'''Steps'''\n",
        "# Define function\n",
        "# add function actions\n",
        "# use yield\n",
        "# tear down code,e.g. file.close()\n",
        "# add context decorator in the line obove the function definition in line with it @contextlib.contextmanager"
      ],
      "execution_count": 0,
      "outputs": [
        {
          "output_type": "execute_result",
          "data": {
            "text/plain": [
              "'Steps'"
            ]
          },
          "metadata": {
            "tags": []
          },
          "execution_count": 28
        }
      ]
    },
    {
      "cell_type": "code",
      "metadata": {
        "id": "3sbx-nkLOMj3",
        "colab_type": "code",
        "outputId": "2f79437b-ad6e-4c93-c285-44169f537767",
        "colab": {
          "base_uri": "https://localhost:8080/",
          "height": 68
        }
      },
      "source": [
        "import contextlib\n",
        "@contextlib.contextmanager\n",
        "def blah():\n",
        "  print('Hello')\n",
        "  yield 42\n",
        "  print('Goodbye')\n",
        "\n",
        "with blah() as foo:\n",
        "  print('foo is {}'.format(foo))  "
      ],
      "execution_count": 0,
      "outputs": [
        {
          "output_type": "stream",
          "text": [
            "Hello\n",
            "foo is 42\n",
            "Goodbye\n"
          ],
          "name": "stdout"
        }
      ]
    },
    {
      "cell_type": "code",
      "metadata": {
        "id": "On1jrgl4RTPP",
        "colab_type": "code",
        "outputId": "ed95005a-45b2-428e-8e5d-f3c5c61d67ce",
        "colab": {
          "base_uri": "https://localhost:8080/",
          "height": 85
        }
      },
      "source": [
        "from urllib.request import urlretrieve\n",
        "import pandas as pd\n",
        "\n",
        "@contextlib.contextmanager\n",
        "def read_csv_from_web(url):\n",
        "  urlretrieve(url,'winequality-red1.csv')\n",
        "  data= pd.read_csv('winequality-red1.csv',sep=';')\n",
        "  yield data\n",
        "\n",
        "url = 'https://s3.amazonaws.com/assets.datacamp.com/production/course_1606/datasets/winequality-red.csv'\n",
        "\n",
        "with read_csv_from_web(url):\n",
        "  data = data\n",
        "  print(data.head(3))\n"
      ],
      "execution_count": 0,
      "outputs": [
        {
          "output_type": "stream",
          "text": [
            "   total_bill   tip     sex smoker  day    time  size  percent_tip\n",
            "0       16.99  1.01  Female     No  Sun  Dinner     2         0.06\n",
            "1       10.34  1.66    Male     No  Sun  Dinner     3         0.16\n",
            "2       21.01  3.50    Male     No  Sun  Dinner     3         0.17\n"
          ],
          "name": "stdout"
        }
      ]
    },
    {
      "cell_type": "code",
      "metadata": {
        "id": "IdWzSK6WVK3K",
        "colab_type": "code",
        "colab": {}
      },
      "source": [
        "# Example\n",
        "@contextlib.contextmanager\n",
        "def open_read_only(filename):\n",
        "  \"\"\"Open a file in read-only mode.\n",
        "\n",
        "  Args:\n",
        "    filename (str): The location of the file to read\n",
        "\n",
        "  Yields:\n",
        "    file object\n",
        "  \"\"\"\n",
        "  read_only_file = open(filename, mode='r')\n",
        "  # Yield read_only_file so it can be assigned to my_file\n",
        "  yield read_only_file\n",
        "  # Close read_only_file\n",
        "  read_only_file.close()\n",
        "\n",
        "with open_read_only('my_file.txt') as my_file:\n",
        "  print(my_file.read())"
      ],
      "execution_count": 0,
      "outputs": []
    },
    {
      "cell_type": "markdown",
      "metadata": {
        "id": "edtirGKnWgmA",
        "colab_type": "text"
      },
      "source": [
        "### Advanced Topics"
      ]
    },
    {
      "cell_type": "code",
      "metadata": {
        "id": "cpzLzrItWfPV",
        "colab_type": "code",
        "colab": {}
      },
      "source": [
        "# Example function for copying a large file - using a context manager in a function\n",
        "\n",
        "def copy_large_file(source_file, destination_file):\n",
        "  with open(source_file,'r') as src:\n",
        "    with open(destination_file, 'w'):\n",
        "      for line in destination_file:\n",
        "        destination_file.write(line)\n",
        "        destination_file.close()\n",
        "    source_file.close()    "
      ],
      "execution_count": 0,
      "outputs": []
    },
    {
      "cell_type": "code",
      "metadata": {
        "id": "gj6zy-TYZeZt",
        "colab_type": "code",
        "colab": {}
      },
      "source": [
        ""
      ],
      "execution_count": 0,
      "outputs": []
    },
    {
      "cell_type": "code",
      "metadata": {
        "id": "Z1F4V_lmXl8G",
        "colab_type": "code",
        "colab": {}
      },
      "source": [
        "# Handling errors, use finally after yield so system will allow final action to execute even if there is an error\n"
      ],
      "execution_count": 0,
      "outputs": []
    },
    {
      "cell_type": "code",
      "metadata": {
        "id": "i2uHPXgoZf5r",
        "colab_type": "code",
        "colab": {}
      },
      "source": [
        "# Example\n",
        "# Use the \"stock('NVDA')\" context manager\n",
        "# and assign the result to the variable \"nvda\"\n",
        "with stock('NVDA') as nvda:\n",
        "  # Open \"NVDA.txt\" for writing as f_out\n",
        "  with open('NVDA.txt', 'w') as f_out:\n",
        "    for _ in range(10):\n",
        "      value = nvda.price()\n",
        "      print('Logging ${:.2f} for NVDA'.format(value))\n",
        "      f_out.write('{:.2f}\\n'.format(value))"
      ],
      "execution_count": 0,
      "outputs": []
    },
    {
      "cell_type": "code",
      "metadata": {
        "id": "_lvzsfs9aMDq",
        "colab_type": "code",
        "colab": {}
      },
      "source": [
        "# Example\n",
        "\n",
        "def in_dir(directory):\n",
        "  \"\"\"Change current working directory to `directory`,\n",
        "  allow the user to run some code, and change back.\n",
        "\n",
        "  Args:\n",
        "    directory (str): The path to a directory to work in.\n",
        "  \"\"\"\n",
        "  current_dir = os.getcwd()\n",
        "  os.chdir(directory)\n",
        "\n",
        "  # Add code that lets you handle errors\n",
        "  try:\n",
        "    yield\n",
        "  # Ensure the directory is reset,\n",
        "  # whether there was an error or not\n",
        "  finally:\n",
        "    os.chdir(current_dir)"
      ],
      "execution_count": 0,
      "outputs": []
    },
    {
      "cell_type": "markdown",
      "metadata": {
        "id": "S1IMBIrgaYLK",
        "colab_type": "text"
      },
      "source": [
        "# Decorators"
      ]
    },
    {
      "cell_type": "markdown",
      "metadata": {
        "id": "mvBMIbUNaYUg",
        "colab_type": "text"
      },
      "source": [
        "### Functions are objects"
      ]
    },
    {
      "cell_type": "code",
      "metadata": {
        "id": "Pg6WEgT-aXjL",
        "colab_type": "code",
        "colab": {}
      },
      "source": [
        "# Assigning functions to variabls\n",
        "x = int\n",
        "y = len\n",
        "z = open\n",
        "\n",
        "# parentheses are only used when function is called\n",
        "int(5)"
      ],
      "execution_count": 0,
      "outputs": []
    },
    {
      "cell_type": "code",
      "metadata": {
        "id": "vPaJFEuq8KD_",
        "colab_type": "code",
        "colab": {}
      },
      "source": [
        "def has_docstring(func):\n",
        "  return func.__doc__ is not None"
      ],
      "execution_count": 0,
      "outputs": []
    },
    {
      "cell_type": "code",
      "metadata": {
        "id": "SS0WIBdS8bfd",
        "colab_type": "code",
        "colab": {
          "base_uri": "https://localhost:8080/",
          "height": 34
        },
        "outputId": "4af8e5a7-648e-4b99-f825-01442efd1077"
      },
      "source": [
        "has_docstring(int)"
      ],
      "execution_count": 4,
      "outputs": [
        {
          "output_type": "execute_result",
          "data": {
            "text/plain": [
              "True"
            ]
          },
          "metadata": {
            "tags": []
          },
          "execution_count": 4
        }
      ]
    },
    {
      "cell_type": "code",
      "metadata": {
        "id": "0c0yQZgL8dgE",
        "colab_type": "code",
        "colab": {
          "base_uri": "https://localhost:8080/",
          "height": 34
        },
        "outputId": "5ff2ee31-829a-47e0-9328-2a4aaed6f3aa"
      },
      "source": [
        "has_docstring(open)"
      ],
      "execution_count": 5,
      "outputs": [
        {
          "output_type": "execute_result",
          "data": {
            "text/plain": [
              "True"
            ]
          },
          "metadata": {
            "tags": []
          },
          "execution_count": 5
        }
      ]
    },
    {
      "cell_type": "code",
      "metadata": {
        "id": "iJh25Q2v8fXz",
        "colab_type": "code",
        "colab": {
          "base_uri": "https://localhost:8080/",
          "height": 68
        },
        "outputId": "3c1e8f79-4d01-4554-f7b3-30cb022a2504"
      },
      "source": [
        "def foo():\n",
        "  l = [1,2,3]\n",
        "  \n",
        "  def bar(y):\n",
        "    print(y)\n",
        "\n",
        "  for x in l:\n",
        "    bar(x)  \n",
        "foo()    "
      ],
      "execution_count": 7,
      "outputs": [
        {
          "output_type": "stream",
          "text": [
            "1\n",
            "2\n",
            "3\n"
          ],
          "name": "stdout"
        }
      ]
    },
    {
      "cell_type": "code",
      "metadata": {
        "id": "1nGHeSqt84Bd",
        "colab_type": "code",
        "colab": {}
      },
      "source": [
        "def foo(x,y):\n",
        "  def in_range(v):\n",
        "    return v>4 and v<10\n",
        "  if in_range(x) and in_range(y):\n",
        "    return(x*6)  "
      ],
      "execution_count": 0,
      "outputs": []
    },
    {
      "cell_type": "code",
      "metadata": {
        "id": "gXbYGwio9lTy",
        "colab_type": "code",
        "colab": {}
      },
      "source": [
        "# Call has_docstring() on the load_and_plot_data() function\n",
        "ok = has_docstring(load_and_plot_data)\n",
        "\n",
        "if not ok:\n",
        "  print(\"load_and_plot_data() doesn't have a docstring!\")\n",
        "else:\n",
        "  print(\"load_and_plot_data() looks ok\")"
      ],
      "execution_count": 0,
      "outputs": []
    },
    {
      "cell_type": "code",
      "metadata": {
        "id": "uxNo-dKMHuf8",
        "colab_type": "code",
        "colab": {}
      },
      "source": [
        "\n",
        "def create_math_function(func_name):\n",
        "  if func_name == 'add':\n",
        "    def add(a, b):\n",
        "      return a + b\n",
        "    return add\n",
        "  elif func_name == 'subtract':\n",
        "    # Define the subtract() function\n",
        "    def subtract(a,b):\n",
        "        return a - b\n",
        "    return subtract    \n",
        "  else:\n",
        "    print(\"I don't know that one\")\n",
        "    \n",
        "add = create_math_function('add')\n",
        "print('5 + 2 = {}'.format(add(5, 2)))\n",
        "\n",
        "subtract = create_math_function('subtract')\n",
        "print('5 - 2 = {}'.format(subtract(5, 2)))"
      ],
      "execution_count": 0,
      "outputs": []
    },
    {
      "cell_type": "markdown",
      "metadata": {
        "id": "f6x-u464H2RZ",
        "colab_type": "text"
      },
      "source": [
        "### Scope"
      ]
    },
    {
      "cell_type": "code",
      "metadata": {
        "id": "MlZig94mH3qj",
        "colab_type": "code",
        "colab": {}
      },
      "source": [
        "# local, nonlocal, global, builtin\n",
        "# use global inside function to change value of global variable to local value\n",
        "# ''  nonlocal '  ' ' ' ' ' ' ' ' ' ' ' ' ' ' ' ' ' ' ' ' ' ' ' ' ' ' ' ' ' ' "
      ],
      "execution_count": 0,
      "outputs": []
    },
    {
      "cell_type": "code",
      "metadata": {
        "id": "KZFcqTY_ST21",
        "colab_type": "code",
        "colab": {
          "base_uri": "https://localhost:8080/",
          "height": 85
        },
        "outputId": "5130e6e4-02cd-490a-8f38-fdc8f2131693"
      },
      "source": [
        "x = 50\n",
        "\n",
        "def one():\n",
        "  x = 10\n",
        "\n",
        "def two():\n",
        "  global x\n",
        "  x = 30\n",
        "\n",
        "def three():\n",
        "  x = 100\n",
        "  print(x)\n",
        "\n",
        "for func in [one, two, three]:\n",
        "  func()\n",
        "  print(x)  # 50, 30, 100, 30"
      ],
      "execution_count": 9,
      "outputs": [
        {
          "output_type": "stream",
          "text": [
            "50\n",
            "30\n",
            "100\n",
            "30\n"
          ],
          "name": "stdout"
        }
      ]
    },
    {
      "cell_type": "markdown",
      "metadata": {
        "id": "ImV68sY8UOu-",
        "colab_type": "text"
      },
      "source": [
        "### Closures"
      ]
    },
    {
      "cell_type": "code",
      "metadata": {
        "id": "loGO5zTySXTA",
        "colab_type": "code",
        "colab": {}
      },
      "source": [
        "# Tuple that is not in scope but but is necessary for a function to run"
      ],
      "execution_count": 0,
      "outputs": []
    },
    {
      "cell_type": "code",
      "metadata": {
        "id": "maKdseHIUsty",
        "colab_type": "code",
        "colab": {
          "base_uri": "https://localhost:8080/",
          "height": 34
        },
        "outputId": "127f70c3-adfe-4097-f6f6-4539bc158125"
      },
      "source": [
        "def foo():\n",
        "  x = 5\n",
        "  def bar():\n",
        "    print(x)\n",
        "  return bar\n",
        "func = foo()\n",
        "\n",
        "func()"
      ],
      "execution_count": 10,
      "outputs": [
        {
          "output_type": "stream",
          "text": [
            "5\n"
          ],
          "name": "stdout"
        }
      ]
    },
    {
      "cell_type": "code",
      "metadata": {
        "id": "p4NxROzzU6RM",
        "colab_type": "code",
        "colab": {}
      },
      "source": [
        "# Closure: Python's way of attaching nonlocal variables to returned functions so that they can operate when it is called outside of it's paren'ts scope\n",
        "# Decorators rely on: functions as object, nested functions, nonlocal scope, closures"
      ],
      "execution_count": 0,
      "outputs": []
    },
    {
      "cell_type": "code",
      "metadata": {
        "id": "1SPUfNNfW5fX",
        "colab_type": "code",
        "colab": {
          "base_uri": "https://localhost:8080/",
          "height": 34
        },
        "outputId": "16bebeec-d6ab-4be5-906e-d28dff50c229"
      },
      "source": [
        "def return_a_func(arg1, arg2):\n",
        "  def new_func():\n",
        "    print('arg1 was {}'.format(arg1))\n",
        "    print('arg2 was {}'.format(arg2))\n",
        "  return new_func\n",
        "    \n",
        "my_func = return_a_func(2, 17)\n",
        "\n",
        "# Show that my_func()'s closure is not None\n",
        "print(my_func.__closure__ is not None)"
      ],
      "execution_count": 13,
      "outputs": [
        {
          "output_type": "stream",
          "text": [
            "True\n"
          ],
          "name": "stdout"
        }
      ]
    },
    {
      "cell_type": "code",
      "metadata": {
        "id": "B-pVvpuXYLGR",
        "colab_type": "code",
        "colab": {
          "base_uri": "https://localhost:8080/",
          "height": 68
        },
        "outputId": "3ed1cf4b-971f-4c68-bab7-b5889b6d9da8"
      },
      "source": [
        "def return_a_func(arg1, arg2):\n",
        "  def new_func():\n",
        "    print('arg1 was {}'.format(arg1))\n",
        "    print('arg2 was {}'.format(arg2))\n",
        "  return new_func\n",
        "    \n",
        "my_func = return_a_func(2, 17)\n",
        "\n",
        "print(my_func.__closure__ is not None)\n",
        "print(len(my_func.__closure__) == 2)\n",
        "\n",
        "# Get the values of the variables in the closure\n",
        "closure_values = [\n",
        "  my_func.__closure__[i].cell_contents for i in range(2)\n",
        "]\n",
        "print(closure_values == [2, 17])"
      ],
      "execution_count": 12,
      "outputs": [
        {
          "output_type": "stream",
          "text": [
            "True\n",
            "True\n",
            "True\n"
          ],
          "name": "stdout"
        }
      ]
    },
    {
      "cell_type": "markdown",
      "metadata": {
        "id": "VXC5Z4edYryF",
        "colab_type": "text"
      },
      "source": [
        "### Decorators"
      ]
    },
    {
      "cell_type": "code",
      "metadata": {
        "id": "ZBRp9krGYTyT",
        "colab_type": "code",
        "colab": {}
      },
      "source": [
        "# Decorator: Somethign to put arounda function that changes its behavior (modify inputs, outputs, change actions)"
      ],
      "execution_count": 0,
      "outputs": []
    },
    {
      "cell_type": "code",
      "metadata": {
        "id": "Ovv4tTvubK-8",
        "colab_type": "code",
        "colab": {}
      },
      "source": [
        "# Write Decorator for functions designed in notebooks"
      ],
      "execution_count": 0,
      "outputs": []
    },
    {
      "cell_type": "code",
      "metadata": {
        "id": "_RFb3-OKbOcK",
        "colab_type": "code",
        "colab": {}
      },
      "source": [
        "# Without decorator syntax\n",
        "# print_args() is a decorator function\n",
        "def my_function(a, b, c):\n",
        "  print(a + b + c)\n",
        "\n",
        "# Decorate my_function() with the print_args() decorator\n",
        "my_function = print_args(my_function)\n",
        "\n",
        "my_function(1, 2, 3)"
      ],
      "execution_count": 0,
      "outputs": []
    },
    {
      "cell_type": "code",
      "metadata": {
        "id": "SwpSZvQOb7er",
        "colab_type": "code",
        "colab": {}
      },
      "source": [
        "# Decorate my_function() with the print_args() decorator\n",
        "@print_args\n",
        "def my_function(a, b, c):\n",
        "  print(a + b + c)\n",
        "\n",
        "my_function(1, 2, 3)"
      ],
      "execution_count": 0,
      "outputs": []
    },
    {
      "cell_type": "code",
      "metadata": {
        "id": "NUPibOOKc3Cb",
        "colab_type": "code",
        "colab": {}
      },
      "source": [
        "\n",
        "def print_before_and_after(func):\n",
        "  def wrapper(*args):\n",
        "    print('Before {}'.format(func.__name__))\n",
        "    # Call the function being decorated with *args\n",
        "    func(*args)\n",
        "    print('After {}'.format(func.__name__))\n",
        "  # Return the nested function\n",
        "  return wrapper\n",
        "\n",
        "@print_before_and_after\n",
        "def multiply(a, b):\n",
        "  print(a * b)\n",
        "\n",
        "multiply(5, 10)"
      ],
      "execution_count": 0,
      "outputs": []
    },
    {
      "cell_type": "markdown",
      "metadata": {
        "id": "BJeQOuXKc9c3",
        "colab_type": "text"
      },
      "source": [
        "# More on Decorators"
      ]
    },
    {
      "cell_type": "markdown",
      "metadata": {
        "id": "a8SFsgHndB_v",
        "colab_type": "text"
      },
      "source": [
        "### Real World Examples"
      ]
    },
    {
      "cell_type": "code",
      "metadata": {
        "id": "Tac1eMKpc3Gs",
        "colab_type": "code",
        "colab": {}
      },
      "source": [
        "# Use decorators when applying code to multiple functions, like in testing the timing of functions\n",
        "\n",
        "def print_return_type(func):\n",
        "  # Define wrapper(), the decorated function\n",
        "  def wrapper(*args,**kwargs):\n",
        "    # Call the function being decorated\n",
        "    result = func(*args,**kwargs)\n",
        "    print('{}() returned type {}'.format(\n",
        "      func.__name__, type(result)\n",
        "    ))\n",
        "    return result"
      ],
      "execution_count": 0,
      "outputs": []
    },
    {
      "cell_type": "code",
      "metadata": {
        "id": "hMm_FB5ZjNcK",
        "colab_type": "code",
        "colab": {}
      },
      "source": [
        "\n",
        "def counter(func):\n",
        "  def wrapper(*args, **kwargs):\n",
        "    wrapper.count += 1\n",
        "    # Call the function being decorated and return the result\n",
        "    return func(*args, **kwargs)\n",
        "  wrapper.count = 0\n",
        "  # Return the new decorated function\n",
        "  return wrapper\n",
        "\n",
        "# Decorate foo() with the counter() decorator\n",
        "@counter\n",
        "def foo():\n",
        "  print('calling foo()')\n",
        "  \n",
        "foo()\n",
        "foo()\n",
        "\n",
        "print('foo() was called {} times.'.format(foo.count))"
      ],
      "execution_count": 0,
      "outputs": []
    },
    {
      "cell_type": "markdown",
      "metadata": {
        "id": "-fnOzMlsomlb",
        "colab_type": "text"
      },
      "source": [
        "### Decorators and Metadata"
      ]
    },
    {
      "cell_type": "code",
      "metadata": {
        "id": "UTRc13RHoofC",
        "colab_type": "code",
        "colab": {}
      },
      "source": [
        "# python will not return metadata (name, docstring) on a decorated function unless...\n",
        "\n",
        "from functools import wraps\n",
        "\n",
        "def decorator_func(func):\n",
        "\n",
        "  @wraps(func) # this decorator on the wrapper function corrects metadata errors\n",
        "  def wrapper(*args,**kwargs):\n",
        "\n",
        "  return wrapper  "
      ],
      "execution_count": 0,
      "outputs": []
    },
    {
      "cell_type": "code",
      "metadata": {
        "id": "7rBIVzvorS0i",
        "colab_type": "code",
        "colab": {}
      },
      "source": [
        "\n",
        "@check_everything\n",
        "def duplicate(my_list):\n",
        "  \"\"\"Return a new list that repeats the input twice\"\"\"\n",
        "  return my_list + my_list\n",
        "\n",
        "t_start = time.time()\n",
        "duplicated_list = duplicate(list(range(50)))\n",
        "t_end = time.time()\n",
        "decorated_time = t_end - t_start\n",
        "\n",
        "t_start = time.time()\n",
        "# Call the original function instead of the decorated one\n",
        "duplicated_list = duplicate.__wrapped__(list(range(50))) #adding __wrapped__ to a decorated func allows it to run without decoration\n",
        "t_end = time.time()\n",
        "undecorated_time = t_end - t_start\n",
        "\n",
        "print('Decorated time: {:.5f}s'.format(decorated_time))\n",
        "print('Undecorated time: {:.5f}s'.format(undecorated_time))"
      ],
      "execution_count": 0,
      "outputs": []
    },
    {
      "cell_type": "markdown",
      "metadata": {
        "id": "9hcuj0VJJNf8",
        "colab_type": "text"
      },
      "source": [
        "### Decorators that take arguments"
      ]
    },
    {
      "cell_type": "code",
      "metadata": {
        "id": "7PMG4JsHJR2n",
        "colab_type": "code",
        "colab": {}
      },
      "source": [
        "# Write a function that returns a decorator (with a wrapper inside) instead of a wrapper\n",
        "\n",
        "def run_n_times(n):\n",
        "  def decorator(func):\n",
        "    def wrapper(*args, **kwargs):\n",
        "      for i in range(n):\n",
        "        func(*args, **kwargs)  \n",
        "    return  wrapper\n",
        "  return decorator    "
      ],
      "execution_count": 0,
      "outputs": []
    },
    {
      "cell_type": "code",
      "metadata": {
        "id": "DIr7zk3AKwNn",
        "colab_type": "code",
        "colab": {
          "base_uri": "https://localhost:8080/",
          "height": 68
        },
        "outputId": "826a97be-ac41-4415-d567-3d2af1fcfca9"
      },
      "source": [
        "@run_n_times(3) # number in parentheses references a decorator function\n",
        "def multiply_2(a,b):\n",
        "  print(a * b * 2)\n",
        "\n",
        "  \n",
        "multiply_2(2,5)"
      ],
      "execution_count": 23,
      "outputs": [
        {
          "output_type": "stream",
          "text": [
            "20\n",
            "20\n",
            "20\n"
          ],
          "name": "stdout"
        }
      ]
    },
    {
      "cell_type": "code",
      "metadata": {
        "id": "UhouPeaYK_9j",
        "colab_type": "code",
        "colab": {
          "base_uri": "https://localhost:8080/",
          "height": 102
        },
        "outputId": "e4415edc-cdd4-4020-e1f0-9fe0318fc96e"
      },
      "source": [
        "run_five_times = run_n_times(5)\n",
        "\n",
        "@run_five_times\n",
        "def print_sum(a, b):\n",
        "  print(a + b)\n",
        "  \n",
        "print_sum(4, 100)"
      ],
      "execution_count": 24,
      "outputs": [
        {
          "output_type": "stream",
          "text": [
            "104\n",
            "104\n",
            "104\n",
            "104\n",
            "104\n"
          ],
          "name": "stdout"
        }
      ]
    },
    {
      "cell_type": "code",
      "metadata": {
        "id": "ctcnjsQJNE-D",
        "colab_type": "code",
        "colab": {
          "base_uri": "https://localhost:8080/",
          "height": 357
        },
        "outputId": "346781fc-a4a2-4e4a-9c99-d7269f9fdce7"
      },
      "source": [
        "\n",
        "print = run_n_times(20)(print)\n",
        "\n",
        "print('What is happening?!?!')"
      ],
      "execution_count": 25,
      "outputs": [
        {
          "output_type": "stream",
          "text": [
            "What is happening?!?!\n",
            "What is happening?!?!\n",
            "What is happening?!?!\n",
            "What is happening?!?!\n",
            "What is happening?!?!\n",
            "What is happening?!?!\n",
            "What is happening?!?!\n",
            "What is happening?!?!\n",
            "What is happening?!?!\n",
            "What is happening?!?!\n",
            "What is happening?!?!\n",
            "What is happening?!?!\n",
            "What is happening?!?!\n",
            "What is happening?!?!\n",
            "What is happening?!?!\n",
            "What is happening?!?!\n",
            "What is happening?!?!\n",
            "What is happening?!?!\n",
            "What is happening?!?!\n",
            "What is happening?!?!\n"
          ],
          "name": "stdout"
        }
      ]
    },
    {
      "cell_type": "markdown",
      "metadata": {
        "id": "4WatZoREOrpZ",
        "colab_type": "text"
      },
      "source": [
        "### Timeout: real world example"
      ]
    },
    {
      "cell_type": "code",
      "metadata": {
        "id": "kpEEDwRmNGho",
        "colab_type": "code",
        "colab": {}
      },
      "source": [
        "# Version that results in error\n",
        "import signal\n",
        "from functools import wraps\n",
        "import time\n",
        "def timeout_in_5s(func):\n",
        "  @wraps(func)\n",
        "  def wrapper(*args, **kwargs):\n",
        "    signal.alarm(5)\n",
        "    try:\n",
        "      return func(*args,**kwargs)\n",
        "    finally:\n",
        "      signal.alarm(0)\n",
        "  return wrapper\n"
      ],
      "execution_count": 0,
      "outputs": []
    },
    {
      "cell_type": "code",
      "metadata": {
        "id": "ZU7a29TnTuZi",
        "colab_type": "code",
        "colab": {}
      },
      "source": [
        "# Session crashes but it's supposed to be a timeout error\n",
        "@timeout_in_5s\n",
        "def foo():\n",
        "  time.sleep(6)\n",
        "  print('foo!')\n",
        "foo()  "
      ],
      "execution_count": 0,
      "outputs": []
    },
    {
      "cell_type": "code",
      "metadata": {
        "id": "t5twEd-oT7Hf",
        "colab_type": "code",
        "colab": {}
      },
      "source": [
        "import signal\n",
        "from functools import wraps\n",
        "import time\n",
        "def timeout_in_5s(n_seconds):\n",
        "  def decorator(func):\n",
        "    @wraps(func)\n",
        "    def wrapper(*args, **kwargs):\n",
        "      signal.alarm(n_seconds)\n",
        "      try:\n",
        "        return func(*args,**kwargs)\n",
        "      finally:\n",
        "        signal.alarm(0)\n",
        "    return wrapper\n",
        "  return decorator  "
      ],
      "execution_count": 0,
      "outputs": []
    },
    {
      "cell_type": "code",
      "metadata": {
        "id": "HVD2ZBXAUyip",
        "colab_type": "code",
        "colab": {
          "base_uri": "https://localhost:8080/",
          "height": 34
        },
        "outputId": "367b6e81-e54e-4f83-a71c-98a0bec0af58"
      },
      "source": [
        "@timeout_in_5s(20)\n",
        "def foo():\n",
        "  time.sleep(10)\n",
        "  print('foo!')\n",
        "foo() "
      ],
      "execution_count": 4,
      "outputs": [
        {
          "output_type": "stream",
          "text": [
            "foo!\n"
          ],
          "name": "stdout"
        }
      ]
    },
    {
      "cell_type": "code",
      "metadata": {
        "id": "vMIEC0YJVh5q",
        "colab_type": "code",
        "colab": {}
      },
      "source": [
        "def tag(*tags):\n",
        "  # Define a new decorator, named \"decorator\", to return\n",
        "  def decorator(func):\n",
        "    # Ensure the decorated function keeps its metadata\n",
        "    @wraps(func)\n",
        "    def wrapper(*args, **kwargs):\n",
        "      # Call the function being decorated and return the result\n",
        "      return func(*args, **kwargs)\n",
        "    wrapper.tags = tags\n",
        "    return wrapper\n",
        "  # Return the new decorator\n",
        "  return decorator\n",
        "\n",
        "@tag('test', 'this is a tag')\n",
        "def foo():\n",
        "  pass\n",
        "\n",
        "print(foo.tags)"
      ],
      "execution_count": 0,
      "outputs": []
    },
    {
      "cell_type": "code",
      "metadata": {
        "id": "CeZm8iu3XUIx",
        "colab_type": "code",
        "colab": {}
      },
      "source": [
        "def returns_dict(func):\n",
        "  # Complete the returns_dict() decorator\n",
        "  def wrapper(*args,**kwargs):\n",
        "    result = func(*args,**kwargs)\n",
        "    assert(type(result) == dict)\n",
        "    return result\n",
        "  return wrapper\n",
        "  \n",
        "@returns_dict\n",
        "def foo(value):\n",
        "  return value\n",
        "\n",
        "try:\n",
        "  print(foo([1,2,3]))\n",
        "except AssertionError:\n",
        "  print('foo() did not return a dict!')\n",
        "  "
      ],
      "execution_count": 0,
      "outputs": []
    },
    {
      "cell_type": "code",
      "metadata": {
        "id": "AfJ6ONLzXnJF",
        "colab_type": "code",
        "colab": {}
      },
      "source": [
        "def returns(return_type):\n",
        "  # Complete the returns() decorator\n",
        "  def decorator(func):\n",
        "    def wrapper(*args,**kwargs):\n",
        "      result = func(*args,**kwargs)\n",
        "      assert(type(result) == return_type)\n",
        "      return result\n",
        "    return wrapper\n",
        "  return decorator\n",
        "  \n",
        "@returns(dict)\n",
        "def foo(value):\n",
        "  return value\n",
        "\n",
        "try:\n",
        "  print(foo([1,2,3]))\n",
        "except AssertionError:\n",
        "  print('foo() did not return a dict!')"
      ],
      "execution_count": 0,
      "outputs": []
    }
  ]
}