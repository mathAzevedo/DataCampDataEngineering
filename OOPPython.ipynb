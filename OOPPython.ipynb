{
  "nbformat": 4,
  "nbformat_minor": 0,
  "metadata": {
    "colab": {
      "name": "OOPPython.ipynb",
      "provenance": [],
      "authorship_tag": "ABX9TyO7phGOxfa2tV5/dGqAUcog",
      "include_colab_link": true
    },
    "kernelspec": {
      "name": "python3",
      "display_name": "Python 3"
    }
  },
  "cells": [
    {
      "cell_type": "markdown",
      "metadata": {
        "id": "view-in-github",
        "colab_type": "text"
      },
      "source": [
        "<a href=\"https://colab.research.google.com/github/mossytreesandferns/DataCampDataEngineering/blob/master/OOPPython.ipynb\" target=\"_parent\"><img src=\"https://colab.research.google.com/assets/colab-badge.svg\" alt=\"Open In Colab\"/></a>"
      ]
    },
    {
      "cell_type": "code",
      "metadata": {
        "id": "vvNuZdABr4jV",
        "colab_type": "code",
        "colab": {
          "base_uri": "https://localhost:8080/",
          "height": 122
        },
        "outputId": "8985a6c5-85c3-4956-e8e8-c45bdadf90ee"
      },
      "source": [
        "#Mount my drive- run the code, go to the link, accept.\n",
        "from google.colab import drive\n",
        "drive.mount('/content/gdrive')"
      ],
      "execution_count": 1,
      "outputs": [
        {
          "output_type": "stream",
          "text": [
            "Go to this URL in a browser: https://accounts.google.com/o/oauth2/auth?client_id=947318989803-6bn6qk8qdgf4n4g3pfee6491hc0brc4i.apps.googleusercontent.com&redirect_uri=urn%3aietf%3awg%3aoauth%3a2.0%3aoob&response_type=code&scope=email%20https%3a%2f%2fwww.googleapis.com%2fauth%2fdocs.test%20https%3a%2f%2fwww.googleapis.com%2fauth%2fdrive%20https%3a%2f%2fwww.googleapis.com%2fauth%2fdrive.photos.readonly%20https%3a%2f%2fwww.googleapis.com%2fauth%2fpeopleapi.readonly\n",
            "\n",
            "Enter your authorization code:\n",
            "··········\n",
            "Mounted at /content/gdrive\n"
          ],
          "name": "stdout"
        }
      ]
    },
    {
      "cell_type": "code",
      "metadata": {
        "id": "_ua0pLLur7Py",
        "colab_type": "code",
        "colab": {
          "base_uri": "https://localhost:8080/",
          "height": 34
        },
        "outputId": "227366dc-87aa-401e-c283-14efa5dc812f"
      },
      "source": [
        "#Change working directory to make it easier to access the files\n",
        "import os\n",
        "os.chdir(\"/content/gdrive/My Drive/DCCleaningData/\")\n",
        "os.getcwd()"
      ],
      "execution_count": 2,
      "outputs": [
        {
          "output_type": "execute_result",
          "data": {
            "text/plain": [
              "'/content/gdrive/My Drive/DCCleaningData'"
            ]
          },
          "metadata": {
            "tags": []
          },
          "execution_count": 2
        }
      ]
    },
    {
      "cell_type": "markdown",
      "metadata": {
        "id": "3LqZ4-ZAr73Z",
        "colab_type": "text"
      },
      "source": [
        "(Working with Classes in Python)\n",
        "# Getting Ready for OOP"
      ]
    },
    {
      "cell_type": "markdown",
      "metadata": {
        "id": "lHWiOGk_r78E",
        "colab_type": "text"
      },
      "source": [
        "### Intro to OOP in Python\n",
        "<br>\n",
        "imperitave programming -  instructions for how to do something, like cook something <br>\n",
        "obect oriented programming - the cookbook and recipes <br>"
      ]
    },
    {
      "cell_type": "markdown",
      "metadata": {
        "id": "1Cg2ufIgu718",
        "colab_type": "text"
      },
      "source": [
        "### Intro to Numpy Internals"
      ]
    },
    {
      "cell_type": "markdown",
      "metadata": {
        "id": "K0FXGQlKwlp-",
        "colab_type": "text"
      },
      "source": [
        "### Intro to Objects\n",
        "<br>\n",
        "Imperative-->OOP\n",
        "variable--->attribute, field\n",
        "function---> method"
      ]
    },
    {
      "cell_type": "markdown",
      "metadata": {
        "id": "lX-PQEr5xoH7",
        "colab_type": "text"
      },
      "source": [
        "# Deep Dive into Classes and Objects\n",
        "algorithms, memory, then data structures"
      ]
    },
    {
      "cell_type": "markdown",
      "metadata": {
        "id": "eqwTAWyPxoQM",
        "colab_type": "text"
      },
      "source": [
        "### Intro to classes\n",
        "Constructors, attributes, and methods"
      ]
    },
    {
      "cell_type": "markdown",
      "metadata": {
        "id": "Mnvt6hB76FU0",
        "colab_type": "text"
      },
      "source": [
        "### Initializing a Class\n",
        "<br>\n",
        "__init__ method is the constructor (the pot)<br>\n",
        "passing variables into __init__ method then class name when instantiating class <br>"
      ]
    },
    {
      "cell_type": "code",
      "metadata": {
        "id": "OM5BQPVFr8Mw",
        "colab_type": "code",
        "colab": {
          "base_uri": "https://localhost:8080/",
          "height": 34
        },
        "outputId": "394440ba-fa20-40f2-b95e-6acba103b7e2"
      },
      "source": [
        "# passing variables into __init__ method then class name when instantiating class\n",
        "# Create class: DataShell\n",
        "class DataShell:\n",
        "  \n",
        "\t# Initialize class with self and integerInput arguments\n",
        "    def __init__(self, integerInput):\n",
        "      \n",
        "\t\t# Set data as instance variable, and assign the value of integerInput\n",
        "        self.data = integerInput\n",
        "\n",
        "# Declare variable x with value of 10\n",
        "x = 10      \n",
        "\n",
        "# Instantiate DataShell passing x as argument: my_data_shell\n",
        "my_data_shell = DataShell(x)\n",
        "\n",
        "# Print my_data_shell\n",
        "print(my_data_shell.data)"
      ],
      "execution_count": 3,
      "outputs": [
        {
          "output_type": "stream",
          "text": [
            "10\n"
          ],
          "name": "stdout"
        }
      ]
    },
    {
      "cell_type": "code",
      "metadata": {
        "id": "v3CpZDHn9X0e",
        "colab_type": "code",
        "colab": {
          "base_uri": "https://localhost:8080/",
          "height": 51
        },
        "outputId": "c9c33625-27f1-41c1-9ce3-d092ade2f47f"
      },
      "source": [
        "# Create class: DataShell\n",
        "class DataShell:\n",
        "  \n",
        "\t# Initialize class with self, identifier and data arguments\n",
        "    def __init__(self, identifier, data):\n",
        "      \n",
        "\t\t# Set identifier and data as instance variables, assigning value of input arguments\n",
        "        self.identifier = identifier\n",
        "        self.data = data\n",
        "\n",
        "# Declare variable x with value of 100, and y with list of integers from 1 to 5\n",
        "x = 100\n",
        "y = [1, 2, 3, 4, 5]\n",
        "\n",
        "# Instantiate DataShell passing x and y as arguments: my_data_shell\n",
        "my_data_shell = DataShell(x, y)\n",
        "\n",
        "# Print my_data_shell.identifier\n",
        "print(my_data_shell.identifier)\n",
        "\n",
        "# Print my_data_shell.data\n",
        "print(my_data_shell.data)"
      ],
      "execution_count": 4,
      "outputs": [
        {
          "output_type": "stream",
          "text": [
            "100\n",
            "[1, 2, 3, 4, 5]\n"
          ],
          "name": "stdout"
        }
      ]
    },
    {
      "cell_type": "markdown",
      "metadata": {
        "id": "d2gkYGb4-hOd",
        "colab_type": "text"
      },
      "source": [
        "### More on Self and Passing Variables\n",
        "<br>\n",
        "static variables - vairables that don't change, global to the __init__method <br>\n",
        "instance variables - changeable variables, parameters passed into __init__method <br>"
      ]
    },
    {
      "cell_type": "code",
      "metadata": {
        "id": "t4_1upHY-jr2",
        "colab_type": "code",
        "colab": {
          "base_uri": "https://localhost:8080/",
          "height": 34
        },
        "outputId": "d3e0b757-3fab-4cd2-b18f-82b051371494"
      },
      "source": [
        "# Create class: DataShell\n",
        "class DataShell:\n",
        "  \n",
        "    # Declare a class variable family, and assign value of \"DataShell\"\n",
        "    family = 'DataShell' #static variable\n",
        "    \n",
        "    # Initialize class with self, identifier arguments\n",
        "    def __init__(self, identifier):\n",
        "      \n",
        "        # Set identifier as instance variable of input argument\n",
        "        self.identifier = identifier #instance variable\n",
        "\n",
        "# Declare variable x with value of 100\n",
        "x = 100\n",
        "\n",
        "# Instantiate DataShell passing x as argument: my_data_shell\n",
        "my_data_shell = DataShell(x)\n",
        "\n",
        "# Print my_data_shell class variable family\n",
        "print(my_data_shell.family)"
      ],
      "execution_count": 5,
      "outputs": [
        {
          "output_type": "stream",
          "text": [
            "DataShell\n"
          ],
          "name": "stdout"
        }
      ]
    },
    {
      "cell_type": "code",
      "metadata": {
        "id": "jl94tmuNA2Bq",
        "colab_type": "code",
        "colab": {
          "base_uri": "https://localhost:8080/",
          "height": 34
        },
        "outputId": "ba722732-cb15-40e8-da48-24d559657256"
      },
      "source": [
        "# Override the my_data_shell.family value with \"NotDataShell\"\n",
        "my_data_shell.family = 'NotDataShell' # re-assigning static variable\n",
        "\n",
        "# Print my_data_shell class variable family once again\n",
        "print(my_data_shell.family)"
      ],
      "execution_count": 6,
      "outputs": [
        {
          "output_type": "stream",
          "text": [
            "NotDataShell\n"
          ],
          "name": "stdout"
        }
      ]
    },
    {
      "cell_type": "markdown",
      "metadata": {
        "id": "YV6Sm3sTBfrZ",
        "colab_type": "text"
      },
      "source": [
        "### Methods in Classes"
      ]
    },
    {
      "cell_type": "code",
      "metadata": {
        "id": "BgODXvH9BhOR",
        "colab_type": "code",
        "colab": {
          "base_uri": "https://localhost:8080/",
          "height": 34
        },
        "outputId": "e7f7d683-2b6a-4db5-be08-aab117dfe7d3"
      },
      "source": [
        "# Create class: DataShell\n",
        "class DataShell:\n",
        "  \n",
        "\t# Initialize class with self argument\n",
        "    def __init__(self):\n",
        "        pass\n",
        "      \n",
        "\t# Define class method which takes self argument: print_static\n",
        "    def print_static(self):\n",
        "        # Print string\n",
        "        print(\"You just executed a class method!\")\n",
        "        \n",
        "# Instantiate DataShell taking no arguments: my_data_shell\n",
        "my_data_shell = DataShell()\n",
        "\n",
        "# Call the print_static method of your newly created object\n",
        "my_data_shell.print_static()"
      ],
      "execution_count": 7,
      "outputs": [
        {
          "output_type": "stream",
          "text": [
            "You just executed a class method!\n"
          ],
          "name": "stdout"
        }
      ]
    },
    {
      "cell_type": "code",
      "metadata": {
        "id": "ZQ14QVrCCy6l",
        "colab_type": "code",
        "colab": {
          "base_uri": "https://localhost:8080/",
          "height": 34
        },
        "outputId": "055ffcbc-f939-4963-81a9-48c6a76be310"
      },
      "source": [
        "# Create class: DataShell\n",
        "class DataShell:\n",
        "  \n",
        "\t# Initialize class with self and dataList as arguments\n",
        "    def __init__(self, dataList):\n",
        "      \t# Set data as instance variable, and assign it the value of dataList\n",
        "        self.data = dataList # What is passed into init is on the right side of =\n",
        "        \n",
        "\t# Define class method which takes self argument: show\n",
        "    def show(self):\n",
        "        # Print the instance variable data\n",
        "        print(self.data)\n",
        "\n",
        "# Declare variable with list of integers from 1 to 10: integer_list   \n",
        "integer_list = [1, 2, 3, 4, 5, 6, 7, 8, 9, 10]\n",
        "        \n",
        "# Instantiate DataShell taking integer_list as argument: my_data_shell\n",
        "my_data_shell = DataShell(integer_list)\n",
        "\n",
        "# Call the show method of your newly created object\n",
        "my_data_shell.show()"
      ],
      "execution_count": 8,
      "outputs": [
        {
          "output_type": "stream",
          "text": [
            "[1, 2, 3, 4, 5, 6, 7, 8, 9, 10]\n"
          ],
          "name": "stdout"
        }
      ]
    },
    {
      "cell_type": "code",
      "metadata": {
        "id": "hziX0feGEsWC",
        "colab_type": "code",
        "colab": {
          "base_uri": "https://localhost:8080/",
          "height": 51
        },
        "outputId": "d2eaccef-b834-4b05-9c14-35d8504617bf"
      },
      "source": [
        "# Create class: DataShell\n",
        "class DataShell:\n",
        "  \n",
        "\t# Initialize class with self and dataList as arguments\n",
        "    def __init__(self, dataList):\n",
        "      \t# Set data as instance variable, and assign it the value of dataList\n",
        "        self.data = dataList\n",
        "        \n",
        "\t# Define method that prints data: show\n",
        "    def show(self):\n",
        "        print(self.data)\n",
        "        \n",
        "    # Define method that prints average of data: avg \n",
        "    def avg(self):\n",
        "        # Declare avg and assign it the average of data\n",
        "        avg = sum(self.data)/float(len(self.data))\n",
        "        # Print avg\n",
        "        print(avg)\n",
        "\n",
        "integer_list = [1, 2, 3, 4, 5, 6, 7, 8, 9, 10]\n",
        "                \n",
        "# Instantiate DataShell taking integer_list as argument: my_data_shell\n",
        "my_data_shell = DataShell(integer_list)\n",
        "\n",
        "# Call the show and avg methods of your newly created object\n",
        "my_data_shell.show()\n",
        "my_data_shell.avg()"
      ],
      "execution_count": 9,
      "outputs": [
        {
          "output_type": "stream",
          "text": [
            "[1, 2, 3, 4, 5, 6, 7, 8, 9, 10]\n",
            "5.5\n"
          ],
          "name": "stdout"
        }
      ]
    },
    {
      "cell_type": "markdown",
      "metadata": {
        "id": "TO7upi6nE4X1",
        "colab_type": "text"
      },
      "source": [
        "# Fancy Classes Fancy Objects"
      ]
    },
    {
      "cell_type": "markdown",
      "metadata": {
        "id": "i86VK9aWEz22",
        "colab_type": "text"
      },
      "source": [
        "### Working with a Dataset to create DataFrames"
      ]
    },
    {
      "cell_type": "code",
      "metadata": {
        "id": "PIVQBMfQE9dn",
        "colab_type": "code",
        "colab": {
          "base_uri": "https://localhost:8080/",
          "height": 34
        },
        "outputId": "02534dd0-e71c-4693-a291-6de7b5a7de78"
      },
      "source": [
        "car_data = DataShell('mtcars.csv')\n",
        "print(car_data)"
      ],
      "execution_count": 11,
      "outputs": [
        {
          "output_type": "stream",
          "text": [
            "<__main__.DataShell object at 0x7fccfd9730f0>\n"
          ],
          "name": "stdout"
        }
      ]
    },
    {
      "cell_type": "code",
      "metadata": {
        "id": "9sq34nnEOu2m",
        "colab_type": "code",
        "colab": {}
      },
      "source": [
        "# Create class: DataShell\n",
        "class DataShell:\n",
        "  \n",
        "\t# Initialize class with self and dataList as arguments\n",
        "    def __init__(self, dataList):\n",
        "      \t# Set data as instance variable, and assign it the value of dataList\n",
        "        self.data = dataList\n",
        "        \n",
        "\t# Define method that returns data: show\n",
        "    def show(self):\n",
        "        return self.data\n",
        "        \n",
        "    # Define method that prints average of data: avg \n",
        "    def avg(self):\n",
        "        # Declare avg and assign it the average of data\n",
        "        avg = sum(self.data)/float(len(self.data))\n",
        "        # Return avg\n",
        "        return avg\n",
        "        \n",
        "# Instantiate DataShell taking integer_list as argument: my_data_shell\n",
        "my_data_shell = DataShell(integer_list)\n",
        "\n",
        "# Print output of your object's show method\n",
        "print(my_data_shell.show())\n",
        "\n",
        "# Print output of your object's avg method\n",
        "print(my_data_shell.avg())"
      ],
      "execution_count": 0,
      "outputs": []
    },
    {
      "cell_type": "code",
      "metadata": {
        "id": "EFPKPRIjRvEN",
        "colab_type": "code",
        "colab": {
          "base_uri": "https://localhost:8080/",
          "height": 255
        },
        "outputId": "ba0fe3f8-5d1f-4c56-e6db-f6091eb2f2cf"
      },
      "source": [
        "# Load numpy as np and pandas as pd\n",
        "import numpy as np\n",
        "import pandas as pd\n",
        "\n",
        "# Create class: DataShell\n",
        "class DataShell:\n",
        "  \n",
        "    # Initialize class with self and inputFile\n",
        "    def __init__(self, inputFile):\n",
        "        self.file = inputFile\n",
        "        \n",
        "    # Define generate_csv method, with self argument\n",
        "    def generate_csv(self):\n",
        "        self.data_as_csv = pd.read_csv(self.file)\n",
        "        return self.data_as_csv\n",
        "\n",
        "# Instantiate DataShell with us_life_expectancy as input argument\n",
        "data_shell = DataShell('us_life_expectancy.csv')\n",
        "\n",
        "# Call data_shell's generate_csv method, assign it to df\n",
        "df = data_shell.generate_csv()\n",
        "\n",
        "# Print df\n",
        "print(df)"
      ],
      "execution_count": 12,
      "outputs": [
        {
          "output_type": "stream",
          "text": [
            "           country code  year  life_expectancy\n",
            "0    United States  USA  1880        39.410000\n",
            "1    United States  USA  1890        45.209999\n",
            "2    United States  USA  1901        49.299999\n",
            "3    United States  USA  1902        50.500000\n",
            "4    United States  USA  1903        50.599998\n",
            "..             ...  ...   ...              ...\n",
            "112  United States  USA  2011        78.681999\n",
            "113  United States  USA  2012        78.820999\n",
            "114  United States  USA  2013        78.959999\n",
            "115  United States  USA  2014        79.099998\n",
            "116  United States  USA  2015        79.244003\n",
            "\n",
            "[117 rows x 4 columns]\n"
          ],
          "name": "stdout"
        }
      ]
    },
    {
      "cell_type": "markdown",
      "metadata": {
        "id": "4D-3a9q5R-Ce",
        "colab_type": "text"
      },
      "source": [
        "### Renaming Columns and the Five Figure summary"
      ]
    },
    {
      "cell_type": "code",
      "metadata": {
        "id": "QPSYda1cRzPb",
        "colab_type": "code",
        "colab": {
          "base_uri": "https://localhost:8080/",
          "height": 255
        },
        "outputId": "3795244a-4a18-485b-af6c-2aaab537207b"
      },
      "source": [
        "# Import numpy as np, pandas as pd\n",
        "import numpy as np\n",
        "import pandas as pd\n",
        "\n",
        "# Create class: DataShell\n",
        "class DataShell:\n",
        "  \n",
        "    # Define initialization method\n",
        "    def __init__(self, filepath):\n",
        "        # Set filepath as instance variable  \n",
        "        self.filepath = filepath\n",
        "        # Set data_as_csv as instance variable\n",
        "        self.data_as_csv = pd.read_csv(filepath)\n",
        "    def rename_column(self, column_name, new_column_name):\n",
        "        self.data_as_csv.columns = self.data_as_csv.columns.str.replace(column_name, new_column_name)  \n",
        "\n",
        "     # Define get_stats method, with argument self\n",
        "    def get_stats(self):\n",
        "        # Return a description data_as_csv\n",
        "        return self.data_as_csv.describe()      \n",
        "\n",
        "# Instantiate DataShell as us_data_shell\n",
        "us_data_shell = DataShell('us_life_expectancy.csv')\n",
        "\n",
        "# Print your object's data_as_csv attribute\n",
        "print(us_data_shell.data_as_csv)"
      ],
      "execution_count": 20,
      "outputs": [
        {
          "output_type": "stream",
          "text": [
            "           country code  year  life_expectancy\n",
            "0    United States  USA  1880        39.410000\n",
            "1    United States  USA  1890        45.209999\n",
            "2    United States  USA  1901        49.299999\n",
            "3    United States  USA  1902        50.500000\n",
            "4    United States  USA  1903        50.599998\n",
            "..             ...  ...   ...              ...\n",
            "112  United States  USA  2011        78.681999\n",
            "113  United States  USA  2012        78.820999\n",
            "114  United States  USA  2013        78.959999\n",
            "115  United States  USA  2014        79.099998\n",
            "116  United States  USA  2015        79.244003\n",
            "\n",
            "[117 rows x 4 columns]\n"
          ],
          "name": "stdout"
        }
      ]
    },
    {
      "cell_type": "code",
      "metadata": {
        "id": "SyozC_5MU3SD",
        "colab_type": "code",
        "colab": {
          "base_uri": "https://localhost:8080/",
          "height": 102
        },
        "outputId": "6a42b281-9d10-429c-b8f0-23d8a393d5ed"
      },
      "source": [
        "# Print the datatype of your object's data_as_csv attribute\n",
        "print(us_data_shell.data_as_csv.dtypes)"
      ],
      "execution_count": 17,
      "outputs": [
        {
          "output_type": "stream",
          "text": [
            "country             object\n",
            "code                object\n",
            "year                 int64\n",
            "life_expectancy    float64\n",
            "dtype: object\n"
          ],
          "name": "stdout"
        }
      ]
    },
    {
      "cell_type": "code",
      "metadata": {
        "id": "efPpSZnkWAU8",
        "colab_type": "code",
        "colab": {
          "base_uri": "https://localhost:8080/",
          "height": 102
        },
        "outputId": "9e86712c-7aaa-4d7c-8012-941dac5285e5"
      },
      "source": [
        "# Rename your objects column 'code' to 'country_code'\n",
        "us_data_shell.rename_column('code', 'country_code')\n",
        "\n",
        "# Again, print the datatype of your object's data_as_csv attribute\n",
        "print(us_data_shell.data_as_csv.dtypes)"
      ],
      "execution_count": 18,
      "outputs": [
        {
          "output_type": "stream",
          "text": [
            "country             object\n",
            "country_code        object\n",
            "year                 int64\n",
            "life_expectancy    float64\n",
            "dtype: object\n"
          ],
          "name": "stdout"
        }
      ]
    },
    {
      "cell_type": "code",
      "metadata": {
        "id": "8NaY8AfmWB6q",
        "colab_type": "code",
        "colab": {
          "base_uri": "https://localhost:8080/",
          "height": 170
        },
        "outputId": "62347ac3-1847-4614-88d7-86355e38aec7"
      },
      "source": [
        "# Print the output of your objects get_stats method\n",
        "print(us_data_shell.get_stats())\n"
      ],
      "execution_count": 21,
      "outputs": [
        {
          "output_type": "stream",
          "text": [
            "              year  life_expectancy\n",
            "count   117.000000       117.000000\n",
            "mean   1956.752137        66.556684\n",
            "std      34.398252         9.551079\n",
            "min    1880.000000        39.410000\n",
            "25%    1928.000000        58.500000\n",
            "50%    1957.000000        69.599998\n",
            "75%    1986.000000        74.772003\n",
            "max    2015.000000        79.244003\n"
          ],
          "name": "stdout"
        }
      ]
    },
    {
      "cell_type": "markdown",
      "metadata": {
        "id": "kBPhha0pXNyT",
        "colab_type": "text"
      },
      "source": [
        "### OOP Best Practices\n",
        "1. read other people's code\n",
        "2. use PEP8 style\n",
        "3. combine both of the above for best results\n",
        "4. (also use docstrings)\n",
        "5. 'Separation of concerns'"
      ]
    },
    {
      "cell_type": "markdown",
      "metadata": {
        "id": "5DUljtP8Z4Rb",
        "colab_type": "text"
      },
      "source": [
        "# Inheritance, polymorphism and composition"
      ]
    },
    {
      "cell_type": "markdown",
      "metadata": {
        "id": "t80nmPhEZ-xo",
        "colab_type": "text"
      },
      "source": [
        "### Inheritance"
      ]
    },
    {
      "cell_type": "code",
      "metadata": {
        "id": "OkJp3Q5gXEoQ",
        "colab_type": "code",
        "colab": {}
      },
      "source": [
        "# Create a class Animal\n",
        "class Animal:\n",
        "\tdef __init__(self, name):\n",
        "\t\tself.name = name\n",
        "\n",
        "# Create a class Mammal, which inherits from Animal\n",
        "class Mammal(Animal):\n",
        "\tdef __init__(self, name, animal_type):\n",
        "\t\tself.animal_type = animal_type\n",
        "\n",
        "# Create a class Reptile, which also inherits from Animal\n",
        "class Reptile(Animal):\n",
        "\tdef __init__(self, name, animal_type):\n",
        "\t\tself.animal_type = animal_type\n",
        "\n",
        "# Instantiate a mammal with name 'Daisy' and animal_type 'dog': daisy\n",
        "daisy = Mammal('Daisy', 'dog')\n",
        "\n",
        "# Instantiate a reptile with name 'Stella' and animal_type 'alligator': stella\n",
        "stella = Reptile('Stella', 'dog')"
      ],
      "execution_count": 0,
      "outputs": []
    },
    {
      "cell_type": "code",
      "metadata": {
        "id": "-fkivnrw0JcV",
        "colab_type": "code",
        "colab": {
          "base_uri": "https://localhost:8080/",
          "height": 85
        },
        "outputId": "6110e2ed-b667-49dc-9ae3-812491d60aaf"
      },
      "source": [
        "# Create a class Vertebrate\n",
        "class Vertebrate:\n",
        "    spinal_cord = True\n",
        "    def __init__(self, name):\n",
        "        self.name = name\n",
        "\n",
        "# Create a class Mammal, which inherits from Vertebrate\n",
        "class Mammal(Vertebrate):\n",
        "    def __init__(self, name, animal_type):\n",
        "        self.animal_type = animal_type\n",
        "        self.temperature_regulation = True\n",
        "\n",
        "# Create a class Reptile, which also inherits from Vertebrate\n",
        "class Reptile(Vertebrate):\n",
        "    def __init__(self, name, animal_type):\n",
        "        self.animal_type = animal_type\n",
        "        self.temperature_regulation = False\n",
        "\n",
        "# Instantiate a mammal with name 'Daisy' and animal_type 'dog': daisy\n",
        "daisy = Mammal('Daisy', 'dog')\n",
        "\n",
        "# Instantiate a reptile with name 'Stella' and animal_type 'alligator': stella\n",
        "stella = Reptile('Stella', 'alligator')\n",
        "\n",
        "# Print stella's attributes spinal_cord and temperature_regulation\n",
        "print(\"Stella Spinal cord: \" + str(stella.spinal_cord))\n",
        "print(\"Stella temperature regulation: \" + str(stella.temperature_regulation))\n",
        "\n",
        "# Print daisy's attributes spinal_cord and temperature_regulation\n",
        "print(\"Daisy Spinal cord: \" + str(daisy.spinal_cord))\n",
        "print(\"Daisy temperature regulation: \" + str(daisy.temperature_regulation))"
      ],
      "execution_count": 26,
      "outputs": [
        {
          "output_type": "stream",
          "text": [
            "Stella Spinal cord: True\n",
            "Stella temperature regulation: False\n",
            "Daisy Spinal cord: True\n",
            "Daisy temperature regulation: True\n"
          ],
          "name": "stdout"
        }
      ]
    },
    {
      "cell_type": "markdown",
      "metadata": {
        "id": "JhJRMSYILkYw",
        "colab_type": "text"
      },
      "source": [
        "### Inheritance with DataShells"
      ]
    },
    {
      "cell_type": "code",
      "metadata": {
        "id": "xhCEuDmeLnNB",
        "colab_type": "code",
        "colab": {
          "base_uri": "https://localhost:8080/",
          "height": 34
        },
        "outputId": "bb6bb314-c123-4aaa-88b8-63ebe6e341ce"
      },
      "source": [
        "# Load numpy as np and pandas as pd\n",
        "import numpy as np\n",
        "import pandas as pd\n",
        "\n",
        "# Create class: DataShell\n",
        "class DataShell:\n",
        "    def __init__(self, inputFile):\n",
        "        self.file = inputFile\n",
        "\n",
        "# Instantiate DataShell as my_data_shell\n",
        "my_data_shell = DataShell('us_life_expectancy.csv')\n",
        "\n",
        "# Print my_data_shell\n",
        "print(my_data_shell)"
      ],
      "execution_count": 29,
      "outputs": [
        {
          "output_type": "stream",
          "text": [
            "<__main__.DataShell object at 0x7fccfcffaba8>\n"
          ],
          "name": "stdout"
        }
      ]
    },
    {
      "cell_type": "code",
      "metadata": {
        "id": "67MwxyK_Qx-F",
        "colab_type": "code",
        "colab": {
          "base_uri": "https://localhost:8080/",
          "height": 255
        },
        "outputId": "b3633932-8761-468b-cec5-8fd3eb2c1284"
      },
      "source": [
        "class CsvDataShell(DataShell):\n",
        "    # Initialization method with arguments self, inputFile\n",
        "    def __init__(self, inputFile):\n",
        "        # Instance variable data\n",
        "        self.data = pd.read_csv(inputFile)\n",
        "\n",
        "# Instantiate CsvDataShell as us_data_shell, passing us_life_expectancy as argument\n",
        "us_data_shell = CsvDataShell('us_life_expectancy.csv')\n",
        "\n",
        "# Print us_data_shell.data\n",
        "print(us_data_shell.data)"
      ],
      "execution_count": 24,
      "outputs": [
        {
          "output_type": "stream",
          "text": [
            "           country code  year  life_expectancy\n",
            "0    United States  USA  1880        39.410000\n",
            "1    United States  USA  1890        45.209999\n",
            "2    United States  USA  1901        49.299999\n",
            "3    United States  USA  1902        50.500000\n",
            "4    United States  USA  1903        50.599998\n",
            "..             ...  ...   ...              ...\n",
            "112  United States  USA  2011        78.681999\n",
            "113  United States  USA  2012        78.820999\n",
            "114  United States  USA  2013        78.959999\n",
            "115  United States  USA  2014        79.099998\n",
            "116  United States  USA  2015        79.244003\n",
            "\n",
            "[117 rows x 4 columns]\n"
          ],
          "name": "stdout"
        }
      ]
    },
    {
      "cell_type": "markdown",
      "metadata": {
        "id": "Ldb2TZM6RCZw",
        "colab_type": "text"
      },
      "source": [
        "### Composition\n",
        "<br>\n",
        "Composed classes are classes made of other classes that don't inherit from parent classes.  (i.e. using other libraries and classes e.g. importing pandas for the read_csv() method for creating a dataframe)"
      ]
    },
    {
      "cell_type": "code",
      "metadata": {
        "id": "DWhWn4RmQ3ot",
        "colab_type": "code",
        "colab": {
          "base_uri": "https://localhost:8080/",
          "height": 34
        },
        "outputId": "27e78e4b-689d-4972-9c53-c124697e243d"
      },
      "source": [
        "import numpy as np\n",
        "\n",
        "class CsvDataShell:\n",
        "    # Initialization method with arguments self, inputFile\n",
        "    def __init__(self, inputFile):\n",
        "      self.file = inputFile\n",
        "        # Instance variable data\n",
        "        #self.data = pd.read_csv(inputFile)\n",
        "    def compose_df(self):    \n",
        "      data_array = np.genfromtxt(self.file, delimiter = ',', dtype=None)\n",
        "      self.data = data_array\n",
        "      #return self.data\n",
        "\n",
        "# Instantiate CsvDataShell as us_data_shell, passing us_life_expectancy as argument\n",
        "us_data_shell = CsvDataShell('us_life_expectancy.csv')\n",
        "\n",
        "# Print us_data_shell.data\n",
        "us_data_shell.compose_df  # Whys is the attribute data not fully realized?"
      ],
      "execution_count": 42,
      "outputs": [
        {
          "output_type": "execute_result",
          "data": {
            "text/plain": [
              "<bound method CsvDataShell.compose_df of <__main__.CsvDataShell object at 0x7fccfcdd7ac8>>"
            ]
          },
          "metadata": {
            "tags": []
          },
          "execution_count": 42
        }
      ]
    },
    {
      "cell_type": "code",
      "metadata": {
        "id": "UH7zIW4mTEfF",
        "colab_type": "code",
        "colab": {}
      },
      "source": [
        "# Define abstract class DataShell\n",
        "class DataShell:\n",
        "    # Class variable family\n",
        "    family = 'DataShell'\n",
        "    # Initialization method with arguments, and instance variables\n",
        "    def __init__(self, name, filepath): \n",
        "        self.name = name\n",
        "        self.filepath = filepath\n",
        "\n",
        "# Define class CsvDataShell      \n",
        "class CsvDataShell(DataShell):\n",
        "    # Initialization method with arguments self, name, filepath\n",
        "    def __init__(self, name, filepath):\n",
        "        # Instance variable data\n",
        "        self.data = pd.read_csv(filepath)\n",
        "        # Instance variable stats\n",
        "        self.stats = self.data.describe()\n",
        "\n",
        "# Instantiate CsvDataShell as us_data_shell\n",
        "us_data_shell = CsvDataShell(\"US\", us_life_expectancy)\n",
        "\n",
        "# Print us_data_shell.stats\n",
        "print(us_data_shell.stats)"
      ],
      "execution_count": 0,
      "outputs": []
    },
    {
      "cell_type": "code",
      "metadata": {
        "id": "NZeNcbwkYihS",
        "colab_type": "code",
        "colab": {}
      },
      "source": [
        "\n",
        "# Define abstract class DataShell\n",
        "class DataShell:\n",
        "    family = 'DataShell'\n",
        "    def __init__(self, name, filepath): \n",
        "        self.name = name\n",
        "        self.filepath = filepath\n",
        "\n",
        "# Define class CsvDataShell\n",
        "class CsvDataShell(DataShell):\n",
        "    def __init__(self, name, filepath):\n",
        "        self.data = pd.read_csv(filepath)\n",
        "        self.stats = self.data.describe()\n",
        "\n",
        "# Define class TsvDataShell\n",
        "class TsvDataShell(DataShell):\n",
        "    # Initialization method with arguments self, name, filepath\n",
        "    def __init__(self, name, filepath):\n",
        "        # Instance variable data\n",
        "        self.data = pd.read_table(filepath)\n",
        "        # Instance variable stats\n",
        "        self.stats = self.data.describe()\n",
        "\n",
        "# Instantiate CsvDataShell as us_data_shell, print us_data_shell.stats\n",
        "us_data_shell = CsvDataShell(\"US\", us_life_expectancy)\n",
        "print(us_data_shell.stats)\n",
        "\n",
        "# Instantiate TsvDataShell as france_data_shell, print france_data_shell.stats\n",
        "france_data_shell = TsvDataShell('France', france_life_expectancy)\n",
        "print(france_data_shell.stats)"
      ],
      "execution_count": 0,
      "outputs": []
    },
    {
      "cell_type": "markdown",
      "metadata": {
        "id": "3w-uFpz0ZO68",
        "colab_type": "text"
      },
      "source": [
        "1. red codebases: Pandas, Numpy, Python requests, Spark"
      ]
    }
  ]
}