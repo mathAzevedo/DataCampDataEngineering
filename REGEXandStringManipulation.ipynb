{
  "nbformat": 4,
  "nbformat_minor": 0,
  "metadata": {
    "colab": {
      "name": "REGEXandStringManipulation.ipynb",
      "provenance": [],
      "collapsed_sections": [],
      "authorship_tag": "ABX9TyNLi+AYQLaVzU8kVJdbDPrg",
      "include_colab_link": true
    },
    "kernelspec": {
      "name": "python3",
      "display_name": "Python 3"
    }
  },
  "cells": [
    {
      "cell_type": "markdown",
      "metadata": {
        "id": "view-in-github",
        "colab_type": "text"
      },
      "source": [
        "<a href=\"https://colab.research.google.com/github/mossytreesandferns/DataCampDataEngineering/blob/master/REGEXandStringManipulation.ipynb\" target=\"_parent\"><img src=\"https://colab.research.google.com/assets/colab-badge.svg\" alt=\"Open In Colab\"/></a>"
      ]
    },
    {
      "cell_type": "code",
      "metadata": {
        "id": "BFq5zF8y7oW7",
        "colab_type": "code",
        "outputId": "fe93843f-b1b8-4357-d7fc-fcfd91608711",
        "colab": {
          "base_uri": "https://localhost:8080/",
          "height": 122
        }
      },
      "source": [
        "#Mount my drive- run the code, go to the link, accept.\n",
        "from google.colab import drive\n",
        "drive.mount('/content/gdrive')"
      ],
      "execution_count": 1,
      "outputs": [
        {
          "output_type": "stream",
          "text": [
            "Go to this URL in a browser: https://accounts.google.com/o/oauth2/auth?client_id=947318989803-6bn6qk8qdgf4n4g3pfee6491hc0brc4i.apps.googleusercontent.com&redirect_uri=urn%3aietf%3awg%3aoauth%3a2.0%3aoob&response_type=code&scope=email%20https%3a%2f%2fwww.googleapis.com%2fauth%2fdocs.test%20https%3a%2f%2fwww.googleapis.com%2fauth%2fdrive%20https%3a%2f%2fwww.googleapis.com%2fauth%2fdrive.photos.readonly%20https%3a%2f%2fwww.googleapis.com%2fauth%2fpeopleapi.readonly\n",
            "\n",
            "Enter your authorization code:\n",
            "··········\n",
            "Mounted at /content/gdrive\n"
          ],
          "name": "stdout"
        }
      ]
    },
    {
      "cell_type": "code",
      "metadata": {
        "id": "AmlBVBQG7zGM",
        "colab_type": "code",
        "outputId": "0ec5c287-7576-49e9-e4cf-8f7343b0c59e",
        "colab": {
          "base_uri": "https://localhost:8080/",
          "height": 34
        }
      },
      "source": [
        "#Change working directory to make it easier to access the files\n",
        "import os\n",
        "os.chdir(\"/content/gdrive/My Drive/DCCleaningData/\")\n",
        "os.getcwd()"
      ],
      "execution_count": 2,
      "outputs": [
        {
          "output_type": "execute_result",
          "data": {
            "text/plain": [
              "'/content/gdrive/My Drive/DCCleaningData'"
            ]
          },
          "metadata": {
            "tags": []
          },
          "execution_count": 2
        }
      ]
    },
    {
      "cell_type": "markdown",
      "metadata": {
        "id": "4P47I0ST71rp",
        "colab_type": "text"
      },
      "source": [
        "# Basic Concepts of String Manipulation"
      ]
    },
    {
      "cell_type": "markdown",
      "metadata": {
        "id": "l1N4IaFs72dd",
        "colab_type": "text"
      },
      "source": [
        "### Intro String Manipulation"
      ]
    },
    {
      "cell_type": "code",
      "metadata": {
        "id": "q2GjGobn73zc",
        "colab_type": "code",
        "outputId": "084e47dc-8c3c-47c6-9492-306a704d8b16",
        "colab": {
          "base_uri": "https://localhost:8080/",
          "height": 34
        }
      },
      "source": [
        "s = 'This is a string'\n",
        "print(s[::-1])"
      ],
      "execution_count": 0,
      "outputs": [
        {
          "output_type": "stream",
          "text": [
            "gnirts a si sihT\n"
          ],
          "name": "stdout"
        }
      ]
    },
    {
      "cell_type": "markdown",
      "metadata": {
        "id": "eAFC_nGsJTko",
        "colab_type": "text"
      },
      "source": [
        "### String Operations"
      ]
    },
    {
      "cell_type": "code",
      "metadata": {
        "id": "US5y_jn2GRta",
        "colab_type": "code",
        "outputId": "0ae845ab-b441-4d26-a7be-acdec6c84be5",
        "colab": {
          "base_uri": "https://localhost:8080/",
          "height": 34
        }
      },
      "source": [
        "# split versus right split\n",
        "s = 'This is a string to split nicely'\n",
        "sp = s.split(' ',maxsplit=2)\n",
        "sr = s.rsplit(' ',maxsplit=2)\n",
        "print(sp, sr)"
      ],
      "execution_count": 0,
      "outputs": [
        {
          "output_type": "stream",
          "text": [
            "['This', 'is', 'a string to split nicely'] ['This is a string to', 'split', 'nicely']\n"
          ],
          "name": "stdout"
        }
      ]
    },
    {
      "cell_type": "code",
      "metadata": {
        "id": "TCEm2My8KLrR",
        "colab_type": "code",
        "outputId": "29a37783-3b9f-4a14-cf16-ff79860ec339",
        "colab": {
          "base_uri": "https://localhost:8080/",
          "height": 51
        }
      },
      "source": [
        "# \\n creates new line in string\n",
        "s = 'This is a string \\n to split nicely'\n",
        "print(s)"
      ],
      "execution_count": 0,
      "outputs": [
        {
          "output_type": "stream",
          "text": [
            "This is a string \n",
            " to split nicely\n"
          ],
          "name": "stdout"
        }
      ]
    },
    {
      "cell_type": "code",
      "metadata": {
        "id": "c2tbL79NKn7V",
        "colab_type": "code",
        "outputId": "823b96b8-d9e6-4147-e095-ec8761643d44",
        "colab": {
          "base_uri": "https://localhost:8080/",
          "height": 34
        }
      },
      "source": [
        "# Carriage return replaces the number of characters at the beginning of a string with which are after \\r\n",
        "s = 'This is a string \\r to split nicely'\n",
        "print(s)"
      ],
      "execution_count": 0,
      "outputs": [
        {
          "output_type": "stream",
          "text": [
            "This is a string \r to split nicely\n"
          ],
          "name": "stdout"
        }
      ]
    },
    {
      "cell_type": "code",
      "metadata": {
        "id": "M8OlpO1ULYv6",
        "colab_type": "code",
        "outputId": "4e807b73-9fe2-43c9-d5dc-11eb1d122e22",
        "colab": {
          "base_uri": "https://localhost:8080/",
          "height": 34
        }
      },
      "source": [
        "# Join creates strings from iterables\n",
        "l = ['This', 'is', 'a', 'nice', 'list', 'of', 'words.']\n",
        "s = ' '.join(l)\n",
        "print(s)"
      ],
      "execution_count": 0,
      "outputs": [
        {
          "output_type": "stream",
          "text": [
            "This is a nice list of words.\n"
          ],
          "name": "stdout"
        }
      ]
    },
    {
      "cell_type": "code",
      "metadata": {
        "id": "O4YYkVArMR5e",
        "colab_type": "code",
        "outputId": "52bb2165-7ce5-4fe4-a6dd-db7f9e60e82f",
        "colab": {
          "base_uri": "https://localhost:8080/",
          "height": 68
        }
      },
      "source": [
        "# .strip() takes of leading and ending characters.  Default is to strip whitespace.\n",
        "# .rstrip() takes ending characters, .lstrip() takes leading characters.\n",
        "\n",
        "s = ' This is a nice string to strip.\\n'\n",
        "s.strip(), s.rstrip(), s.lstrip()"
      ],
      "execution_count": 0,
      "outputs": [
        {
          "output_type": "execute_result",
          "data": {
            "text/plain": [
              "('This is a nice string to strip.',\n",
              " ' This is a nice string to strip.',\n",
              " 'This is a nice string to strip.\\n')"
            ]
          },
          "metadata": {
            "tags": []
          },
          "execution_count": 13
        }
      ]
    },
    {
      "cell_type": "code",
      "metadata": {
        "id": "ffJlW3cfNQNR",
        "colab_type": "code",
        "outputId": "90d32aeb-d101-494b-931c-41d5ca55c5f1",
        "colab": {
          "base_uri": "https://localhost:8080/",
          "height": 34
        }
      },
      "source": [
        "s = \"ThiS Is a nIce sTrINg\"\n",
        "s.lower(), s.upper()"
      ],
      "execution_count": 0,
      "outputs": [
        {
          "output_type": "execute_result",
          "data": {
            "text/plain": [
              "('this is a nice string', 'THIS IS A NICE STRING')"
            ]
          },
          "metadata": {
            "tags": []
          },
          "execution_count": 15
        }
      ]
    },
    {
      "cell_type": "code",
      "metadata": {
        "id": "pdi32jOINxpg",
        "colab_type": "code",
        "colab": {}
      },
      "source": [
        "# .splitlines() splits on linebreaks == .split('\\n')"
      ],
      "execution_count": 0,
      "outputs": []
    },
    {
      "cell_type": "markdown",
      "metadata": {
        "id": "Fzrkt--BR1hw",
        "colab_type": "text"
      },
      "source": [
        "### Finding and Replacing"
      ]
    },
    {
      "cell_type": "code",
      "metadata": {
        "id": "1FS-z_nnR002",
        "colab_type": "code",
        "outputId": "f88d039c-8129-4bfc-fb38-40a32d740228",
        "colab": {
          "base_uri": "https://localhost:8080/",
          "height": 34
        }
      },
      "source": [
        "# .find() returns lowest index in string of target word\n",
        "s = \"ThiS Is a nIce sTrINg\"\n",
        "s.find('sTrINg'), s.find('Waldo')"
      ],
      "execution_count": 0,
      "outputs": [
        {
          "output_type": "execute_result",
          "data": {
            "text/plain": [
              "(15, -1)"
            ]
          },
          "metadata": {
            "tags": []
          },
          "execution_count": 16
        }
      ]
    },
    {
      "cell_type": "code",
      "metadata": {
        "id": "YqaIMEf1Sj8P",
        "colab_type": "code",
        "outputId": "0611675b-5c81-493f-d802-3ce3cbc26b5e",
        "colab": {
          "base_uri": "https://localhost:8080/",
          "height": 34
        }
      },
      "source": [
        "s.find('sTrINg', 0, 7) # Starting and ending indexes"
      ],
      "execution_count": 0,
      "outputs": [
        {
          "output_type": "execute_result",
          "data": {
            "text/plain": [
              "-1"
            ]
          },
          "metadata": {
            "tags": []
          },
          "execution_count": 17
        }
      ]
    },
    {
      "cell_type": "code",
      "metadata": {
        "id": "9FEzeqQMSzFL",
        "colab_type": "code",
        "outputId": "67c43fec-9013-442f-d455-d5dc4b99469b",
        "colab": {
          "base_uri": "https://localhost:8080/",
          "height": 34
        }
      },
      "source": [
        "# .index() is the same only if the substring is present\n",
        "s.index('sTrINg') "
      ],
      "execution_count": 0,
      "outputs": [
        {
          "output_type": "execute_result",
          "data": {
            "text/plain": [
              "15"
            ]
          },
          "metadata": {
            "tags": []
          },
          "execution_count": 20
        }
      ]
    },
    {
      "cell_type": "code",
      "metadata": {
        "id": "wz1U50xTTIDQ",
        "colab_type": "code",
        "outputId": "645d7489-124b-4643-994b-b3be1a612d37",
        "colab": {
          "base_uri": "https://localhost:8080/",
          "height": 164
        }
      },
      "source": [
        "s.index('Waldo')"
      ],
      "execution_count": 0,
      "outputs": [
        {
          "output_type": "error",
          "ename": "ValueError",
          "evalue": "ignored",
          "traceback": [
            "\u001b[0;31m---------------------------------------------------------------------------\u001b[0m",
            "\u001b[0;31mValueError\u001b[0m                                Traceback (most recent call last)",
            "\u001b[0;32m<ipython-input-21-8838f48d9598>\u001b[0m in \u001b[0;36m<module>\u001b[0;34m()\u001b[0m\n\u001b[0;32m----> 1\u001b[0;31m \u001b[0ms\u001b[0m\u001b[0;34m.\u001b[0m\u001b[0mindex\u001b[0m\u001b[0;34m(\u001b[0m\u001b[0;34m'Waldo'\u001b[0m\u001b[0;34m)\u001b[0m\u001b[0;34m\u001b[0m\u001b[0;34m\u001b[0m\u001b[0m\n\u001b[0m",
            "\u001b[0;31mValueError\u001b[0m: substring not found"
          ]
        }
      ]
    },
    {
      "cell_type": "code",
      "metadata": {
        "id": "kw5TXsSVTO9Q",
        "colab_type": "code",
        "outputId": "c987d040-6a12-4182-9212-8c6c2c0f0bf8",
        "colab": {
          "base_uri": "https://localhost:8080/",
          "height": 34
        }
      },
      "source": [
        "# .count() counts time words appear alone or as roots\n",
        "s = \"This is a string about fruity fruit strings on string toast\"\n",
        "s.count('fruit'), s.count('string')"
      ],
      "execution_count": 0,
      "outputs": [
        {
          "output_type": "execute_result",
          "data": {
            "text/plain": [
              "(2, 3)"
            ]
          },
          "metadata": {
            "tags": []
          },
          "execution_count": 22
        }
      ]
    },
    {
      "cell_type": "code",
      "metadata": {
        "id": "z4bonIdQTt9v",
        "colab_type": "code",
        "outputId": "fe07515c-2dda-4749-ae04-feaf62a7dbf4",
        "colab": {
          "base_uri": "https://localhost:8080/",
          "height": 34
        }
      },
      "source": [
        "s.count('fruit',0,16), s.count('string',0,16)"
      ],
      "execution_count": 0,
      "outputs": [
        {
          "output_type": "execute_result",
          "data": {
            "text/plain": [
              "(0, 1)"
            ]
          },
          "metadata": {
            "tags": []
          },
          "execution_count": 25
        }
      ]
    },
    {
      "cell_type": "code",
      "metadata": {
        "id": "scC5Ty0zT4N4",
        "colab_type": "code",
        "outputId": "2d6a53ec-1b02-4d81-b511-25d6d09caf21",
        "colab": {
          "base_uri": "https://localhost:8080/",
          "height": 34
        }
      },
      "source": [
        "# .replace(old, new, n= all) replaces words. Default is all.\n",
        "s.replace('fruit','fire')\n"
      ],
      "execution_count": 0,
      "outputs": [
        {
          "output_type": "execute_result",
          "data": {
            "text/plain": [
              "'This is a string about firey fire strings on string toast'"
            ]
          },
          "metadata": {
            "tags": []
          },
          "execution_count": 27
        }
      ]
    },
    {
      "cell_type": "code",
      "metadata": {
        "id": "-KeseIKfUiGS",
        "colab_type": "code",
        "outputId": "44b076ef-41c3-4656-95cc-92133d63a5a2",
        "colab": {
          "base_uri": "https://localhost:8080/",
          "height": 34
        }
      },
      "source": [
        "s.replace('string','stirrup',2)"
      ],
      "execution_count": 0,
      "outputs": [
        {
          "output_type": "execute_result",
          "data": {
            "text/plain": [
              "'This is a stirrup about fruity fruit stirrups on string toast'"
            ]
          },
          "metadata": {
            "tags": []
          },
          "execution_count": 29
        }
      ]
    },
    {
      "cell_type": "code",
      "metadata": {
        "id": "AQFd2_tDUqMd",
        "colab_type": "code",
        "colab": {}
      },
      "source": [
        "# Given Example\n",
        "for movie in movies:\n",
        "  \t# Find if actor occurrs between 37 and 41 inclusive\n",
        "    if movie.find(\"actor\", 37, 42) == -1:\n",
        "        print(\"Word not found\")\n",
        "    # Count occurrences and replace two by one\n",
        "    elif movie.count(\"actor\") == 2:  \n",
        "        print(movie.replace(\"actor actor\", \"actor\"))\n",
        "    else:\n",
        "        # Replace three occurrences by one\n",
        "        print(movie.replace(\"actor actor actor\", \"actor\"))"
      ],
      "execution_count": 0,
      "outputs": []
    },
    {
      "cell_type": "code",
      "metadata": {
        "id": "TufMDFc_ZUnv",
        "colab_type": "code",
        "colab": {}
      },
      "source": [
        "for movie in movies:\n",
        "  try:\n",
        "    # Find the first occurrence of word\n",
        "  \tprint(movie.find('money', 12, 51))\n",
        "  except ValueError:\n",
        "    print(\"substring not found\")"
      ],
      "execution_count": 0,
      "outputs": []
    },
    {
      "cell_type": "markdown",
      "metadata": {
        "id": "qAGZrz6haVIa",
        "colab_type": "text"
      },
      "source": [
        "### Positional Formatting"
      ]
    },
    {
      "cell_type": "code",
      "metadata": {
        "id": "4E1SqWpBaUcz",
        "colab_type": "code",
        "colab": {}
      },
      "source": [
        "# string formatting == string interpolation\n",
        "# methods are positional formatting, formatted string literals, templates\n",
        "\n",
        "# positional value: 'text {}'.format(value)"
      ],
      "execution_count": 0,
      "outputs": []
    },
    {
      "cell_type": "code",
      "metadata": {
        "id": "2LnRrDVzfLHK",
        "colab_type": "code",
        "outputId": "ea6cfefa-1868-4c75-cce5-66dbcbf79be7",
        "colab": {
          "base_uri": "https://localhost:8080/",
          "height": 34
        }
      },
      "source": [
        "s = 'The first value is {} and the second value is {}'\n",
        "s.format('tire','watermelon')"
      ],
      "execution_count": 0,
      "outputs": [
        {
          "output_type": "execute_result",
          "data": {
            "text/plain": [
              "'The first value is tire and the second value is watermelon'"
            ]
          },
          "metadata": {
            "tags": []
          },
          "execution_count": 31
        }
      ]
    },
    {
      "cell_type": "code",
      "metadata": {
        "id": "qBp5_7cCfW37",
        "colab_type": "code",
        "outputId": "86c30ccd-a9ef-4d65-8a89-ad8a46eed4bb",
        "colab": {
          "base_uri": "https://localhost:8080/",
          "height": 34
        }
      },
      "source": [
        "s = 'The first value is {} and the second value is {}'\n",
        "first = 'tire'\n",
        "second = 'watermelon'\n",
        "s.format(first, second)"
      ],
      "execution_count": 0,
      "outputs": [
        {
          "output_type": "execute_result",
          "data": {
            "text/plain": [
              "'The first value is tire and the second value is watermelon'"
            ]
          },
          "metadata": {
            "tags": []
          },
          "execution_count": 32
        }
      ]
    },
    {
      "cell_type": "code",
      "metadata": {
        "id": "BFNbC0OAfgDV",
        "colab_type": "code",
        "outputId": "abfc73eb-0093-4432-9ecd-9fcb58b0bd09",
        "colab": {
          "base_uri": "https://localhost:8080/",
          "height": 34
        }
      },
      "source": [
        "# Using ints to indicate order\n",
        "\n",
        "s = 'The {} sat on the {} and {}.'\n",
        "st = 'The {2} sat on the {1} and {0}'\n",
        "s.format('cat','mat','laughed'), st.format('cat','mat','laughed')\n"
      ],
      "execution_count": 0,
      "outputs": [
        {
          "output_type": "execute_result",
          "data": {
            "text/plain": [
              "('The cat sat on the mat and laughed.', 'The laughed sat on the mat and cat')"
            ]
          },
          "metadata": {
            "tags": []
          },
          "execution_count": 34
        }
      ]
    },
    {
      "cell_type": "code",
      "metadata": {
        "id": "9igskVmYgDMa",
        "colab_type": "code",
        "outputId": "e7c60055-f9a9-47bb-b9c5-280a7905f6b0",
        "colab": {
          "base_uri": "https://localhost:8080/",
          "height": 34
        }
      },
      "source": [
        "# Inserting dictionary values into a formatted string\n",
        "\n",
        "d = {'building':'house','growing space':'backyard'}\n",
        "print('The {data[building]} had a {data[growing space]} for growing food and herbs.'.format(data=d))\n"
      ],
      "execution_count": 0,
      "outputs": [
        {
          "output_type": "stream",
          "text": [
            "The house had a backyard for growing food and herbs.\n"
          ],
          "name": "stdout"
        }
      ]
    },
    {
      "cell_type": "code",
      "metadata": {
        "id": "mCd992XYh4FI",
        "colab_type": "code",
        "outputId": "734d2889-07af-46a1-bd6b-e54b43f91181",
        "colab": {
          "base_uri": "https://localhost:8080/",
          "height": 34
        }
      },
      "source": [
        "# Format specifiers for when floats (and ints?) \n",
        "\n",
        "print('There is only a {0:f}% chance that {1} will fall in the {2} today.'.format(.078333,'rain','Sahara'))"
      ],
      "execution_count": 0,
      "outputs": [
        {
          "output_type": "stream",
          "text": [
            "There is only a 0.078333% chance that rain will fall in the Sahara today.\n"
          ],
          "name": "stdout"
        }
      ]
    },
    {
      "cell_type": "code",
      "metadata": {
        "id": "Qqiiu6zwjvmk",
        "colab_type": "code",
        "outputId": "2917001f-a49a-4246-ac5a-b6e5fb36c0bd",
        "colab": {
          "base_uri": "https://localhost:8080/",
          "height": 34
        }
      },
      "source": [
        "# rounding to 2 decimals\n",
        "print('There is only a {0:.2f}% chance that {1} will fall in the {2} today.'.format(.078333,'rain','Sahara'))"
      ],
      "execution_count": 0,
      "outputs": [
        {
          "output_type": "stream",
          "text": [
            "There is only a 0.08% chance that rain will fall in the Sahara today.\n"
          ],
          "name": "stdout"
        }
      ]
    },
    {
      "cell_type": "code",
      "metadata": {
        "id": "_nUffG_7j8eq",
        "colab_type": "code",
        "outputId": "4cc75abf-ea29-41ea-e248-273c30763f09",
        "colab": {
          "base_uri": "https://localhost:8080/",
          "height": 34
        }
      },
      "source": [
        "# printing dates\n",
        "from datetime import datetime\n",
        "\n",
        "print(\"Today's date is {:%Y %m %d %H %M}.\".format(datetime.now()))"
      ],
      "execution_count": 0,
      "outputs": [
        {
          "output_type": "stream",
          "text": [
            "Today's date is 2020 05 01 18 49.\n"
          ],
          "name": "stdout"
        }
      ]
    },
    {
      "cell_type": "code",
      "metadata": {
        "id": "4ja7IbQ5kaYN",
        "colab_type": "code",
        "colab": {}
      },
      "source": [
        "# Given example\n",
        "# Assign the substrings to the variables\n",
        "first_pos = wikipedia_article[3:19].lower()\n",
        "second_pos = wikipedia_article[21:44].lower()\n",
        "\n",
        "# Define string with placeholders \n",
        "my_list.append(\"The tool {} is used in {}\")\n",
        "\n",
        "# Define string with rearranged placeholders\n",
        "my_list.append(\"The tool {1} is used in {0}\")\n",
        "\n",
        "# Use format to print strings\n",
        "for my_string in my_list:\n",
        "  \tprint(my_string.format(first_pos, second_pos))"
      ],
      "execution_count": 0,
      "outputs": []
    },
    {
      "cell_type": "code",
      "metadata": {
        "id": "MHeyNZH3ouIM",
        "colab_type": "code",
        "colab": {}
      },
      "source": [
        "# Given Example\n",
        "# Create a dictionary\n",
        "plan = {\n",
        "  \t\t\"field\": courses[0],\n",
        "        \"tool\": courses[1]\n",
        "        }\n",
        "\n",
        "# Complete the placeholders accessing elements of field and tool keys\n",
        "my_message = \"If you are interested in {data[field]}, you can take the course related to {data[tool]}\"\n",
        "\n",
        "# Use dictionary to replace placeholders\n",
        "print(my_message.format(data=plan))"
      ],
      "execution_count": 0,
      "outputs": []
    },
    {
      "cell_type": "code",
      "metadata": {
        "id": "fy0oj3a5sIht",
        "colab_type": "code",
        "colab": {}
      },
      "source": [
        "# Given example\n",
        "\n",
        "# Import datetime \n",
        "from datetime import datetime\n",
        "\n",
        "# Assign date to get_date\n",
        "get_date = datetime.now()\n",
        "\n",
        "# Add named placeholders with format specifiers\n",
        "message = \"Good morning. Today is {today:%B %d, %Y}. It's {today:%H:%M} ... time to work!\" # Note that the datetime format is named \"today\"\n",
        "\n",
        "# Format date\n",
        "print(message.format(today=get_date))"
      ],
      "execution_count": 0,
      "outputs": []
    },
    {
      "cell_type": "markdown",
      "metadata": {
        "id": "7cJCTPhb-INi",
        "colab_type": "text"
      },
      "source": [
        "### Formatted String Literal"
      ]
    },
    {
      "cell_type": "code",
      "metadata": {
        "id": "7CYbN5wA-KCf",
        "colab_type": "code",
        "outputId": "8994e78b-69bf-4bc2-df64-432108bad349",
        "colab": {
          "base_uri": "https://localhost:8080/",
          "height": 34
        }
      },
      "source": [
        "#  formatted fstrings\n",
        "#  syntax: f'literal string {expression}'\n",
        "\n",
        "a = 'cat'\n",
        "b = 'dog'\n",
        "\n",
        "print(f'No one can decide whether they want to have a {a} or a {b}.')\n"
      ],
      "execution_count": 0,
      "outputs": [
        {
          "output_type": "stream",
          "text": [
            "No one can decide whether they want to have a cat or a dog.\n"
          ],
          "name": "stdout"
        }
      ]
    },
    {
      "cell_type": "code",
      "metadata": {
        "id": "CMygye4__iLo",
        "colab_type": "code",
        "outputId": "12048e45-d754-4751-b5d4-2b442c0b735e",
        "colab": {
          "base_uri": "https://localhost:8080/",
          "height": 68
        }
      },
      "source": [
        "# !s  string\n",
        "# !r  printable representation\n",
        "# !a  same as !r but not with some ASCII characters\n",
        "\n",
        "word = 'Titanic'\n",
        "\n",
        "print(f'There is a movie called {word!s}')\n",
        "print(f'There is a movie called {word!r}')\n",
        "print(f'There is a movie called {word!a}')\n"
      ],
      "execution_count": 0,
      "outputs": [
        {
          "output_type": "stream",
          "text": [
            "There is a movie called Titanic\n",
            "There is a movie called 'Titanic'\n",
            "There is a movie called 'Titanic'\n"
          ],
          "name": "stdout"
        }
      ]
    },
    {
      "cell_type": "code",
      "metadata": {
        "id": "iz1w303x_xsV",
        "colab_type": "code",
        "outputId": "6c241954-9600-4b65-f2c2-0450dc320ff2",
        "colab": {
          "base_uri": "https://localhost:8080/",
          "height": 232
        }
      },
      "source": [
        "# e scientific notation\n",
        "# f float\n",
        "# d digit\n",
        "\n",
        "number = 12345.6789\n",
        "print(f'There are {number:.2f} ways to carve a pumpkin.')\n",
        "print(f'There are {number:e} ways to carve a pumpkin.')\n",
        "print(f'There are {number:3d} ways to carve a pumpkin.')"
      ],
      "execution_count": 0,
      "outputs": [
        {
          "output_type": "stream",
          "text": [
            "There are 12345.68 ways to carve a pumpkin.\n",
            "There are 1.234568e+04 ways to carve a pumpkin.\n"
          ],
          "name": "stdout"
        },
        {
          "output_type": "error",
          "ename": "ValueError",
          "evalue": "ignored",
          "traceback": [
            "\u001b[0;31m---------------------------------------------------------------------------\u001b[0m",
            "\u001b[0;31mValueError\u001b[0m                                Traceback (most recent call last)",
            "\u001b[0;32m<ipython-input-56-f6d372b614dc>\u001b[0m in \u001b[0;36m<module>\u001b[0;34m()\u001b[0m\n\u001b[1;32m      3\u001b[0m \u001b[0mprint\u001b[0m\u001b[0;34m(\u001b[0m\u001b[0;34mf'There are {number:.2f} ways to carve a pumpkin.'\u001b[0m\u001b[0;34m)\u001b[0m\u001b[0;34m\u001b[0m\u001b[0;34m\u001b[0m\u001b[0m\n\u001b[1;32m      4\u001b[0m \u001b[0mprint\u001b[0m\u001b[0;34m(\u001b[0m\u001b[0;34mf'There are {number:e} ways to carve a pumpkin.'\u001b[0m\u001b[0;34m)\u001b[0m\u001b[0;34m\u001b[0m\u001b[0;34m\u001b[0m\u001b[0m\n\u001b[0;32m----> 5\u001b[0;31m \u001b[0mprint\u001b[0m\u001b[0;34m(\u001b[0m\u001b[0;34mf'There are {number:3d} ways to carve a pumpkin.'\u001b[0m\u001b[0;34m)\u001b[0m\u001b[0;34m\u001b[0m\u001b[0;34m\u001b[0m\u001b[0m\n\u001b[0m",
            "\u001b[0;31mValueError\u001b[0m: Unknown format code 'd' for object of type 'float'"
          ]
        }
      ]
    },
    {
      "cell_type": "code",
      "metadata": {
        "id": "689PPDLGAeZq",
        "colab_type": "code",
        "outputId": "18cae8d9-e815-4a1d-88d1-5810c10fc0e9",
        "colab": {
          "base_uri": "https://localhost:8080/",
          "height": 34
        }
      },
      "source": [
        "# datetime with string literals\n",
        "from datetime import datetime\n",
        "\n",
        "date = datetime.now()\n",
        "\n",
        "print(f'The time is {date:%B %d %Y} to cross an item off your bucket list.')\n"
      ],
      "execution_count": 0,
      "outputs": [
        {
          "output_type": "stream",
          "text": [
            "The time is May 01 2020 to cross an item off your bucket list.\n"
          ],
          "name": "stdout"
        }
      ]
    },
    {
      "cell_type": "code",
      "metadata": {
        "id": "YnhFBYDPBRUM",
        "colab_type": "code",
        "outputId": "01e49f40-f021-44ec-ae70-9c7975138483",
        "colab": {
          "base_uri": "https://localhost:8080/",
          "height": 34
        }
      },
      "source": [
        "# using dictionaries\n",
        "d = {\"Mother\": 'Janet', 'Father': 'Tom', 'Sister': 'Kimberly'}\n",
        "print(f'Is {d[\"Mother\"]} your mother or sister?') # can't use same kind of quotes our whole string and d index"
      ],
      "execution_count": 0,
      "outputs": [
        {
          "output_type": "stream",
          "text": [
            "Is Janet your mother or sister?\n"
          ],
          "name": "stdout"
        }
      ]
    },
    {
      "cell_type": "code",
      "metadata": {
        "id": "gtCRrxT9B7VS",
        "colab_type": "code",
        "outputId": "8376692b-df7c-4c8e-cc0d-bd1e96289132",
        "colab": {
          "base_uri": "https://localhost:8080/",
          "height": 34
        }
      },
      "source": [
        "# Escaping quotes\n",
        "s = 'There\\'s a lot of fair\\'s refuse around.'\n",
        "print(s)"
      ],
      "execution_count": 0,
      "outputs": [
        {
          "output_type": "stream",
          "text": [
            "There's a lot of fair's refuse around.\n"
          ],
          "name": "stdout"
        }
      ]
    },
    {
      "cell_type": "code",
      "metadata": {
        "id": "2Dy8B7hxChzb",
        "colab_type": "code",
        "outputId": "99066f50-a9d4-43f9-b81d-e5313b94598b",
        "colab": {
          "base_uri": "https://localhost:8080/",
          "height": 34
        }
      },
      "source": [
        "#  Passing functions to a string literal\n",
        "def add(a,b):\n",
        "  return a + b\n",
        "\n",
        "print(f'The sum of 2 and 5 is {add(2,5)}.')  \n"
      ],
      "execution_count": 0,
      "outputs": [
        {
          "output_type": "stream",
          "text": [
            "The sum of 2 and 5 is 7.\n"
          ],
          "name": "stdout"
        }
      ]
    },
    {
      "cell_type": "code",
      "metadata": {
        "id": "uvJpe4jRDSZb",
        "colab_type": "code",
        "colab": {}
      },
      "source": [
        "# Given example\n",
        "# Include both variables and the result of dividing them \n",
        "print(f\"{number1:.1f} tweets were downloaded in {number2:.1f} minutes indicating a speed of {number1/number2:.1f} tweets per min\")"
      ],
      "execution_count": 0,
      "outputs": []
    },
    {
      "cell_type": "code",
      "metadata": {
        "id": "EQvWreTYGw54",
        "colab_type": "code",
        "colab": {}
      },
      "source": [
        "# Divide the length of list by 120 rounded to two decimals\n",
        "print(f\"Only {len(list_links)/120*100:.2f}% of the posts contain links\")\n",
        "\n",
        "print(f\"The price for a house in the east neighborhood was ${east['price']} in {east['date']:%m-%d-%Y}\")"
      ],
      "execution_count": 0,
      "outputs": []
    },
    {
      "cell_type": "markdown",
      "metadata": {
        "id": "GWYHbp2oH84a",
        "colab_type": "text"
      },
      "source": [
        "### Template Method"
      ]
    },
    {
      "cell_type": "code",
      "metadata": {
        "id": "xfFVbI7VH-cq",
        "colab_type": "code",
        "outputId": "5c89ac1f-bd05-4f06-a1d9-d36b41a79af8",
        "colab": {
          "base_uri": "https://localhost:8080/",
          "height": 34
        }
      },
      "source": [
        "from string import Template\n",
        "\n",
        "# use $ to identify placeholders\n",
        "\n",
        "ts = Template(\"This is a template string that indicates $identifier.\")\n",
        "\n",
        "ts = ts.substitute(identifier=\"that there is something afoot at the Circle K.\")\n",
        "print(ts)  # Not printing uless assigned to value of ts.substitute()"
      ],
      "execution_count": 0,
      "outputs": [
        {
          "output_type": "stream",
          "text": [
            "This is a template string that indicates that there is something afoot at the Circle K..\n"
          ],
          "name": "stdout"
        }
      ]
    },
    {
      "cell_type": "code",
      "metadata": {
        "id": "MWgNIfkwJmpY",
        "colab_type": "code",
        "outputId": "138eceac-10fb-480c-fb06-71a64c1709fb",
        "colab": {
          "base_uri": "https://localhost:8080/",
          "height": 34
        }
      },
      "source": [
        "adjective = 'fine'\n",
        "phrase = 'that there is something afoot at the Circle K.'\n",
        "\n",
        "ts = Template(\"This is a $descriptor template string that indicates $identifier.\")\n",
        "ts.substitute(descriptor=adjective,identifier=phrase)"
      ],
      "execution_count": 0,
      "outputs": [
        {
          "output_type": "execute_result",
          "data": {
            "text/plain": [
              "'This is a fine template string that indicates that there is something afoot at the Circle K..'"
            ]
          },
          "metadata": {
            "tags": []
          },
          "execution_count": 74
        }
      ]
    },
    {
      "cell_type": "code",
      "metadata": {
        "id": "O1lKdG29K3q4",
        "colab_type": "code",
        "outputId": "0dc7c066-4048-4a17-c4d0-e4589d103ca0",
        "colab": {
          "base_uri": "https://localhost:8080/",
          "height": 34
        }
      },
      "source": [
        "# Add curly braces when identifiers are root words\n",
        "adjective = 'interest'\n",
        "phrase = 'that there is something afoot at the Circle K.'\n",
        "\n",
        "ts = Template(\"This is an ${descriptor}ing template string that indicates $identifier.\")\n",
        "ts.substitute(descriptor=adjective,identifier=phrase)"
      ],
      "execution_count": 0,
      "outputs": [
        {
          "output_type": "execute_result",
          "data": {
            "text/plain": [
              "'This is an interesting template string that indicates that there is something afoot at the Circle K..'"
            ]
          },
          "metadata": {
            "tags": []
          },
          "execution_count": 73
        }
      ]
    },
    {
      "cell_type": "code",
      "metadata": {
        "id": "tkFnh4rHLR_w",
        "colab_type": "code",
        "outputId": "d51e9254-5fd0-410d-8faf-47a771b66b4e",
        "colab": {
          "base_uri": "https://localhost:8080/",
          "height": 34
        }
      },
      "source": [
        "# Escaping the dollar sign\n",
        "\n",
        "t = Template('The Encyclopedia Brittannica used to cost $$ $price.')\n",
        "t.substitute(price='12.50')"
      ],
      "execution_count": 0,
      "outputs": [
        {
          "output_type": "execute_result",
          "data": {
            "text/plain": [
              "'The Encyclopedia Brittannica used to cost $ 12.50.'"
            ]
          },
          "metadata": {
            "tags": []
          },
          "execution_count": 71
        }
      ]
    },
    {
      "cell_type": "code",
      "metadata": {
        "id": "tJ3dbigmMBaZ",
        "colab_type": "code",
        "outputId": "96cf4548-d84a-4c79-9ade-6ebe1928a412",
        "colab": {
          "base_uri": "https://localhost:8080/",
          "height": 34
        }
      },
      "source": [
        "# Safe substitution always tries to return a usable string by returning the $tag with the string.\n",
        "favorite = dict(flavor='chocolate')\n",
        "s = Template('I love $flavor $cake so much!')\n",
        "s.safe_substitute(favorite)"
      ],
      "execution_count": 0,
      "outputs": [
        {
          "output_type": "execute_result",
          "data": {
            "text/plain": [
              "'I love chocolate $cake so much!'"
            ]
          },
          "metadata": {
            "tags": []
          },
          "execution_count": 76
        }
      ]
    },
    {
      "cell_type": "code",
      "metadata": {
        "id": "nzw1WJwQNzdn",
        "colab_type": "code",
        "outputId": "ea75382e-1987-49f4-b199-a853d0c29d5f",
        "colab": {
          "base_uri": "https://localhost:8080/",
          "height": 34
        }
      },
      "source": [
        "favorite = dict(flavor='chocolate',cake='croissants')\n",
        "s = Template('I love $flavor $cake so much!')\n",
        "s.safe_substitute(favorite)"
      ],
      "execution_count": 0,
      "outputs": [
        {
          "output_type": "execute_result",
          "data": {
            "text/plain": [
              "'I love chocolate croissants so much!'"
            ]
          },
          "metadata": {
            "tags": []
          },
          "execution_count": 77
        }
      ]
    },
    {
      "cell_type": "code",
      "metadata": {
        "id": "rAjL8gl2N5yg",
        "colab_type": "code",
        "colab": {}
      },
      "source": [
        "# Given example\n",
        "\n",
        "# ansers is a given dict\n",
        "\n",
        "# Import template\n",
        "from string import Template\n",
        "\n",
        "# Complete template string using identifiers\n",
        "the_answers = Template(\"Check your answer 1: $answer1, and your answer 2: $answer2\")\n",
        "\n",
        "# Use substitute to replace identifiers\n",
        "try:\n",
        "    print(the_answers.substitute(answers))\n",
        "except KeyError:\n",
        "    print(\"Missing information\")"
      ],
      "execution_count": 0,
      "outputs": []
    },
    {
      "cell_type": "markdown",
      "metadata": {
        "id": "CBADTqfsTCAr",
        "colab_type": "text"
      },
      "source": [
        "# Regular Expressions for Pattern Matching"
      ]
    },
    {
      "cell_type": "markdown",
      "metadata": {
        "id": "srjixz07TB84",
        "colab_type": "text"
      },
      "source": [
        "### Intro to Reg Ex"
      ]
    },
    {
      "cell_type": "code",
      "metadata": {
        "id": "XyfH04XzTIyo",
        "colab_type": "code",
        "colab": {}
      },
      "source": [
        "\\d digit \\D non digit\n",
        "\\s white space \\S non whitespace\n",
        "\\w word character \\W non word, special characters\n",
        "\\w{3,10} word appears between 3 and 10 times\n",
        "\n",
        "import re\n",
        "re.findall(regex expression, string text) # returns list of instances\n",
        "re.split() # returns string splitinto list\n",
        "re.sub(regex, sub text, string)"
      ],
      "execution_count": 0,
      "outputs": []
    },
    {
      "cell_type": "code",
      "metadata": {
        "id": "k7sy-mOQBc7A",
        "colab_type": "code",
        "colab": {}
      },
      "source": [
        " print(sentiment_analysis)\n",
        "@robot9! @robot4& I have a good feeling that the show isgoing to be amazing! @robot9$ @robot7%\n",
        "\n",
        "# Import the re module\n",
        "import re\n",
        "\n",
        "# Write the regex\n",
        "regex = r\"@robot\\d\\W\"\n",
        "\n",
        "# Find all matches of regex\n",
        "print(re.findall(regex, sentiment_analysis))\n",
        "\n",
        "print(re.findall(r\"User_mentions:\\d\", sentiment_analysis))"
      ],
      "execution_count": 0,
      "outputs": []
    },
    {
      "cell_type": "code",
      "metadata": {
        "id": "YtUgsH3-GwoC",
        "colab_type": "code",
        "colab": {}
      },
      "source": [
        "# Write a regex to match pattern separating sentences\n",
        "regex_sentence = r\"\\W\\dbreak\\W\"\n",
        "\n",
        "# Replace the regex_sentence with a space\n",
        "sentiment_sub = re.sub(regex_sentence, \" \", sentiment_analysis)\n",
        "\n",
        "# Write a regex to match pattern separating words\n",
        "regex_words = r\"\\Wnew\\w\"\n",
        "\n",
        "# Replace the regex_words and print the result\n",
        "sentiment_final = re.sub(regex_words, ' ', sentiment_sub)\n",
        "print(sentiment_final)"
      ],
      "execution_count": 0,
      "outputs": []
    },
    {
      "cell_type": "markdown",
      "metadata": {
        "id": "xSsXCRCRWiFe",
        "colab_type": "text"
      },
      "source": [
        "### Repetitions"
      ]
    },
    {
      "cell_type": "code",
      "metadata": {
        "id": "bT6z7R76Wk6H",
        "colab_type": "code",
        "colab": {}
      },
      "source": [
        "{int} character int times\n",
        "{int,int} character in range of ints inclusive\n",
        "{int,} character int or more times\n",
        "+ one or more imes\n",
        "* zero or more times\n",
        "? zero or one times\n",
        ".* any character any number of times (except line breaks)\n",
        "\n",
        "{int} way to repeat search character\n",
        "eg r'\\w{5}\\d{4}'  word character five times digit four times\n",
        "\n",
        "r'\\d+-\\d+' + indicates more than one digit (or character) berore and after hyphen\n",
        "r'@\\w+\\W+\\w+' letters plus non letters plus letters after an @\n",
        "r'Ye?ay' ? after a character means it occurs 0 or once\n",
        "re.findall(r'\\d{1,2}-\\d{3}-\\d{2,3}-\\d{4,}') {} can enclose a range of number {2,3} or a at least {5,} at least 5"
      ],
      "execution_count": 0,
      "outputs": []
    },
    {
      "cell_type": "code",
      "metadata": {
        "id": "2_Z9Z_D-oyTa",
        "colab_type": "code",
        "colab": {}
      },
      "source": [
        "# Write a regex matching the hashtag pattern\n",
        "regex = r\"#\\w+\"\n",
        "\n",
        "# Replace the regex by an empty string\n",
        "no_hashtag = re.sub(regex, \" \", sentiment_analysis)\n",
        "\n",
        "# Get tokens by splitting text\n",
        "print(re.split(r\"\\s+\", no_hashtag))"
      ],
      "execution_count": 0,
      "outputs": []
    },
    {
      "cell_type": "markdown",
      "metadata": {
        "id": "HBrfwQIWo1xW",
        "colab_type": "text"
      },
      "source": [
        "### Regex Meta Characters"
      ]
    },
    {
      "cell_type": "code",
      "metadata": {
        "id": "S5huk5pro4Wj",
        "colab_type": "code",
        "colab": {}
      },
      "source": [
        "re.match(regex, string) only works if the regex is at the beginning of the string\n",
        "^ finds examples at teh beginning of strings\n",
        "$ finds  examples at teh end of strings\n",
        "\\ escape special characters like .  eg \\.\n",
        "|  either version   Elephant|elephant\n",
        "[]  set fo characters [a-zA-z]+\\d all letters of either case plus digit\n",
        "[%#&$]+ set of non word characters  add +\n",
        "[^%#&$]+ ^ complement "
      ],
      "execution_count": 0,
      "outputs": []
    },
    {
      "cell_type": "code",
      "metadata": {
        "id": "xrwpOnxOymNE",
        "colab_type": "code",
        "colab": {}
      },
      "source": [
        "# Write a regex to match text file name\n",
        "regex = r\"^[aeiouAEIOU]{2,3}.+txt\"\n",
        "\n",
        "for text in sentiment_analysis:\n",
        "\t# Find all matches of the regex\n",
        "\tprint(re.findall(regex, text))\n",
        "    \n",
        "\t# Replace all matches with empty string\n",
        "\tprint(re.sub(regex, '', text))"
      ],
      "execution_count": 0,
      "outputs": []
    },
    {
      "cell_type": "code",
      "metadata": {
        "id": "Qqr84hS88MG_",
        "colab_type": "code",
        "colab": {}
      },
      "source": [
        "# Write a regex to match a valid email address\n",
        "regex = r\"[A-Za-z0-9!#%*$.]@\\w+\\.com\"\n",
        "\n",
        "for example in emails:\n",
        "  \t# Match the regex to the string\n",
        "    if re.findall(regex, example):\n",
        "        # Complete the format method to print out the result\n",
        "      \tprint(\"The email {email_example} is a valid email\".format(email_example=example))\n",
        "    else:\n",
        "      \tprint(\"The email {email_example} is invalid\".format(email_example=example))"
      ],
      "execution_count": 0,
      "outputs": []
    },
    {
      "cell_type": "code",
      "metadata": {
        "id": "qDxWXHjo855M",
        "colab_type": "code",
        "colab": {}
      },
      "source": [
        "\n",
        "# Write a regex to match a valid password\n",
        "regex = r\"[a-zA-Z0-9*#$%!&.]{8,20}\"\n",
        "\n",
        "for example in passwords:\n",
        "  \t# Scan the strings to find a match\n",
        "    if re.search(regex, example):\n",
        "        # Complete the format method to print out the result\n",
        "      \tprint(\"The password {pass_example} is a valid password\".format(pass_example=example))\n",
        "    else:\n",
        "      \tprint(\"The password {pass_example} is invalid\".format(pass_example=example))"
      ],
      "execution_count": 0,
      "outputs": []
    },
    {
      "cell_type": "markdown",
      "metadata": {
        "id": "1sOBPfXt9Ng5",
        "colab_type": "text"
      },
      "source": [
        "### Greedy vs Non Greedy matches"
      ]
    },
    {
      "cell_type": "code",
      "metadata": {
        "id": "rVvLYQoo9Run",
        "colab_type": "code",
        "colab": {}
      },
      "source": [
        "*,+,? {num,num}  greedy by default, match as many characters as possible, returns largest match possible\n",
        " gives up one character at at time, backtracks when match is too large\n",
        "\n",
        " NOn greedy quantifiers match as few as needed\n",
        " returns shortest matches\n",
        " Append ? to greedy quantifiers to trn them into lazy quantifiers"
      ],
      "execution_count": 0,
      "outputs": []
    },
    {
      "cell_type": "code",
      "metadata": {
        "id": "Tszey1XNDH7J",
        "colab_type": "code",
        "colab": {}
      },
      "source": [
        "# Import re\n",
        "import re\n",
        "\n",
        "# Write a regex to eliminate tags\n",
        "string_notags = re.sub(r\"<.+?>\", \"\", string)\n",
        "\n",
        "# Print out the result\n",
        "print(string_notags)"
      ],
      "execution_count": 0,
      "outputs": []
    },
    {
      "cell_type": "code",
      "metadata": {
        "id": "c0D9Eyn4EFjz",
        "colab_type": "code",
        "colab": {}
      },
      "source": [
        " # Write a lazy regex expression \n",
        "        numbers_found_lazy = re.findall(r\"[0-9]+?\", sentiment_analysis)"
      ],
      "execution_count": 0,
      "outputs": []
    },
    {
      "cell_type": "code",
      "metadata": {
        "id": "dGfhgJvCEGRI",
        "colab_type": "code",
        "colab": {}
      },
      "source": [
        "# Write a greedy regex expression \n",
        "        numbers_found_greedy = re.findall(r\"[0-9]+\", sentiment_analysis)"
      ],
      "execution_count": 0,
      "outputs": []
    },
    {
      "cell_type": "code",
      "metadata": {
        "id": "_zR0Mkut0kyS",
        "colab_type": "code",
        "colab": {}
      },
      "source": [
        "# Write a greedy regex expression to match \n",
        "sentences_found_greedy = re.findall(r\"\\(.*\\)\", sentiment_analysis) # returns text in parenthses + text + text in parenthses\n",
        "\n",
        "# Print out the result\n",
        "print(sentences_found_greedy)"
      ],
      "execution_count": 0,
      "outputs": []
    },
    {
      "cell_type": "code",
      "metadata": {
        "id": "Ap9W5mjk0kut",
        "colab_type": "code",
        "colab": {}
      },
      "source": [
        "# Write a lazy regex expression\n",
        "sentences_found_lazy = re.findall(r\"\\(.*?\\)\", sentiment_analysis) # returns list of text in parantheses\n",
        "\n",
        "# Print out the results\n",
        "print(sentences_found_lazy)"
      ],
      "execution_count": 0,
      "outputs": []
    },
    {
      "cell_type": "markdown",
      "metadata": {
        "id": "Vf9V7YPF2XhK",
        "colab_type": "text"
      },
      "source": [
        "# Advanced Regular Expressions Concepts"
      ]
    },
    {
      "cell_type": "markdown",
      "metadata": {
        "id": "mgyK4smE2Xni",
        "colab_type": "text"
      },
      "source": [
        "### Capturing Groups"
      ]
    },
    {
      "cell_type": "code",
      "metadata": {
        "id": "H4XKjRR62gx3",
        "colab_type": "code",
        "outputId": "a459acd6-78f1-4c9b-93f0-903b927ceb73",
        "colab": {
          "base_uri": "https://localhost:8080/",
          "height": 34
        }
      },
      "source": [
        "# Place parentheses around groups of text to be extracted returns list of tuples\n",
        "import re\n",
        "s = 'Sarah has 2 friends who she studies astronomy with.  Tara has 5 friends and Teresa has 3 sisters.'\n",
        "\n",
        "re.findall(r'([a-zA-Z]+)\\s\\w+\\s(\\d\\s\\w+)',s)"
      ],
      "execution_count": 0,
      "outputs": [
        {
          "output_type": "execute_result",
          "data": {
            "text/plain": [
              "[('Sarah', '2 friends'), ('Tara', '5 friends'), ('Teresa', '3 sisters')]"
            ]
          },
          "metadata": {
            "tags": []
          },
          "execution_count": 6
        }
      ]
    },
    {
      "cell_type": "code",
      "metadata": {
        "id": "NyB9NpeX4Bps",
        "colab_type": "code",
        "outputId": "6614921c-80e9-4957-c9cc-2a1efd701bbc",
        "colab": {
          "base_uri": "https://localhost:8080/",
          "height": 34
        }
      },
      "source": [
        "# Adding + to groups\n",
        "s = 'the password is 5joj4oo4nnasd5ae'\n",
        "re.findall('(\\d[a-zA-Z]+)',s), re.findall('(\\d[a-zA-Z])+',s),re.findall('(\\d[a-zA-Z]+)+',s)  "
      ],
      "execution_count": 0,
      "outputs": [
        {
          "output_type": "execute_result",
          "data": {
            "text/plain": [
              "(['5joj', '4oo', '4nnasd', '5ae'], ['5j', '4o', '4n', '5a'], ['5ae'])"
            ]
          },
          "metadata": {
            "tags": []
          },
          "execution_count": 14
        }
      ]
    },
    {
      "cell_type": "code",
      "metadata": {
        "id": "j_W4wnbg6Zbx",
        "colab_type": "code",
        "outputId": "d968dec2-721f-48e0-dce2-611c1a8c4c38",
        "colab": {
          "base_uri": "https://localhost:8080/",
          "height": 34
        }
      },
      "source": [
        "# Note difference\n",
        "s = 'The two best numbers are 8733 and 99.'\n",
        "re.findall('(\\d)+',s), re.findall('(\\d+)',s)"
      ],
      "execution_count": 0,
      "outputs": [
        {
          "output_type": "execute_result",
          "data": {
            "text/plain": [
              "(['3', '9'], ['8733', '99'])"
            ]
          },
          "metadata": {
            "tags": []
          },
          "execution_count": 9
        }
      ]
    },
    {
      "cell_type": "code",
      "metadata": {
        "id": "eOZt50xY7BR7",
        "colab_type": "code",
        "colab": {}
      },
      "source": [
        "# Write a regex that matches email\n",
        "regex_email = r\"([a-zA-Z0-9]+)@\\S+\"\n",
        "\n",
        "for tweet in sentiment_analysis:\n",
        "    # Find all matches of regex in each tweet\n",
        "    email_matched = re.findall(regex_email, tweet)\n",
        "\n",
        "    # Complete the format method to print the results\n",
        "    print(\"Lists of users found in this tweet: {}\".format(email_matched))"
      ],
      "execution_count": 0,
      "outputs": []
    },
    {
      "cell_type": "code",
      "metadata": {
        "id": "fteETaBYC46P",
        "colab_type": "code",
        "colab": {}
      },
      "source": [
        "regex = r\"([A-Z]{2})(\\d{4})\\s([A-Z]{3})-([A-Z]{3})\\s(\\d{2}[A-Z]{3})\"\n",
        "#Print the matches\n",
        "print(\"Airline: {} Flight number: {}\".format(flight_matches[0][0], flight_matches[0][1]))\n",
        "print(\"Departure: {} Destination: {}\".format(flight_matches[0][2], flight_matches[0][3]))\n",
        "print(\"Date: {}\".format(flight_matches[0][4]))\n"
      ],
      "execution_count": 0,
      "outputs": []
    },
    {
      "cell_type": "markdown",
      "metadata": {
        "id": "Zm3tQ6lNFLD0",
        "colab_type": "text"
      },
      "source": [
        "### Alternation and Capturing Non Groups"
      ]
    },
    {
      "cell_type": "code",
      "metadata": {
        "id": "Ap5s8DbjFOLU",
        "colab_type": "code",
        "outputId": "9dd20e39-5c72-4e67-fadb-731e329be24a",
        "colab": {
          "base_uri": "https://localhost:8080/",
          "height": 34
        }
      },
      "source": [
        "#(?:regex)  non-capturing group\n",
        "\n",
        "s= 'Two id numbers are 30-30-30-456-231 and 40-33-92-456-972.'\n",
        "regex = r'(?:\\d{2}-){3}(\\d{3}-\\d{3})'\n",
        "re.findall(regex,s)"
      ],
      "execution_count": 0,
      "outputs": [
        {
          "output_type": "execute_result",
          "data": {
            "text/plain": [
              "['456-231', '456-972']"
            ]
          },
          "metadata": {
            "tags": []
          },
          "execution_count": 15
        }
      ]
    },
    {
      "cell_type": "code",
      "metadata": {
        "id": "frnjCVOHHCXi",
        "colab_type": "code",
        "outputId": "ccf997df-74e1-463b-fb97-b03e1e23a7b1",
        "colab": {
          "base_uri": "https://localhost:8080/",
          "height": 34
        }
      },
      "source": [
        "s = 'It is happening on the 23rd or the 24th.'\n",
        "regex = r'(\\d{2})(?:rd|th)'\n",
        "re.findall(regex,s)"
      ],
      "execution_count": 0,
      "outputs": [
        {
          "output_type": "execute_result",
          "data": {
            "text/plain": [
              "['23', '24']"
            ]
          },
          "metadata": {
            "tags": []
          },
          "execution_count": 16
        }
      ]
    },
    {
      "cell_type": "code",
      "metadata": {
        "id": "oj11ukwUH2in",
        "colab_type": "code",
        "colab": {}
      },
      "source": [
        "regex_positive = r\"(love|like|enjoy).+?(movie|concert)\\s(?:.+?)\\.\"\n",
        "\n",
        "for tweet in sentiment_analysis:\n",
        "\t# Find all matches of regex in tweet\n",
        "    positive_matches = re.findall(regex_positive, tweet)\n",
        "    \n",
        "    # Complete format to print out the results\n",
        "    print(\"Positive comments found {}\".format(positive_matches))"
      ],
      "execution_count": 0,
      "outputs": []
    },
    {
      "cell_type": "markdown",
      "metadata": {
        "id": "f3JhH-R_C6X6",
        "colab_type": "text"
      },
      "source": [
        "### Back References"
      ]
    },
    {
      "cell_type": "code",
      "metadata": {
        "id": "-2W1KVy8C9Uq",
        "colab_type": "code",
        "colab": {
          "base_uri": "https://localhost:8080/",
          "height": 34
        },
        "outputId": "0f053518-fe0f-4be6-fe45-17654d86e1c2"
      },
      "source": [
        "# numbered groups using re.search()\n",
        "import re\n",
        "s = 'The date of the event was 04-09-2012'\n",
        "regex = r'(\\d{2})-(\\d{2})-(\\d{4})'\n",
        "match = re.search(regex,s)\n",
        "\n",
        "match.group(1), match.group(2), match.group(3)"
      ],
      "execution_count": 9,
      "outputs": [
        {
          "output_type": "execute_result",
          "data": {
            "text/plain": [
              "('04', '09', '2012')"
            ]
          },
          "metadata": {
            "tags": []
          },
          "execution_count": 9
        }
      ]
    },
    {
      "cell_type": "code",
      "metadata": {
        "id": "gsDTPJSEDnL3",
        "colab_type": "code",
        "colab": {
          "base_uri": "https://localhost:8080/",
          "height": 34
        },
        "outputId": "745c6102-a836-4e4b-b139-963ca770cba4"
      },
      "source": [
        "# Named groups (?P<searchterm>regex)\n",
        "\n",
        "s = 'Austin, 78701'\n",
        "\n",
        "cities = re.search(r'(?P<city>[a-zA-Z]+).*(?P<zipcode>\\d{5})',s)\n",
        "cities.group('city'), cities.group('zipcode')"
      ],
      "execution_count": 13,
      "outputs": [
        {
          "output_type": "execute_result",
          "data": {
            "text/plain": [
              "('Austin', '78701')"
            ]
          },
          "metadata": {
            "tags": []
          },
          "execution_count": 13
        }
      ]
    },
    {
      "cell_type": "code",
      "metadata": {
        "id": "RZtxHOn0GX3m",
        "colab_type": "code",
        "colab": {
          "base_uri": "https://localhost:8080/",
          "height": 34
        },
        "outputId": "3f6ee8e9-e592-494e-8b5f-f026d7dd66e2"
      },
      "source": [
        "# Backreferences   - repeated words\n",
        "\n",
        "s = 'I was so very very happy about the happy happy birthday song'\n",
        "repeat = re.findall(r'(\\w+)\\s\\1', s)\n",
        "repeat"
      ],
      "execution_count": 15,
      "outputs": [
        {
          "output_type": "execute_result",
          "data": {
            "text/plain": [
              "['s', 'very', 't', 'happy']"
            ]
          },
          "metadata": {
            "tags": []
          },
          "execution_count": 15
        }
      ]
    },
    {
      "cell_type": "code",
      "metadata": {
        "id": "STCuFRH8He6V",
        "colab_type": "code",
        "colab": {
          "base_uri": "https://localhost:8080/",
          "height": 34
        },
        "outputId": "0931b50b-76dd-4090-c4c1-b692a17486d0"
      },
      "source": [
        "re.sub(r'(\\w+)\\s\\1',r'\\1', s) # Why is it noticing when a word starts with the ending of the previous word?"
      ],
      "execution_count": 16,
      "outputs": [
        {
          "output_type": "execute_result",
          "data": {
            "text/plain": [
              "'I waso very happy abouthe happy birthday song'"
            ]
          },
          "metadata": {
            "tags": []
          },
          "execution_count": 16
        }
      ]
    },
    {
      "cell_type": "code",
      "metadata": {
        "id": "2nVgwnAGIWlk",
        "colab_type": "code",
        "colab": {
          "base_uri": "https://localhost:8080/",
          "height": 34
        },
        "outputId": "c4fb5091-f7be-43c8-a08d-8e6b352e0141"
      },
      "source": [
        "# Referencing something earlier in the string\n",
        "s = 'Your new passcode is 123456.  Please record 123456 in a safe place'\n",
        "find = re.findall(r'(?P<passcode>\\d{6}).*?(?P=passcode)', s)\n",
        "find"
      ],
      "execution_count": 18,
      "outputs": [
        {
          "output_type": "execute_result",
          "data": {
            "text/plain": [
              "['123456']"
            ]
          },
          "metadata": {
            "tags": []
          },
          "execution_count": 18
        }
      ]
    },
    {
      "cell_type": "code",
      "metadata": {
        "id": "otLWwmG-KcuY",
        "colab_type": "code",
        "colab": {
          "base_uri": "https://localhost:8080/",
          "height": 34
        },
        "outputId": "43f255c7-cf08-4bd6-dd84-ba35426a8284"
      },
      "source": [
        "# Subbing out repeats\n",
        "s = 'Your new passcode is 123456.  Please record 123456 123456 in a safe place'\n",
        "re.sub(r'(?P<passcode>\\d{6})\\s(?P=passcode)', r'\\g<passcode>', s)"
      ],
      "execution_count": 26,
      "outputs": [
        {
          "output_type": "execute_result",
          "data": {
            "text/plain": [
              "'Your new passcode is 123456.  Please record 123456 in a safe place'"
            ]
          },
          "metadata": {
            "tags": []
          },
          "execution_count": 26
        }
      ]
    },
    {
      "cell_type": "code",
      "metadata": {
        "id": "3yUaX8ILLveb",
        "colab_type": "code",
        "colab": {}
      },
      "source": [
        "# Write regex and scan contract to capture the dates described\n",
        "regex_dates = r\"Signed\\son\\s(\\d{2})/(\\d{2})/(\\d{4})\"\n",
        "dates = re.search(regex_dates, contract)\n",
        "\n",
        "# Assign to each key the corresponding match\n",
        "signature = {\n",
        "\t\"day\": dates.group(2),\n",
        "\t\"month\": dates.group(1),\n",
        "\t\"year\": dates.group(3)\n",
        "}\n",
        "\n",
        "# Complete the format method to print-out\n",
        "print(\"Our first contract is dated back to {data[year]}. Particularly, the day {data[day]} of the month {data[month]}.\".format(data=signature))"
      ],
      "execution_count": 0,
      "outputs": []
    },
    {
      "cell_type": "code",
      "metadata": {
        "id": "1rW9nucfV7lG",
        "colab_type": "code",
        "colab": {}
      },
      "source": [
        "for string in html_tags:\n",
        "    # Complete the regex and find if it matches a closed HTML tags\n",
        "    match_tag =  re.match(r\"<(\\w+)\\1>.*?</\\1>\", string)\n",
        " \n",
        "    if match_tag:\n",
        "        # If it matches print the first group capture\n",
        "        print(\"Your tag {} is closed\".format(match_tag.group(1))) \n",
        "    else:\n",
        "        # If it doesn't match capture only the tag \n",
        "        notmatch_tag = re.match(r\"<(\\w+)>\", string)\n",
        "        # Print the first group capture\n",
        "        print(\"Close your {} tag!\".format(notmatch_tag.group(1)))"
      ],
      "execution_count": 0,
      "outputs": []
    },
    {
      "cell_type": "code",
      "metadata": {
        "id": "ZB75x9LbXSZS",
        "colab_type": "code",
        "colab": {}
      },
      "source": [
        "# Complete the regex to match an elongated word\n",
        "regex_elongated = r\"\\w*(\\w)\\1\\w*\"\n",
        "\n",
        "for tweet in sentiment_analysis:\n",
        "\t# Find if there is a match in each tweet \n",
        "\tmatch_elongated = re.search(regex_elongated, tweet)\n",
        "    \n",
        "\tif match_elongated:\n",
        "\t\t# Assign the captured group zero \n",
        "\t\telongated_word = match_elongated.group(0)\n",
        "        \n",
        "\t\t# Complete the format method to print the word\n",
        "\t\tprint(\"Elongated word found: {word}\".format(word=elongated_word))\n",
        "\telse:\n",
        "\t\tprint(\"No elongated word found\") "
      ],
      "execution_count": 0,
      "outputs": []
    },
    {
      "cell_type": "markdown",
      "metadata": {
        "id": "gYYOPnIWntFe",
        "colab_type": "text"
      },
      "source": [
        "### Looking Around"
      ]
    },
    {
      "cell_type": "code",
      "metadata": {
        "id": "zA-Rc20ZnxQn",
        "colab_type": "code",
        "colab": {}
      },
      "source": [
        "# way to see if sub patern in ahead or behind pattern\n",
        "\n",
        "import re"
      ],
      "execution_count": 0,
      "outputs": []
    },
    {
      "cell_type": "code",
      "metadata": {
        "id": "0vHaVtyMoRKn",
        "colab_type": "code",
        "colab": {
          "base_uri": "https://localhost:8080/",
          "height": 34
        },
        "outputId": "02cf81b5-a66d-4b5d-a51d-868d10857e58"
      },
      "source": [
        "# Looking Ahead\n",
        "# r'text(?=lookingfor following word)\n",
        "\n",
        "s = 'a.txt transferred, b.txt transferred, c.text deprecated'\n",
        "re.findall(r'\\w+\\.txt\\s(?=transferred)', s), re.findall(r'\\w+\\.txt(?=\\stransferred)', s) # change in placement of \\s"
      ],
      "execution_count": 30,
      "outputs": [
        {
          "output_type": "execute_result",
          "data": {
            "text/plain": [
              "(['a.txt ', 'b.txt '], ['a.txt', 'b.txt'])"
            ]
          },
          "metadata": {
            "tags": []
          },
          "execution_count": 30
        }
      ]
    },
    {
      "cell_type": "code",
      "metadata": {
        "id": "G6FpKY_4pO24",
        "colab_type": "code",
        "colab": {
          "base_uri": "https://localhost:8080/",
          "height": 34
        },
        "outputId": "36d47437-4fca-40a6-9085-c5e62b16d6cb"
      },
      "source": [
        "# Negative looking ahead (word does NOT follow) ?!\n",
        "s = 'a.txt transferred, b.txt transferred, c.txt deprecated'\n",
        "re.findall(r'\\w+\\.txt\\s(?!transferred)', s)  "
      ],
      "execution_count": 34,
      "outputs": [
        {
          "output_type": "execute_result",
          "data": {
            "text/plain": [
              "['c.txt ']"
            ]
          },
          "metadata": {
            "tags": []
          },
          "execution_count": 34
        }
      ]
    },
    {
      "cell_type": "code",
      "metadata": {
        "id": "n6zEu1R5pvqv",
        "colab_type": "code",
        "colab": {
          "base_uri": "https://localhost:8080/",
          "height": 34
        },
        "outputId": "ea8c6f4b-c830-4679-ffe8-d3d783850c63"
      },
      "source": [
        "# Look behind ?<=  \n",
        "s = 'filed a.txt transferred, open b.txt transferred, filed c.txt deprecated'\n",
        "re.findall(r'(?<=filed)\\s\\w+\\.txt', s) "
      ],
      "execution_count": 39,
      "outputs": [
        {
          "output_type": "execute_result",
          "data": {
            "text/plain": [
              "[' a.txt', ' c.txt']"
            ]
          },
          "metadata": {
            "tags": []
          },
          "execution_count": 39
        }
      ]
    },
    {
      "cell_type": "code",
      "metadata": {
        "id": "M_eSEZ4dqcM6",
        "colab_type": "code",
        "colab": {
          "base_uri": "https://localhost:8080/",
          "height": 34
        },
        "outputId": "6ec647aa-169d-4e33-d5a4-bc88dcd57e27"
      },
      "source": [
        "# Negaive look behind ?<!\n",
        "s = 'filed a.txt transferred, open b.txt transferred, filed c.txt deprecated'\n",
        "re.findall(r'(?<!filed)\\s\\w+\\.txt', s) "
      ],
      "execution_count": 40,
      "outputs": [
        {
          "output_type": "execute_result",
          "data": {
            "text/plain": [
              "[' b.txt']"
            ]
          },
          "metadata": {
            "tags": []
          },
          "execution_count": 40
        }
      ]
    },
    {
      "cell_type": "code",
      "metadata": {
        "id": "VxXEGaTlrQ3K",
        "colab_type": "code",
        "colab": {
          "base_uri": "https://localhost:8080/",
          "height": 324
        },
        "outputId": "05f4f6b3-1028-479d-8971-e4182e0173c5"
      },
      "source": [
        "# Look behind ?<=  \n",
        "s = 'filed a.txt transferred, open b.txt transferred, filed c.txt deprecated, shredded d.txt deprecated'\n",
        "re.findall(r'(?<=filed|deprecated)\\s\\w+\\.txt', s) # doesn't work with words that are of different lengths"
      ],
      "execution_count": 43,
      "outputs": [
        {
          "output_type": "error",
          "ename": "error",
          "evalue": "ignored",
          "traceback": [
            "\u001b[0;31m---------------------------------------------------------------------------\u001b[0m",
            "\u001b[0;31merror\u001b[0m                                     Traceback (most recent call last)",
            "\u001b[0;32m<ipython-input-43-aed1c326422a>\u001b[0m in \u001b[0;36m<module>\u001b[0;34m()\u001b[0m\n\u001b[1;32m      1\u001b[0m \u001b[0ms\u001b[0m \u001b[0;34m=\u001b[0m \u001b[0;34m'filed a.txt transferred, open b.txt transferred, filed c.txt deprecated, shredded d.txt deprecated'\u001b[0m\u001b[0;34m\u001b[0m\u001b[0;34m\u001b[0m\u001b[0m\n\u001b[0;32m----> 2\u001b[0;31m \u001b[0mre\u001b[0m\u001b[0;34m.\u001b[0m\u001b[0mfindall\u001b[0m\u001b[0;34m(\u001b[0m\u001b[0;34mr'(?<=filed|deprecated)\\s\\w+\\.txt'\u001b[0m\u001b[0;34m,\u001b[0m \u001b[0ms\u001b[0m\u001b[0;34m)\u001b[0m\u001b[0;34m\u001b[0m\u001b[0;34m\u001b[0m\u001b[0m\n\u001b[0m",
            "\u001b[0;32m/usr/lib/python3.6/re.py\u001b[0m in \u001b[0;36mfindall\u001b[0;34m(pattern, string, flags)\u001b[0m\n\u001b[1;32m    220\u001b[0m \u001b[0;34m\u001b[0m\u001b[0m\n\u001b[1;32m    221\u001b[0m     Empty matches are included in the result.\"\"\"\n\u001b[0;32m--> 222\u001b[0;31m     \u001b[0;32mreturn\u001b[0m \u001b[0m_compile\u001b[0m\u001b[0;34m(\u001b[0m\u001b[0mpattern\u001b[0m\u001b[0;34m,\u001b[0m \u001b[0mflags\u001b[0m\u001b[0;34m)\u001b[0m\u001b[0;34m.\u001b[0m\u001b[0mfindall\u001b[0m\u001b[0;34m(\u001b[0m\u001b[0mstring\u001b[0m\u001b[0;34m)\u001b[0m\u001b[0;34m\u001b[0m\u001b[0;34m\u001b[0m\u001b[0m\n\u001b[0m\u001b[1;32m    223\u001b[0m \u001b[0;34m\u001b[0m\u001b[0m\n\u001b[1;32m    224\u001b[0m \u001b[0;32mdef\u001b[0m \u001b[0mfinditer\u001b[0m\u001b[0;34m(\u001b[0m\u001b[0mpattern\u001b[0m\u001b[0;34m,\u001b[0m \u001b[0mstring\u001b[0m\u001b[0;34m,\u001b[0m \u001b[0mflags\u001b[0m\u001b[0;34m=\u001b[0m\u001b[0;36m0\u001b[0m\u001b[0;34m)\u001b[0m\u001b[0;34m:\u001b[0m\u001b[0;34m\u001b[0m\u001b[0;34m\u001b[0m\u001b[0m\n",
            "\u001b[0;32m/usr/lib/python3.6/re.py\u001b[0m in \u001b[0;36m_compile\u001b[0;34m(pattern, flags)\u001b[0m\n\u001b[1;32m    299\u001b[0m     \u001b[0;32mif\u001b[0m \u001b[0;32mnot\u001b[0m \u001b[0msre_compile\u001b[0m\u001b[0;34m.\u001b[0m\u001b[0misstring\u001b[0m\u001b[0;34m(\u001b[0m\u001b[0mpattern\u001b[0m\u001b[0;34m)\u001b[0m\u001b[0;34m:\u001b[0m\u001b[0;34m\u001b[0m\u001b[0;34m\u001b[0m\u001b[0m\n\u001b[1;32m    300\u001b[0m         \u001b[0;32mraise\u001b[0m \u001b[0mTypeError\u001b[0m\u001b[0;34m(\u001b[0m\u001b[0;34m\"first argument must be string or compiled pattern\"\u001b[0m\u001b[0;34m)\u001b[0m\u001b[0;34m\u001b[0m\u001b[0;34m\u001b[0m\u001b[0m\n\u001b[0;32m--> 301\u001b[0;31m     \u001b[0mp\u001b[0m \u001b[0;34m=\u001b[0m \u001b[0msre_compile\u001b[0m\u001b[0;34m.\u001b[0m\u001b[0mcompile\u001b[0m\u001b[0;34m(\u001b[0m\u001b[0mpattern\u001b[0m\u001b[0;34m,\u001b[0m \u001b[0mflags\u001b[0m\u001b[0;34m)\u001b[0m\u001b[0;34m\u001b[0m\u001b[0;34m\u001b[0m\u001b[0m\n\u001b[0m\u001b[1;32m    302\u001b[0m     \u001b[0;32mif\u001b[0m \u001b[0;32mnot\u001b[0m \u001b[0;34m(\u001b[0m\u001b[0mflags\u001b[0m \u001b[0;34m&\u001b[0m \u001b[0mDEBUG\u001b[0m\u001b[0;34m)\u001b[0m\u001b[0;34m:\u001b[0m\u001b[0;34m\u001b[0m\u001b[0;34m\u001b[0m\u001b[0m\n\u001b[1;32m    303\u001b[0m         \u001b[0;32mif\u001b[0m \u001b[0mlen\u001b[0m\u001b[0;34m(\u001b[0m\u001b[0m_cache\u001b[0m\u001b[0;34m)\u001b[0m \u001b[0;34m>=\u001b[0m \u001b[0m_MAXCACHE\u001b[0m\u001b[0;34m:\u001b[0m\u001b[0;34m\u001b[0m\u001b[0;34m\u001b[0m\u001b[0m\n",
            "\u001b[0;32m/usr/lib/python3.6/sre_compile.py\u001b[0m in \u001b[0;36mcompile\u001b[0;34m(p, flags)\u001b[0m\n\u001b[1;32m    564\u001b[0m         \u001b[0mpattern\u001b[0m \u001b[0;34m=\u001b[0m \u001b[0;32mNone\u001b[0m\u001b[0;34m\u001b[0m\u001b[0;34m\u001b[0m\u001b[0m\n\u001b[1;32m    565\u001b[0m \u001b[0;34m\u001b[0m\u001b[0m\n\u001b[0;32m--> 566\u001b[0;31m     \u001b[0mcode\u001b[0m \u001b[0;34m=\u001b[0m \u001b[0m_code\u001b[0m\u001b[0;34m(\u001b[0m\u001b[0mp\u001b[0m\u001b[0;34m,\u001b[0m \u001b[0mflags\u001b[0m\u001b[0;34m)\u001b[0m\u001b[0;34m\u001b[0m\u001b[0;34m\u001b[0m\u001b[0m\n\u001b[0m\u001b[1;32m    567\u001b[0m \u001b[0;34m\u001b[0m\u001b[0m\n\u001b[1;32m    568\u001b[0m     \u001b[0;31m# print(code)\u001b[0m\u001b[0;34m\u001b[0m\u001b[0;34m\u001b[0m\u001b[0;34m\u001b[0m\u001b[0m\n",
            "\u001b[0;32m/usr/lib/python3.6/sre_compile.py\u001b[0m in \u001b[0;36m_code\u001b[0;34m(p, flags)\u001b[0m\n\u001b[1;32m    549\u001b[0m \u001b[0;34m\u001b[0m\u001b[0m\n\u001b[1;32m    550\u001b[0m     \u001b[0;31m# compile the pattern\u001b[0m\u001b[0;34m\u001b[0m\u001b[0;34m\u001b[0m\u001b[0;34m\u001b[0m\u001b[0m\n\u001b[0;32m--> 551\u001b[0;31m     \u001b[0m_compile\u001b[0m\u001b[0;34m(\u001b[0m\u001b[0mcode\u001b[0m\u001b[0;34m,\u001b[0m \u001b[0mp\u001b[0m\u001b[0;34m.\u001b[0m\u001b[0mdata\u001b[0m\u001b[0;34m,\u001b[0m \u001b[0mflags\u001b[0m\u001b[0;34m)\u001b[0m\u001b[0;34m\u001b[0m\u001b[0;34m\u001b[0m\u001b[0m\n\u001b[0m\u001b[1;32m    552\u001b[0m \u001b[0;34m\u001b[0m\u001b[0m\n\u001b[1;32m    553\u001b[0m     \u001b[0mcode\u001b[0m\u001b[0;34m.\u001b[0m\u001b[0mappend\u001b[0m\u001b[0;34m(\u001b[0m\u001b[0mSUCCESS\u001b[0m\u001b[0;34m)\u001b[0m\u001b[0;34m\u001b[0m\u001b[0;34m\u001b[0m\u001b[0m\n",
            "\u001b[0;32m/usr/lib/python3.6/sre_compile.py\u001b[0m in \u001b[0;36m_compile\u001b[0;34m(code, pattern, flags)\u001b[0m\n\u001b[1;32m    158\u001b[0m                 \u001b[0mlo\u001b[0m\u001b[0;34m,\u001b[0m \u001b[0mhi\u001b[0m \u001b[0;34m=\u001b[0m \u001b[0mav\u001b[0m\u001b[0;34m[\u001b[0m\u001b[0;36m1\u001b[0m\u001b[0;34m]\u001b[0m\u001b[0;34m.\u001b[0m\u001b[0mgetwidth\u001b[0m\u001b[0;34m(\u001b[0m\u001b[0;34m)\u001b[0m\u001b[0;34m\u001b[0m\u001b[0;34m\u001b[0m\u001b[0m\n\u001b[1;32m    159\u001b[0m                 \u001b[0;32mif\u001b[0m \u001b[0mlo\u001b[0m \u001b[0;34m!=\u001b[0m \u001b[0mhi\u001b[0m\u001b[0;34m:\u001b[0m\u001b[0;34m\u001b[0m\u001b[0;34m\u001b[0m\u001b[0m\n\u001b[0;32m--> 160\u001b[0;31m                     \u001b[0;32mraise\u001b[0m \u001b[0merror\u001b[0m\u001b[0;34m(\u001b[0m\u001b[0;34m\"look-behind requires fixed-width pattern\"\u001b[0m\u001b[0;34m)\u001b[0m\u001b[0;34m\u001b[0m\u001b[0;34m\u001b[0m\u001b[0m\n\u001b[0m\u001b[1;32m    161\u001b[0m                 \u001b[0memit\u001b[0m\u001b[0;34m(\u001b[0m\u001b[0mlo\u001b[0m\u001b[0;34m)\u001b[0m \u001b[0;31m# look behind\u001b[0m\u001b[0;34m\u001b[0m\u001b[0;34m\u001b[0m\u001b[0m\n\u001b[1;32m    162\u001b[0m             \u001b[0m_compile\u001b[0m\u001b[0;34m(\u001b[0m\u001b[0mcode\u001b[0m\u001b[0;34m,\u001b[0m \u001b[0mav\u001b[0m\u001b[0;34m[\u001b[0m\u001b[0;36m1\u001b[0m\u001b[0;34m]\u001b[0m\u001b[0;34m,\u001b[0m \u001b[0mflags\u001b[0m\u001b[0;34m)\u001b[0m\u001b[0;34m\u001b[0m\u001b[0;34m\u001b[0m\u001b[0m\n",
            "\u001b[0;31merror\u001b[0m: look-behind requires fixed-width pattern"
          ]
        }
      ]
    },
    {
      "cell_type": "code",
      "metadata": {
        "id": "DAE-qandsK0K",
        "colab_type": "code",
        "colab": {
          "base_uri": "https://localhost:8080/",
          "height": 34
        },
        "outputId": "af543cf7-9208-40d4-c8ad-dc98b4edf11f"
      },
      "source": [
        "# Look behind ?<=  \n",
        "s = 'filed a.txt transferred, open b.txt transferred, filed c.txt deprecated, shredded d.txt depre'\n",
        "re.findall(r'(?<=filed|depre)\\s\\w+\\.txt', s)"
      ],
      "execution_count": 44,
      "outputs": [
        {
          "output_type": "execute_result",
          "data": {
            "text/plain": [
              "[' a.txt', ' c.txt']"
            ]
          },
          "metadata": {
            "tags": []
          },
          "execution_count": 44
        }
      ]
    },
    {
      "cell_type": "code",
      "metadata": {
        "id": "pBznDyTOuD6v",
        "colab_type": "code",
        "colab": {}
      },
      "source": [
        "look_behind = re.findall(r\"(?<=[Pp]ython\\s)\\w+\", sentiment_analysis)"
      ],
      "execution_count": 0,
      "outputs": []
    }
  ]
}